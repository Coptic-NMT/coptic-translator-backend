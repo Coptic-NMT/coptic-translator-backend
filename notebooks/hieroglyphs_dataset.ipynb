{
 "cells": [
  {
   "cell_type": "code",
   "execution_count": 1,
   "metadata": {},
   "outputs": [
    {
     "name": "stdout",
     "output_type": "stream",
     "text": [
      "/mnt/storage/maxenis/coptic-machine-translation\n"
     ]
    }
   ],
   "source": [
    "%cd /mnt/storage/maxenis/coptic-machine-translation"
   ]
  },
  {
   "cell_type": "code",
   "execution_count": 2,
   "metadata": {},
   "outputs": [],
   "source": [
    "import pandas as pd\n",
    "import datasets"
   ]
  },
  {
   "cell_type": "code",
   "execution_count": 215,
   "metadata": {},
   "outputs": [],
   "source": [
    "dataset = datasets.load_dataset(\"bbaw_egyptian\")"
   ]
  },
  {
   "cell_type": "code",
   "execution_count": 216,
   "metadata": {},
   "outputs": [],
   "source": [
    "data = dataset['train'].to_pandas()"
   ]
  },
  {
   "cell_type": "code",
   "execution_count": 217,
   "metadata": {},
   "outputs": [
    {
     "data": {
      "text/html": [
       "<div>\n",
       "<style scoped>\n",
       "    .dataframe tbody tr th:only-of-type {\n",
       "        vertical-align: middle;\n",
       "    }\n",
       "\n",
       "    .dataframe tbody tr th {\n",
       "        vertical-align: top;\n",
       "    }\n",
       "\n",
       "    .dataframe thead th {\n",
       "        text-align: right;\n",
       "    }\n",
       "</style>\n",
       "<table border=\"1\" class=\"dataframe\">\n",
       "  <thead>\n",
       "    <tr style=\"text-align: right;\">\n",
       "      <th></th>\n",
       "      <th>transcription</th>\n",
       "      <th>translation</th>\n",
       "      <th>hieroglyphs</th>\n",
       "    </tr>\n",
       "  </thead>\n",
       "  <tbody>\n",
       "    <tr>\n",
       "      <th>0</th>\n",
       "      <td>⸢pḏ,wt-9⸣   n =f   [⸮ḥtr?]   ⸢m⸣</td>\n",
       "      <td>... die Neun-Bogenvölker ... zu ihm ... Pferde...</td>\n",
       "      <td></td>\n",
       "    </tr>\n",
       "    <tr>\n",
       "      <th>1</th>\n",
       "      <td>ḥtr tp,j ꜥꜣ n ḥm =f Ꜥꜣ-nḫt,w</td>\n",
       "      <td>[Pferde]: Das erste große Pfergespann seiner M...</td>\n",
       "      <td></td>\n",
       "    </tr>\n",
       "    <tr>\n",
       "      <th>2</th>\n",
       "      <td>⸢wr⸣.pl ⸢ꜥꜣi̯⸣.pl n.w ⸢Rṯn,w⸣ ⸢jni̯⸣ ⸢ḥm⸣ ⸢=f⸣...</td>\n",
       "      <td>[Gefangene]: Die großen Oberhäupter von Retjen...</td>\n",
       "      <td></td>\n",
       "    </tr>\n",
       "    <tr>\n",
       "      <th>3</th>\n",
       "      <td>ḏd-mdw jn ꜣs,t wr,t mw,t-nṯr</td>\n",
       "      <td>Worte sprechen durch Isis, die Große, die Gott...</td>\n",
       "      <td></td>\n",
       "    </tr>\n",
       "    <tr>\n",
       "      <th>4</th>\n",
       "      <td>sꜣ =j mri̯ =j Rꜥw-msi̯-sw-mri̯-Jmn ⸢ꜥḥꜥ,w⸣ =k ...</td>\n",
       "      <td>\"Mein geliebter Sohn Ramses-meriamun, deine Le...</td>\n",
       "      <td></td>\n",
       "    </tr>\n",
       "  </tbody>\n",
       "</table>\n",
       "</div>"
      ],
      "text/plain": [
       "                                       transcription  \\\n",
       "0                 ⸢pḏ,wt-9⸣   n =f   [⸮ḥtr?]   ⸢m⸣     \n",
       "1                       ḥtr tp,j ꜥꜣ n ḥm =f Ꜥꜣ-nḫt,w   \n",
       "2  ⸢wr⸣.pl ⸢ꜥꜣi̯⸣.pl n.w ⸢Rṯn,w⸣ ⸢jni̯⸣ ⸢ḥm⸣ ⸢=f⸣...   \n",
       "3                       ḏd-mdw jn ꜣs,t wr,t mw,t-nṯr   \n",
       "4  sꜣ =j mri̯ =j Rꜥw-msi̯-sw-mri̯-Jmn ⸢ꜥḥꜥ,w⸣ =k ...   \n",
       "\n",
       "                                         translation hieroglyphs  \n",
       "0  ... die Neun-Bogenvölker ... zu ihm ... Pferde...              \n",
       "1  [Pferde]: Das erste große Pfergespann seiner M...              \n",
       "2  [Gefangene]: Die großen Oberhäupter von Retjen...              \n",
       "3  Worte sprechen durch Isis, die Große, die Gott...              \n",
       "4  \"Mein geliebter Sohn Ramses-meriamun, deine Le...              "
      ]
     },
     "execution_count": 217,
     "metadata": {},
     "output_type": "execute_result"
    }
   ],
   "source": [
    "data.head()"
   ]
  },
  {
   "cell_type": "code",
   "execution_count": 218,
   "metadata": {},
   "outputs": [],
   "source": [
    "data = data[~data[\"transcription\"].isnull()]"
   ]
  },
  {
   "cell_type": "code",
   "execution_count": 219,
   "metadata": {},
   "outputs": [],
   "source": [
    "data = data[~data[\"transcription\"].str.contains(\":|≡|~|\\(|\\)|〈|〈|\\[|\\]|\\{|\\}|⸢|⸣|⸮|\\?|=\")]"
   ]
  },
  {
   "cell_type": "code",
   "execution_count": 220,
   "metadata": {},
   "outputs": [
    {
     "data": {
      "text/html": [
       "<div>\n",
       "<style scoped>\n",
       "    .dataframe tbody tr th:only-of-type {\n",
       "        vertical-align: middle;\n",
       "    }\n",
       "\n",
       "    .dataframe tbody tr th {\n",
       "        vertical-align: top;\n",
       "    }\n",
       "\n",
       "    .dataframe thead th {\n",
       "        text-align: right;\n",
       "    }\n",
       "</style>\n",
       "<table border=\"1\" class=\"dataframe\">\n",
       "  <thead>\n",
       "    <tr style=\"text-align: right;\">\n",
       "      <th></th>\n",
       "      <th>transcription</th>\n",
       "      <th>translation</th>\n",
       "      <th>hieroglyphs</th>\n",
       "    </tr>\n",
       "  </thead>\n",
       "  <tbody>\n",
       "    <tr>\n",
       "      <th>3</th>\n",
       "      <td>ḏd-mdw jn ꜣs,t wr,t mw,t-nṯr</td>\n",
       "      <td>Worte sprechen durch Isis, die Große, die Gott...</td>\n",
       "      <td></td>\n",
       "    </tr>\n",
       "    <tr>\n",
       "      <th>10</th>\n",
       "      <td>jtn pri̯ ṯꜣ,pl  ḥꜣ,tj n jm,j Jwn,w</td>\n",
       "      <td>Die Sonnenscheibe, die herauskommt, der Windha...</td>\n",
       "      <td></td>\n",
       "    </tr>\n",
       "    <tr>\n",
       "      <th>28</th>\n",
       "      <td>Mn-Mꜣꜥ,t-Rꜥw  Stẖ,y-mr-n-Jmn</td>\n",
       "      <td>[König] Men-Maat-Re, Sethos-mer-en-Imen</td>\n",
       "      <td></td>\n",
       "    </tr>\n",
       "    <tr>\n",
       "      <th>29</th>\n",
       "      <td>Nḫb,t  ḥḏ,t-Nḫn</td>\n",
       "      <td>[Geiergöttin] Nechbet, die Weiße von Nechen</td>\n",
       "      <td></td>\n",
       "    </tr>\n",
       "    <tr>\n",
       "      <th>32</th>\n",
       "      <td>Ḥr,w Kꜣ-nḫt-ḫꜥ-m-Wꜣs,t-sꜥnḫ-tꜣ,wj  nswt-bj,tj ...</td>\n",
       "      <td>[König und rhetorischer Text]: Horus: Ka-nacht...</td>\n",
       "      <td></td>\n",
       "    </tr>\n",
       "  </tbody>\n",
       "</table>\n",
       "</div>"
      ],
      "text/plain": [
       "                                        transcription  \\\n",
       "3                        ḏd-mdw jn ꜣs,t wr,t mw,t-nṯr   \n",
       "10                 jtn pri̯ ṯꜣ,pl  ḥꜣ,tj n jm,j Jwn,w   \n",
       "28                       Mn-Mꜣꜥ,t-Rꜥw  Stẖ,y-mr-n-Jmn   \n",
       "29                                    Nḫb,t  ḥḏ,t-Nḫn   \n",
       "32  Ḥr,w Kꜣ-nḫt-ḫꜥ-m-Wꜣs,t-sꜥnḫ-tꜣ,wj  nswt-bj,tj ...   \n",
       "\n",
       "                                          translation hieroglyphs  \n",
       "3   Worte sprechen durch Isis, die Große, die Gott...              \n",
       "10  Die Sonnenscheibe, die herauskommt, der Windha...              \n",
       "28            [König] Men-Maat-Re, Sethos-mer-en-Imen              \n",
       "29        [Geiergöttin] Nechbet, die Weiße von Nechen              \n",
       "32  [König und rhetorischer Text]: Horus: Ka-nacht...              "
      ]
     },
     "execution_count": 220,
     "metadata": {},
     "output_type": "execute_result"
    }
   ],
   "source": [
    "data.head()"
   ]
  },
  {
   "cell_type": "code",
   "execution_count": 221,
   "metadata": {},
   "outputs": [],
   "source": [
    "ROMANIZE_MAP = {\n",
    "    \"ꜣ\": \"a\",\n",
    "    \"ꜥ\": \"a\",\n",
    "    \"ḥ\": \"h\",\n",
    "    \"ẖ\": \"kh\",\n",
    "    \"ḫ\": \"kh\",\n",
    "    \"ẖ\": \"kh\",\n",
    "    \"š\": \"sh\",\n",
    "    \"ṯ\": \"ch\",\n",
    "    \"ḏ\": \"dg\",\n",
    "    \"i̯\": \"i\",\n",
    "    \"ʾ\": \"a\",\n",
    "    \"u̯\": \"u\",\n",
    "    \"ṱ\": \"t\",\n",
    "}"
   ]
  },
  {
   "cell_type": "code",
   "execution_count": 222,
   "metadata": {},
   "outputs": [],
   "source": [
    "DEROMANIZE_MAP = {v: k for k, v in ROMANIZE_MAP.items()}"
   ]
  },
  {
   "cell_type": "code",
   "execution_count": 223,
   "metadata": {},
   "outputs": [],
   "source": [
    "data = data.rename(columns={\"transcription\": \"norm_group\"})"
   ]
  },
  {
   "cell_type": "code",
   "execution_count": 224,
   "metadata": {},
   "outputs": [],
   "source": [
    "# Replace \"-\" with \" \"\n",
    "data[\"norm\"] = data[\"norm_group\"].str.replace(\"-\", \" \")"
   ]
  },
  {
   "cell_type": "code",
   "execution_count": 225,
   "metadata": {},
   "outputs": [],
   "source": [
    "# Replace \"-\" with \"\" in norm_group\n",
    "data[\"norm_group\"] = data[\"norm_group\"].str.replace(\"-\", \"\")"
   ]
  },
  {
   "cell_type": "code",
   "execution_count": 226,
   "metadata": {},
   "outputs": [],
   "source": [
    "# make all data in norm and norm_group lower case\n",
    "data[\"norm\"] = data[\"norm\"].str.lower()\n",
    "data[\"norm_group\"] = data[\"norm_group\"].str.lower()"
   ]
  },
  {
   "cell_type": "code",
   "execution_count": 227,
   "metadata": {},
   "outputs": [],
   "source": [
    "# map letters to their romanized counterparts in both norm_group and norm\n",
    "for k, v in ROMANIZE_MAP.items():\n",
    "    data[\"norm_group\"] = data[\"norm_group\"].str.replace(k, v)\n",
    "    data[\"norm\"] = data[\"norm\"].str.replace(k, v)"
   ]
  },
  {
   "cell_type": "code",
   "execution_count": 228,
   "metadata": {},
   "outputs": [],
   "source": [
    "data[\"norm\"] = data[\"norm\"].str.replace(\",\", \", \")\n",
    "data[\"norm\"] = data[\"norm\"].str.replace(r\"\\,\\s+\", \", \", regex=True)\n",
    "# do same with norm_group\n",
    "data[\"norm_group\"] = data[\"norm_group\"].str.replace(\",\", \", \")\n",
    "data[\"norm_group\"] = data[\"norm_group\"].str.replace(r\"\\,\\s+\", \", \", regex=True)\n",
    "\n",
    "# Do the same with periods\n",
    "data[\"norm\"] = data[\"norm\"].str.replace(\".\", \". \")\n",
    "data[\"norm\"] = data[\"norm\"].str.replace(r\"\\.\\s+\", \". \", regex=True)\n",
    "# do same with norm_group\n",
    "data[\"norm_group\"] = data[\"norm_group\"].str.replace(\".\", \". \")\n",
    "data[\"norm_group\"] = data[\"norm_group\"].str.replace(r\"\\.\\s+\", \". \", regex=True)"
   ]
  },
  {
   "cell_type": "code",
   "execution_count": 229,
   "metadata": {},
   "outputs": [],
   "source": [
    "# strip whitespace\n",
    "data[\"norm\"] = data[\"norm\"].str.strip()\n",
    "data[\"norm_group\"] = data[\"norm_group\"].str.strip()"
   ]
  },
  {
   "cell_type": "code",
   "execution_count": 230,
   "metadata": {},
   "outputs": [
    {
     "data": {
      "text/html": [
       "<div>\n",
       "<style scoped>\n",
       "    .dataframe tbody tr th:only-of-type {\n",
       "        vertical-align: middle;\n",
       "    }\n",
       "\n",
       "    .dataframe tbody tr th {\n",
       "        vertical-align: top;\n",
       "    }\n",
       "\n",
       "    .dataframe thead th {\n",
       "        text-align: right;\n",
       "    }\n",
       "</style>\n",
       "<table border=\"1\" class=\"dataframe\">\n",
       "  <thead>\n",
       "    <tr style=\"text-align: right;\">\n",
       "      <th></th>\n",
       "      <th>norm_group</th>\n",
       "      <th>translation</th>\n",
       "      <th>hieroglyphs</th>\n",
       "      <th>norm</th>\n",
       "    </tr>\n",
       "  </thead>\n",
       "  <tbody>\n",
       "    <tr>\n",
       "      <th>3</th>\n",
       "      <td>dgdmdw jn as, t wr, t mw, tnchr</td>\n",
       "      <td>Worte sprechen durch Isis, die Große, die Gott...</td>\n",
       "      <td></td>\n",
       "      <td>dgd mdw jn as, t wr, t mw, t nchr</td>\n",
       "    </tr>\n",
       "    <tr>\n",
       "      <th>10</th>\n",
       "      <td>jtn pri cha, pl  ha, tj n jm, j jwn, w</td>\n",
       "      <td>Die Sonnenscheibe, die herauskommt, der Windha...</td>\n",
       "      <td></td>\n",
       "      <td>jtn pri cha, pl  ha, tj n jm, j jwn, w</td>\n",
       "    </tr>\n",
       "    <tr>\n",
       "      <th>28</th>\n",
       "      <td>mnmaa, traw  stkh, ymrnjmn</td>\n",
       "      <td>[König] Men-Maat-Re, Sethos-mer-en-Imen</td>\n",
       "      <td></td>\n",
       "      <td>mn maa, t raw  stkh, y mr n jmn</td>\n",
       "    </tr>\n",
       "    <tr>\n",
       "      <th>29</th>\n",
       "      <td>nkhb, t  hdg, tnkhn</td>\n",
       "      <td>[Geiergöttin] Nechbet, die Weiße von Nechen</td>\n",
       "      <td></td>\n",
       "      <td>nkhb, t  hdg, t nkhn</td>\n",
       "    </tr>\n",
       "    <tr>\n",
       "      <th>32</th>\n",
       "      <td>hr, w kankhtkhamwas, tsankhta, wj  nswtbj, tj ...</td>\n",
       "      <td>[König und rhetorischer Text]: Horus: Ka-nacht...</td>\n",
       "      <td></td>\n",
       "      <td>hr, w ka nkht kha m was, t sankh ta, wj  nswt ...</td>\n",
       "    </tr>\n",
       "  </tbody>\n",
       "</table>\n",
       "</div>"
      ],
      "text/plain": [
       "                                           norm_group  \\\n",
       "3                     dgdmdw jn as, t wr, t mw, tnchr   \n",
       "10             jtn pri cha, pl  ha, tj n jm, j jwn, w   \n",
       "28                         mnmaa, traw  stkh, ymrnjmn   \n",
       "29                                nkhb, t  hdg, tnkhn   \n",
       "32  hr, w kankhtkhamwas, tsankhta, wj  nswtbj, tj ...   \n",
       "\n",
       "                                          translation hieroglyphs  \\\n",
       "3   Worte sprechen durch Isis, die Große, die Gott...               \n",
       "10  Die Sonnenscheibe, die herauskommt, der Windha...               \n",
       "28            [König] Men-Maat-Re, Sethos-mer-en-Imen               \n",
       "29        [Geiergöttin] Nechbet, die Weiße von Nechen               \n",
       "32  [König und rhetorischer Text]: Horus: Ka-nacht...               \n",
       "\n",
       "                                                 norm  \n",
       "3                   dgd mdw jn as, t wr, t mw, t nchr  \n",
       "10             jtn pri cha, pl  ha, tj n jm, j jwn, w  \n",
       "28                    mn maa, t raw  stkh, y mr n jmn  \n",
       "29                               nkhb, t  hdg, t nkhn  \n",
       "32  hr, w ka nkht kha m was, t sankh ta, wj  nswt ...  "
      ]
     },
     "execution_count": 230,
     "metadata": {},
     "output_type": "execute_result"
    }
   ],
   "source": [
    "data.head()"
   ]
  },
  {
   "cell_type": "code",
   "execution_count": 231,
   "metadata": {},
   "outputs": [],
   "source": [
    "from parse_data import illegal"
   ]
  },
  {
   "cell_type": "code",
   "execution_count": 232,
   "metadata": {},
   "outputs": [],
   "source": [
    "legal = illegal.copy()\n",
    "legal.add(\",\")\n",
    "legal.add(\" \")\n",
    "legal.add(\".\")\n",
    "legal.add(\"!\")\n",
    "for i in range(100):\n",
    "    legal.add(str(i))"
   ]
  },
  {
   "cell_type": "code",
   "execution_count": 234,
   "metadata": {},
   "outputs": [],
   "source": [
    "data = data[~data[\"norm_group\"].apply(lambda x: legal.union(set(x)) != legal)]\n"
   ]
  },
  {
   "cell_type": "code",
   "execution_count": 237,
   "metadata": {},
   "outputs": [
    {
     "data": {
      "text/html": [
       "<div>\n",
       "<style scoped>\n",
       "    .dataframe tbody tr th:only-of-type {\n",
       "        vertical-align: middle;\n",
       "    }\n",
       "\n",
       "    .dataframe tbody tr th {\n",
       "        vertical-align: top;\n",
       "    }\n",
       "\n",
       "    .dataframe thead th {\n",
       "        text-align: right;\n",
       "    }\n",
       "</style>\n",
       "<table border=\"1\" class=\"dataframe\">\n",
       "  <thead>\n",
       "    <tr style=\"text-align: right;\">\n",
       "      <th></th>\n",
       "      <th>norm_group</th>\n",
       "      <th>translation</th>\n",
       "      <th>hieroglyphs</th>\n",
       "      <th>norm</th>\n",
       "    </tr>\n",
       "  </thead>\n",
       "  <tbody>\n",
       "    <tr>\n",
       "      <th>3</th>\n",
       "      <td>dgdmdw jn as, t wr, t mw, tnchr</td>\n",
       "      <td>Worte sprechen durch Isis, die Große, die Gott...</td>\n",
       "      <td></td>\n",
       "      <td>dgd mdw jn as, t wr, t mw, t nchr</td>\n",
       "    </tr>\n",
       "    <tr>\n",
       "      <th>10</th>\n",
       "      <td>jtn pri cha, pl  ha, tj n jm, j jwn, w</td>\n",
       "      <td>Die Sonnenscheibe, die herauskommt, der Windha...</td>\n",
       "      <td></td>\n",
       "      <td>jtn pri cha, pl  ha, tj n jm, j jwn, w</td>\n",
       "    </tr>\n",
       "    <tr>\n",
       "      <th>28</th>\n",
       "      <td>mnmaa, traw  stkh, ymrnjmn</td>\n",
       "      <td>[König] Men-Maat-Re, Sethos-mer-en-Imen</td>\n",
       "      <td></td>\n",
       "      <td>mn maa, t raw  stkh, y mr n jmn</td>\n",
       "    </tr>\n",
       "    <tr>\n",
       "      <th>29</th>\n",
       "      <td>nkhb, t  hdg, tnkhn</td>\n",
       "      <td>[Geiergöttin] Nechbet, die Weiße von Nechen</td>\n",
       "      <td></td>\n",
       "      <td>nkhb, t  hdg, t nkhn</td>\n",
       "    </tr>\n",
       "    <tr>\n",
       "      <th>32</th>\n",
       "      <td>hr, w kankhtkhamwas, tsankhta, wj  nswtbj, tj ...</td>\n",
       "      <td>[König und rhetorischer Text]: Horus: Ka-nacht...</td>\n",
       "      <td></td>\n",
       "      <td>hr, w ka nkht kha m was, t sankh ta, wj  nswt ...</td>\n",
       "    </tr>\n",
       "  </tbody>\n",
       "</table>\n",
       "</div>"
      ],
      "text/plain": [
       "                                           norm_group  \\\n",
       "3                     dgdmdw jn as, t wr, t mw, tnchr   \n",
       "10             jtn pri cha, pl  ha, tj n jm, j jwn, w   \n",
       "28                         mnmaa, traw  stkh, ymrnjmn   \n",
       "29                                nkhb, t  hdg, tnkhn   \n",
       "32  hr, w kankhtkhamwas, tsankhta, wj  nswtbj, tj ...   \n",
       "\n",
       "                                          translation hieroglyphs  \\\n",
       "3   Worte sprechen durch Isis, die Große, die Gott...               \n",
       "10  Die Sonnenscheibe, die herauskommt, der Windha...               \n",
       "28            [König] Men-Maat-Re, Sethos-mer-en-Imen               \n",
       "29        [Geiergöttin] Nechbet, die Weiße von Nechen               \n",
       "32  [König und rhetorischer Text]: Horus: Ka-nacht...               \n",
       "\n",
       "                                                 norm  \n",
       "3                   dgd mdw jn as, t wr, t mw, t nchr  \n",
       "10             jtn pri cha, pl  ha, tj n jm, j jwn, w  \n",
       "28                    mn maa, t raw  stkh, y mr n jmn  \n",
       "29                               nkhb, t  hdg, t nkhn  \n",
       "32  hr, w ka nkht kha m was, t sankh ta, wj  nswt ...  "
      ]
     },
     "execution_count": 237,
     "metadata": {},
     "output_type": "execute_result"
    }
   ],
   "source": [
    "data.head()"
   ]
  },
  {
   "cell_type": "code",
   "execution_count": 238,
   "metadata": {},
   "outputs": [],
   "source": [
    "data.to_csv(\"datasets/heiroglyph_data.csv\", index=False)"
   ]
  },
  {
   "cell_type": "code",
   "execution_count": 254,
   "metadata": {},
   "outputs": [],
   "source": [
    "data = pd.read_csv(\"datasets/heiroglyph_data.csv\")"
   ]
  },
  {
   "cell_type": "code",
   "execution_count": 255,
   "metadata": {},
   "outputs": [],
   "source": [
    "data = data[~data[\"translation\"].isnull()]"
   ]
  },
  {
   "cell_type": "code",
   "execution_count": 256,
   "metadata": {},
   "outputs": [],
   "source": [
    "data = data[~data[\"translation\"].str.contains(\"\\.\\.\\.\")]"
   ]
  },
  {
   "cell_type": "code",
   "execution_count": 258,
   "metadata": {},
   "outputs": [],
   "source": [
    "data.to_csv(\"datasets/clean_heiroglyph_data.csv\")"
   ]
  },
  {
   "cell_type": "code",
   "execution_count": 267,
   "metadata": {},
   "outputs": [],
   "source": [
    "# remove duplicates with just one entry\n",
    "data = data.drop_duplicates(subset=[\"norm_group\"])\n"
   ]
  },
  {
   "cell_type": "code",
   "execution_count": 268,
   "metadata": {},
   "outputs": [],
   "source": [
    "data.to_csv(\"datasets/clean_heiroglyph_data.csv\", index=False)"
   ]
  },
  {
   "cell_type": "code",
   "execution_count": null,
   "metadata": {},
   "outputs": [],
   "source": []
  }
 ],
 "metadata": {
  "kernelspec": {
   "display_name": "coptic",
   "language": "python",
   "name": "python3"
  },
  "language_info": {
   "codemirror_mode": {
    "name": "ipython",
    "version": 3
   },
   "file_extension": ".py",
   "mimetype": "text/x-python",
   "name": "python",
   "nbconvert_exporter": "python",
   "pygments_lexer": "ipython3",
   "version": "3.11.0"
  }
 },
 "nbformat": 4,
 "nbformat_minor": 2
}
