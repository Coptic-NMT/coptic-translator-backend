{
 "cells": [
  {
   "cell_type": "code",
   "execution_count": 7,
   "metadata": {},
   "outputs": [
    {
     "name": "stdout",
     "output_type": "stream",
     "text": [
      "/mnt/storage/maxenis/coptic-machine-translation\n"
     ]
    }
   ],
   "source": [
    "%cd /mnt/storage/maxenis/coptic-machine-translation"
   ]
  },
  {
   "cell_type": "code",
   "execution_count": 8,
   "metadata": {},
   "outputs": [],
   "source": [
    "import datasets\n",
    "import pandas as pd\n"
   ]
  },
  {
   "cell_type": "code",
   "execution_count": 3,
   "metadata": {},
   "outputs": [
    {
     "ename": "FileNotFoundError",
     "evalue": "Directory datasets/cop-en-romanized not found",
     "output_type": "error",
     "traceback": [
      "\u001b[0;31m---------------------------------------------------------------------------\u001b[0m",
      "\u001b[0;31mFileNotFoundError\u001b[0m                         Traceback (most recent call last)",
      "\u001b[1;32m/mnt/storage/maxenis/coptic-machine-translation/notebooks/analyze_datasets.ipynb Cell 3\u001b[0m line \u001b[0;36m1\n\u001b[0;32m----> <a href='vscode-notebook-cell://ssh-remote%2Bappa.cs.williams.edu/mnt/storage/maxenis/coptic-machine-translation/notebooks/analyze_datasets.ipynb#W2sdnNjb2RlLXJlbW90ZQ%3D%3D?line=0'>1</a>\u001b[0m old_data \u001b[39m=\u001b[39m datasets\u001b[39m.\u001b[39mload_from_disk(\u001b[39m\"\u001b[39m\u001b[39mdatasets/cop-en-romanized\u001b[39m\u001b[39m\"\u001b[39m)\n\u001b[1;32m      <a href='vscode-notebook-cell://ssh-remote%2Bappa.cs.williams.edu/mnt/storage/maxenis/coptic-machine-translation/notebooks/analyze_datasets.ipynb#W2sdnNjb2RlLXJlbW90ZQ%3D%3D?line=1'>2</a>\u001b[0m new_data \u001b[39m=\u001b[39m datasets\u001b[39m.\u001b[39mload_from_disk(\u001b[39m\"\u001b[39m\u001b[39mdatasets/second-cop-en-romanized-norm\u001b[39m\u001b[39m\"\u001b[39m)\n",
      "File \u001b[0;32m/home/bizon/anaconda3/envs/coptic/lib/python3.11/site-packages/datasets/load.py:2244\u001b[0m, in \u001b[0;36mload_from_disk\u001b[0;34m(dataset_path, fs, keep_in_memory, storage_options)\u001b[0m\n\u001b[1;32m   2241\u001b[0m     path_join \u001b[39m=\u001b[39m os\u001b[39m.\u001b[39mpath\u001b[39m.\u001b[39mjoin\n\u001b[1;32m   2243\u001b[0m \u001b[39mif\u001b[39;00m \u001b[39mnot\u001b[39;00m fs\u001b[39m.\u001b[39mexists(dest_dataset_path):\n\u001b[0;32m-> 2244\u001b[0m     \u001b[39mraise\u001b[39;00m \u001b[39mFileNotFoundError\u001b[39;00m(\u001b[39mf\u001b[39m\u001b[39m\"\u001b[39m\u001b[39mDirectory \u001b[39m\u001b[39m{\u001b[39;00mdataset_path\u001b[39m}\u001b[39;00m\u001b[39m not found\u001b[39m\u001b[39m\"\u001b[39m)\n\u001b[1;32m   2245\u001b[0m \u001b[39mif\u001b[39;00m fs\u001b[39m.\u001b[39misfile(path_join(dest_dataset_path, config\u001b[39m.\u001b[39mDATASET_INFO_FILENAME)) \u001b[39mand\u001b[39;00m fs\u001b[39m.\u001b[39misfile(\n\u001b[1;32m   2246\u001b[0m     path_join(dest_dataset_path, config\u001b[39m.\u001b[39mDATASET_STATE_JSON_FILENAME)\n\u001b[1;32m   2247\u001b[0m ):\n\u001b[1;32m   2248\u001b[0m     \u001b[39mreturn\u001b[39;00m Dataset\u001b[39m.\u001b[39mload_from_disk(dataset_path, keep_in_memory\u001b[39m=\u001b[39mkeep_in_memory, storage_options\u001b[39m=\u001b[39mstorage_options)\n",
      "\u001b[0;31mFileNotFoundError\u001b[0m: Directory datasets/cop-en-romanized not found"
     ]
    }
   ],
   "source": [
    "old_data = datasets.load_from_disk(\"datasets/cop-en-romanized\")\n",
    "new_data = datasets.load_from_disk(\"datasets/second-cop-en-romanized-norm\")"
   ]
  },
  {
   "cell_type": "code",
   "execution_count": 4,
   "metadata": {},
   "outputs": [
    {
     "data": {
      "text/plain": [
       "DatasetDict({\n",
       "    train: Dataset({\n",
       "        features: ['eng', 'norm_group', 'norm', 'func', 'pos', 'arabic', 'meta::translation', 'meta::title', 'norm_romanized', 'translation'],\n",
       "        num_rows: 30655\n",
       "    })\n",
       "    test: Dataset({\n",
       "        features: ['eng', 'norm_group', 'norm', 'func', 'pos', 'arabic', 'meta::translation', 'meta::title', 'norm_romanized', 'translation'],\n",
       "        num_rows: 500\n",
       "    })\n",
       "    validation: Dataset({\n",
       "        features: ['eng', 'norm_group', 'norm', 'func', 'pos', 'arabic', 'meta::translation', 'meta::title', 'norm_romanized', 'translation'],\n",
       "        num_rows: 128\n",
       "    })\n",
       "})"
      ]
     },
     "execution_count": 4,
     "metadata": {},
     "output_type": "execute_result"
    }
   ],
   "source": [
    "old_data"
   ]
  },
  {
   "cell_type": "code",
   "execution_count": null,
   "metadata": {},
   "outputs": [
    {
     "data": {
      "text/plain": [
       "DatasetDict({\n",
       "    train: Dataset({\n",
       "        features: ['translation', 'norm_group', 'norm', 'func', 'pos', 'arabic', 'meta::translation', 'meta::title', 'norm_romanized', 'norm_group_romanized'],\n",
       "        num_rows: 31951\n",
       "    })\n",
       "    test: Dataset({\n",
       "        features: ['translation', 'norm_group', 'norm', 'func', 'pos', 'arabic', 'meta::translation', 'meta::title', 'norm_romanized', 'norm_group_romanized'],\n",
       "        num_rows: 500\n",
       "    })\n",
       "    validation: Dataset({\n",
       "        features: ['translation', 'norm_group', 'norm', 'func', 'pos', 'arabic', 'meta::translation', 'meta::title', 'norm_romanized', 'norm_group_romanized'],\n",
       "        num_rows: 128\n",
       "    })\n",
       "})"
      ]
     },
     "execution_count": 5,
     "metadata": {},
     "output_type": "execute_result"
    }
   ],
   "source": [
    "new_data"
   ]
  },
  {
   "cell_type": "code",
   "execution_count": null,
   "metadata": {},
   "outputs": [
    {
     "data": {
      "application/vnd.jupyter.widget-view+json": {
       "model_id": "4bbd5092420d489d9c6866b5d9f95022",
       "version_major": 2,
       "version_minor": 0
      },
      "text/plain": [
       "Filter:   0%|          | 0/30655 [00:00<?, ? examples/s]"
      ]
     },
     "metadata": {},
     "output_type": "display_data"
    },
    {
     "data": {
      "application/vnd.jupyter.widget-view+json": {
       "model_id": "e52f08c2a32540f0aee0741b34e0c07a",
       "version_major": 2,
       "version_minor": 0
      },
      "text/plain": [
       "Filter:   0%|          | 0/500 [00:00<?, ? examples/s]"
      ]
     },
     "metadata": {},
     "output_type": "display_data"
    },
    {
     "data": {
      "application/vnd.jupyter.widget-view+json": {
       "model_id": "a1dd4cfed19f434b92f742a5b06c7f07",
       "version_major": 2,
       "version_minor": 0
      },
      "text/plain": [
       "Filter:   0%|          | 0/128 [00:00<?, ? examples/s]"
      ]
     },
     "metadata": {},
     "output_type": "display_data"
    },
    {
     "data": {
      "text/plain": [
       "DatasetDict({\n",
       "    train: Dataset({\n",
       "        features: ['eng', 'norm_group', 'norm', 'func', 'pos', 'arabic', 'meta::translation', 'meta::title', 'norm_romanized', 'translation'],\n",
       "        num_rows: 21610\n",
       "    })\n",
       "    test: Dataset({\n",
       "        features: ['eng', 'norm_group', 'norm', 'func', 'pos', 'arabic', 'meta::translation', 'meta::title', 'norm_romanized', 'translation'],\n",
       "        num_rows: 343\n",
       "    })\n",
       "    validation: Dataset({\n",
       "        features: ['eng', 'norm_group', 'norm', 'func', 'pos', 'arabic', 'meta::translation', 'meta::title', 'norm_romanized', 'translation'],\n",
       "        num_rows: 100\n",
       "    })\n",
       "})"
      ]
     },
     "execution_count": 6,
     "metadata": {},
     "output_type": "execute_result"
    }
   ],
   "source": [
    "def startswith_num(s):\n",
    "    return (s[0].isdigit() or s[1].isdigit()) and s[0] in [\"1\", \"2\", \"3\"]\n",
    "\n",
    "# titles that start with number come from the old testament\n",
    "old_data.filter(lambda x: startswith_num(x[\"meta::title\"]))\n"
   ]
  },
  {
   "cell_type": "code",
   "execution_count": null,
   "metadata": {},
   "outputs": [],
   "source": [
    "new_data.filter(lambda x: startswith_num(x[\"meta::title\"]))"
   ]
  },
  {
   "cell_type": "code",
   "execution_count": 87,
   "metadata": {},
   "outputs": [
    {
     "data": {
      "text/html": [
       "<div>\n",
       "<style scoped>\n",
       "    .dataframe tbody tr th:only-of-type {\n",
       "        vertical-align: middle;\n",
       "    }\n",
       "\n",
       "    .dataframe tbody tr th {\n",
       "        vertical-align: top;\n",
       "    }\n",
       "\n",
       "    .dataframe thead th {\n",
       "        text-align: right;\n",
       "    }\n",
       "</style>\n",
       "<table border=\"1\" class=\"dataframe\">\n",
       "  <thead>\n",
       "    <tr style=\"text-align: right;\">\n",
       "      <th></th>\n",
       "      <th>meta::title</th>\n",
       "      <th>authors</th>\n",
       "      <th>count</th>\n",
       "    </tr>\n",
       "  </thead>\n",
       "  <tbody>\n",
       "    <tr>\n",
       "      <th>106</th>\n",
       "      <td>05_Deuteronomy_1</td>\n",
       "      <td>{The Septuagint Version of the Old Testament, ...</td>\n",
       "      <td>45</td>\n",
       "    </tr>\n",
       "    <tr>\n",
       "      <th>309</th>\n",
       "      <td>19_Psalms_104</td>\n",
       "      <td>{The Septuagint Version of the Old Testament, ...</td>\n",
       "      <td>45</td>\n",
       "    </tr>\n",
       "    <tr>\n",
       "      <th>693</th>\n",
       "      <td>40_Matthew_22</td>\n",
       "      <td>{World English Bible (WEB)}</td>\n",
       "      <td>45</td>\n",
       "    </tr>\n",
       "    <tr>\n",
       "      <th>707</th>\n",
       "      <td>41_Mark_1</td>\n",
       "      <td>{World English Bible (WEB)}</td>\n",
       "      <td>45</td>\n",
       "    </tr>\n",
       "    <tr>\n",
       "      <th>1136</th>\n",
       "      <td>Mark Chapter 1</td>\n",
       "      <td>{World English Bible (WEB)}</td>\n",
       "      <td>45</td>\n",
       "    </tr>\n",
       "  </tbody>\n",
       "</table>\n",
       "</div>"
      ],
      "text/plain": [
       "           meta::title                                            authors  \\\n",
       "106   05_Deuteronomy_1  {The Septuagint Version of the Old Testament, ...   \n",
       "309      19_Psalms_104  {The Septuagint Version of the Old Testament, ...   \n",
       "693      40_Matthew_22                        {World English Bible (WEB)}   \n",
       "707          41_Mark_1                        {World English Bible (WEB)}   \n",
       "1136    Mark Chapter 1                        {World English Bible (WEB)}   \n",
       "\n",
       "      count  \n",
       "106      45  \n",
       "309      45  \n",
       "693      45  \n",
       "707      45  \n",
       "1136     45  "
      ]
     },
     "execution_count": 87,
     "metadata": {},
     "output_type": "execute_result"
    }
   ],
   "source": [
    "data = pd.read_csv(\"datasets/clean_data.csv\")\n",
    "# display how many times each author appears\n",
    "# count how many times each title appears, and aggregate all authors which appear for these titles\n",
    "title_counts = data[\"meta::title\"].value_counts()\n",
    "# append column of all authors for each title\n",
    "title_df = data.groupby(\"meta::title\")[\"meta::translation\"].apply(set).reset_index(name=\"authors\")\n",
    "title_df[\"count\"] = title_df[\"meta::title\"].apply(lambda x: title_counts[x])\n",
    "title_df[title_df[\"count\"] == 45].sort_values(\"count\")"
   ]
  },
  {
   "cell_type": "code",
   "execution_count": null,
   "metadata": {},
   "outputs": [],
   "source": []
  }
 ],
 "metadata": {
  "kernelspec": {
   "display_name": "coptic",
   "language": "python",
   "name": "python3"
  },
  "language_info": {
   "codemirror_mode": {
    "name": "ipython",
    "version": 3
   },
   "file_extension": ".py",
   "mimetype": "text/x-python",
   "name": "python",
   "nbconvert_exporter": "python",
   "pygments_lexer": "ipython3",
   "version": "3.11.0"
  },
  "orig_nbformat": 4
 },
 "nbformat": 4,
 "nbformat_minor": 2
}
