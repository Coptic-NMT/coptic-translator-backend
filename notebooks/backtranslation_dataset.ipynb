{
 "cells": [
  {
   "cell_type": "code",
   "execution_count": 1,
   "metadata": {},
   "outputs": [
    {
     "name": "stdout",
     "output_type": "stream",
     "text": [
      "/mnt/storage/maxenis/coptic-machine-translation\n"
     ]
    }
   ],
   "source": [
    "%cd /mnt/storage/maxenis/coptic-machine-translation"
   ]
  },
  {
   "cell_type": "code",
   "execution_count": 7,
   "metadata": {},
   "outputs": [],
   "source": [
    "import pandas as pd\n",
    "import datasets\n",
    "import huggingface_model"
   ]
  },
  {
   "cell_type": "code",
   "execution_count": 8,
   "metadata": {},
   "outputs": [],
   "source": [
    "mono_data = pd.read_csv(\"datasets/monolingual_data_norm_romanized_translated.csv\")"
   ]
  },
  {
   "cell_type": "code",
   "execution_count": 10,
   "metadata": {},
   "outputs": [],
   "source": [
    "clean_data = pd.read_csv(\"datasets/clean_monolingual_data.csv\")"
   ]
  },
  {
   "cell_type": "code",
   "execution_count": 14,
   "metadata": {},
   "outputs": [],
   "source": [
    "clean_data[\"eng\"] = mono_data[\"eng\"]"
   ]
  },
  {
   "cell_type": "code",
   "execution_count": 16,
   "metadata": {},
   "outputs": [
    {
     "data": {
      "text/plain": [
       "Unnamed: 0                                                      587\n",
       "norm_group        ⲁⲩⲱ ⲉⲧⲣⲉⲧⲉⲧⲛⲧⲱⲡⲉ ⲉⲃⲟⲗ ⲛϩⲏⲧⲟⲩ ⲁⲩⲱ ⲡϣⲏⲛ ⲉⲧϩⲛⲧⲙⲏⲧ...\n",
       "norm              ⲁⲩⲱ ⲉ ⲧⲣⲉ ⲧⲉⲧⲛ ⲧⲱⲡⲉ ⲉⲃⲟⲗ ⲛϩⲏⲧ ⲟⲩ ⲁⲩⲱ ⲡ ϣⲏⲛ ⲉⲧ ...\n",
       "meta::title                        Apa Johannes Canons: FA[47]-[48]\n",
       "meta::source      Diliana Atanassova, The Canons of Apa John the...\n",
       "meta::corpus                                        johannes.canons\n",
       "norm_romanized    auaoou eie treie teietn tooupeie eievol nhht o...\n",
       "eng               and to make atonement for you, and to the tree...\n",
       "eng_confidence                                              0.80575\n",
       "Name: 587, dtype: object"
      ]
     },
     "execution_count": 16,
     "metadata": {},
     "output_type": "execute_result"
    }
   ],
   "source": [
    "mono_data.iloc[587]"
   ]
  },
  {
   "cell_type": "code",
   "execution_count": 20,
   "metadata": {},
   "outputs": [],
   "source": [
    "clean_data.drop(columns=[\"Unnamed: 0\"], inplace=True)"
   ]
  },
  {
   "cell_type": "code",
   "execution_count": 24,
   "metadata": {},
   "outputs": [],
   "source": [
    "parallel_data = datasets.load_from_disk(\"datasets/third-dataset/\")"
   ]
  },
  {
   "cell_type": "code",
   "execution_count": 25,
   "metadata": {},
   "outputs": [
    {
     "data": {
      "text/plain": [
       "DatasetDict({\n",
       "    train: Dataset({\n",
       "        features: ['Unnamed: 0.1', 'Unnamed: 0', 'eng', 'norm_group', 'norm', 'func', 'pos', 'arabic', 'meta::translation', 'meta::title', 'unnormalized', 'norm_romanized', 'norm_group_romanized', 'unnormalized_romanized', 'norm_greekified', 'norm_group_greekified', 'unnormalized_greekified'],\n",
       "        num_rows: 32136\n",
       "    })\n",
       "    validation: Dataset({\n",
       "        features: ['Unnamed: 0.1', 'Unnamed: 0', 'eng', 'norm_group', 'norm', 'func', 'pos', 'arabic', 'meta::translation', 'meta::title', 'unnormalized', 'norm_romanized', 'norm_group_romanized', 'unnormalized_romanized', 'norm_greekified', 'norm_group_greekified', 'unnormalized_greekified'],\n",
       "        num_rows: 145\n",
       "    })\n",
       "})"
      ]
     },
     "execution_count": 25,
     "metadata": {},
     "output_type": "execute_result"
    }
   ],
   "source": [
    "parallel_data"
   ]
  },
  {
   "cell_type": "code",
   "execution_count": 22,
   "metadata": {},
   "outputs": [],
   "source": [
    "dataset = datasets.Dataset.from_pandas(clean_data)"
   ]
  },
  {
   "cell_type": "code",
   "execution_count": 23,
   "metadata": {},
   "outputs": [
    {
     "data": {
      "text/plain": [
       "Dataset({\n",
       "    features: ['eng', 'norm_group', 'norm', 'func', 'pos', 'arabic', 'meta::translation', 'meta::title', 'meta::source', 'meta::corpus', 'unnormalized', 'norm_romanized', 'norm_group_romanized', 'unnormalized_romanized', 'norm_greekified', 'norm_group_greekified', 'unnormalized_greekified'],\n",
       "    num_rows: 5741\n",
       "})"
      ]
     },
     "execution_count": 23,
     "metadata": {},
     "output_type": "execute_result"
    }
   ],
   "source": [
    "dataset"
   ]
  },
  {
   "cell_type": "code",
   "execution_count": 27,
   "metadata": {},
   "outputs": [],
   "source": [
    "parallel_pandas = parallel_data[\"train\"].to_pandas()"
   ]
  },
  {
   "cell_type": "code",
   "execution_count": 36,
   "metadata": {},
   "outputs": [
    {
     "data": {
      "text/html": [
       "<div>\n",
       "<style scoped>\n",
       "    .dataframe tbody tr th:only-of-type {\n",
       "        vertical-align: middle;\n",
       "    }\n",
       "\n",
       "    .dataframe tbody tr th {\n",
       "        vertical-align: top;\n",
       "    }\n",
       "\n",
       "    .dataframe thead th {\n",
       "        text-align: right;\n",
       "    }\n",
       "</style>\n",
       "<table border=\"1\" class=\"dataframe\">\n",
       "  <thead>\n",
       "    <tr style=\"text-align: right;\">\n",
       "      <th></th>\n",
       "      <th>Unnamed: 0.1</th>\n",
       "      <th>Unnamed: 0</th>\n",
       "      <th>eng</th>\n",
       "      <th>norm_group</th>\n",
       "      <th>norm</th>\n",
       "      <th>func</th>\n",
       "      <th>pos</th>\n",
       "      <th>arabic</th>\n",
       "      <th>meta::translation</th>\n",
       "      <th>meta::title</th>\n",
       "      <th>unnormalized</th>\n",
       "      <th>norm_romanized</th>\n",
       "      <th>norm_group_romanized</th>\n",
       "      <th>unnormalized_romanized</th>\n",
       "      <th>norm_greekified</th>\n",
       "      <th>norm_group_greekified</th>\n",
       "      <th>unnormalized_greekified</th>\n",
       "    </tr>\n",
       "  </thead>\n",
       "  <tbody>\n",
       "    <tr>\n",
       "      <th>0</th>\n",
       "      <td>0</td>\n",
       "      <td>0</td>\n",
       "      <td>She labored to stop him, but she was not able to.</td>\n",
       "      <td>ⲛⲧⲟⲥ ⲇⲉ ⲁⲥϩⲓⲥⲉ ⲉⲥϣⲱϣⲧ ⲙⲙⲟϥ ⲙⲡⲉⲥϣϭⲙϭⲟⲙ ⲉⲣⲟϥ</td>\n",
       "      <td>ⲛⲧⲟⲥ ⲇⲉ ⲁ ⲥ ϩⲓⲥⲉ ⲉ ⲥ ϣⲱϣⲧ ⲙⲙⲟ ϥ ⲙⲡⲉ ⲥ ϣ ϭⲙϭⲟⲙ ...</td>\n",
       "      <td>dislocated advmod aux nsubj root mark nsubj ad...</td>\n",
       "      <td>PPERI PTC APST PPERS V CCIRC PPERS V PREP PPER...</td>\n",
       "      <td>أما هي فقد بذلت ما في وسعها لتعرقله ولم تقدر عليه</td>\n",
       "      <td>Christine Luckritz Marquis, Amir Zeldes</td>\n",
       "      <td>Apophthegmata Patrum Sahidic 001: Anonymous Na...</td>\n",
       "      <td>ⲛⲧⲟⲥⲇⲉⲁⲥϩⲓⲥⲉⲉⲥϣⲱϣⲧⲙⲙⲟϥⲙⲡⲉⲥϣϭⲙϭⲟⲙⲉⲣⲟϥ</td>\n",
       "      <td>ntos deie a s hiauseie eie s shoousht mmo f mp...</td>\n",
       "      <td>ntos deie ashiauseie eiesshoousht mmof mpeiess...</td>\n",
       "      <td>ntosdeieashiauseieeiesshooushtmmofmpeiesshshms...</td>\n",
       "      <td>ντοσ δε α σ hισε ε σ sωsτ μμο f μπε σ s cμcομ ...</td>\n",
       "      <td>ντοσ δε ασhισε εσsωsτ μμοf μπεσscμcομ εροf</td>\n",
       "      <td>ντοσδεασhισεεσsωsτμμοfμπεσscμcομεροf</td>\n",
       "    </tr>\n",
       "    <tr>\n",
       "      <th>1</th>\n",
       "      <td>1</td>\n",
       "      <td>1</td>\n",
       "      <td>Afterwards, she left him.</td>\n",
       "      <td>ⲙⲛⲛⲥⲱⲥ ⲁⲥⲕⲁⲁϥ ⲉⲃⲟⲗ .</td>\n",
       "      <td>ⲙⲛⲛⲥⲱ ⲥ ⲁ ⲥ ⲕⲁⲁ ϥ ⲉⲃⲟⲗ .</td>\n",
       "      <td>case obl aux nsubj root obj advmod punct</td>\n",
       "      <td>PREP PPERO APST PPERS V PPERO ADV PUNCT</td>\n",
       "      <td>بعد ذلك تركته</td>\n",
       "      <td>Christine Luckritz Marquis, Amir Zeldes</td>\n",
       "      <td>Apophthegmata Patrum Sahidic 001: Anonymous Na...</td>\n",
       "      <td>ⲙⲛⲛⲥⲱⲥⲁⲥⲕⲁⲁϥⲉⲃⲟⲗ</td>\n",
       "      <td>mnnsoou s a s kaa f eievol .</td>\n",
       "      <td>mnnsoous askaaf eievol .</td>\n",
       "      <td>mnnsoousaskaafeievol</td>\n",
       "      <td>μννσω σ α σ καα f εβολ .</td>\n",
       "      <td>μννσωσ ασκααf εβολ .</td>\n",
       "      <td>μννσωσασκααfεβολ</td>\n",
       "    </tr>\n",
       "    <tr>\n",
       "      <th>2</th>\n",
       "      <td>2</td>\n",
       "      <td>2</td>\n",
       "      <td>When he had gone and become a monk, he became ...</td>\n",
       "      <td>ⲛⲧⲉⲣⲉϥⲃⲱⲕ ⲇⲉ ⲛϥⲣⲙⲟⲛⲁⲭⲟⲥ ⲁϥϣⲱⲡⲉ ϩⲛⲟⲩⲁⲙⲉⲗⲓⲁ . ⲁⲩ...</td>\n",
       "      <td>ⲛⲧⲉⲣⲉ ϥ ⲃⲱⲕ ⲇⲉ ⲛ ϥ ⲣⲙⲟⲛⲁⲭⲟⲥ ⲁ ϥ ϣⲱⲡⲉ ϩⲛ ⲟⲩ ⲁⲙⲉ...</td>\n",
       "      <td>aux nsubj advcl advmod aux nsubj advcl aux nsu...</td>\n",
       "      <td>APREC PPERS V PTC ACONJ PPERS V APST PPERS V P...</td>\n",
       "      <td>ولما ذهب وترهبن صار في توانٍ وقضى حياته في الشر</td>\n",
       "      <td>Christine Luckritz Marquis, Amir Zeldes</td>\n",
       "      <td>Apophthegmata Patrum Sahidic 001: Anonymous Na...</td>\n",
       "      <td>ⲛⲧⲉⲣⲉϥⲃⲱⲕⲇⲉⲛϥⲣⲙⲟⲛⲁⲭⲟⲥⲁϥϣⲱⲡⲉϩⲛⲟⲩⲁⲙⲉⲗⲓⲁⲁⲩⲱⲁϥϫⲉⲡⲉ...</td>\n",
       "      <td>nteiereie f voouk deie n f rmonakhos a f shoou...</td>\n",
       "      <td>nteiereiefvoouk deie nfrmonakhos afshooupeie h...</td>\n",
       "      <td>nteiereiefvooukdeienfrmonakhosafshooupeiehnoua...</td>\n",
       "      <td>ντερε f βωκ δε ν f ρμοναχοσ α f sωπε hν ου αμε...</td>\n",
       "      <td>ντερεfβωκ δε νfρμοναχοσ αfsωπε hνουαμελια . αυ...</td>\n",
       "      <td>ντερεfβωκδενfρμοναχοσαfsωπεhνουαμελιααυωαfjεπε...</td>\n",
       "    </tr>\n",
       "    <tr>\n",
       "      <th>3</th>\n",
       "      <td>3</td>\n",
       "      <td>3</td>\n",
       "      <td>And it happened, when his mother had died, aft...</td>\n",
       "      <td>ⲁⲥϣⲱⲡⲉ ⲇⲉ ⲛⲧⲉⲣⲉⲧⲉϥⲙⲁⲁⲩ ⲙⲟⲩ . ⲙⲛⲛⲥⲁⲟⲩⲟⲉⲓϣ ⲇⲉ ⲁϥ...</td>\n",
       "      <td>ⲁ ⲥ ϣⲱⲡⲉ ⲇⲉ ⲛⲧⲉⲣⲉ ⲧⲉϥ ⲙⲁⲁⲩ ⲙⲟⲩ . ⲙⲛⲛⲥⲁ ⲟⲩⲟⲉⲓϣ ...</td>\n",
       "      <td>aux nsubj root advmod aux det nsubj advcl punc...</td>\n",
       "      <td>APST PPERS V PTC APREC PPOS N V PUNCT PREP N P...</td>\n",
       "      <td>وحدث لما توفت أمه، بعد وقت قليل  أن مرض مرضاً ...</td>\n",
       "      <td>Christine Luckritz Marquis, Amir Zeldes</td>\n",
       "      <td>Apophthegmata Patrum Sahidic 001: Anonymous Na...</td>\n",
       "      <td>ⲁⲥϣⲱⲡⲉⲇⲉⲛⲧⲉⲣⲉⲧⲉϥⲙⲁⲁⲩⲙⲟⲩⲙⲛⲛⲥⲁⲟⲩⲟⲉⲓϣⲇⲉⲁϥϣⲱⲛⲉϩⲛⲟⲩ...</td>\n",
       "      <td>a s shooupeie deie nteiereie teief maaua moua ...</td>\n",
       "      <td>asshooupeie deie nteiereieteiefmaaua moua . mn...</td>\n",
       "      <td>asshooupeiedeienteiereieteiefmaauamouamnnsaoua...</td>\n",
       "      <td>α σ sωπε δε ντερε τεf μααυ μου . μννσα ουοειs ...</td>\n",
       "      <td>ασsωπε δε ντερετεfμααυ μου . μννσαουοειs δε αf...</td>\n",
       "      <td>ασsωπεδεντερετεfμααυμουμννσαουοειsδεαfsωνεhνου...</td>\n",
       "    </tr>\n",
       "    <tr>\n",
       "      <th>4</th>\n",
       "      <td>4</td>\n",
       "      <td>4</td>\n",
       "      <td>And there he found his mother and those who ju...</td>\n",
       "      <td>ⲁⲩⲱ ⲁϥϭⲓⲛⲉ ⲛⲧⲉϥⲙⲁⲁⲩ ⲙⲙⲁⲩ ⲙⲛⲛⲉⲧⲟⲩⲕⲣⲓⲛⲉ ⲙⲙⲟⲟⲩ .</td>\n",
       "      <td>ⲁⲩⲱ ⲁ ϥ ϭⲓⲛⲉ ⲛ ⲧⲉϥ ⲙⲁⲁⲩ ⲙⲙⲁⲩ ⲙⲛ ⲛ ⲉⲧ ⲟⲩ ⲕⲣⲓⲛⲉ ...</td>\n",
       "      <td>cc aux nsubj root case det obj advmod cc conj ...</td>\n",
       "      <td>CONJ APST PPERS V PREP PPOS N ADV PREP ART CRE...</td>\n",
       "      <td>ووجد هناك أمه مع من يقومون بالقضاء</td>\n",
       "      <td>Christine Luckritz Marquis, Amir Zeldes</td>\n",
       "      <td>Apophthegmata Patrum Sahidic 001: Anonymous Na...</td>\n",
       "      <td>ⲁⲩⲱⲁϥϭⲓⲛⲉⲛⲧⲉϥⲙⲁⲁⲩⲙⲙⲁⲩⲙⲛⲛⲉⲧⲟⲩⲕⲣⲓⲛⲉⲙⲙⲟⲟⲩ</td>\n",
       "      <td>auaoou a f shiauneie n teief maaua mmaua mn n ...</td>\n",
       "      <td>auaoou afshiauneie nteiefmaaua mmaua mnneietou...</td>\n",
       "      <td>auaoouafshiauneienteiefmaauammauamnneietouakri...</td>\n",
       "      <td>αυω α f cινε ν τεf μααυ μμαυ μν ν ετ ου κρινε ...</td>\n",
       "      <td>αυω αfcινε ντεfμααυ μμαυ μννετουκρινε μμοου .</td>\n",
       "      <td>αυωαfcινεντεfμααυμμαυμννετουκρινεμμοου</td>\n",
       "    </tr>\n",
       "  </tbody>\n",
       "</table>\n",
       "</div>"
      ],
      "text/plain": [
       "   Unnamed: 0.1  Unnamed: 0  \\\n",
       "0             0           0   \n",
       "1             1           1   \n",
       "2             2           2   \n",
       "3             3           3   \n",
       "4             4           4   \n",
       "\n",
       "                                                 eng  \\\n",
       "0  She labored to stop him, but she was not able to.   \n",
       "1                          Afterwards, she left him.   \n",
       "2  When he had gone and become a monk, he became ...   \n",
       "3  And it happened, when his mother had died, aft...   \n",
       "4  And there he found his mother and those who ju...   \n",
       "\n",
       "                                          norm_group  \\\n",
       "0         ⲛⲧⲟⲥ ⲇⲉ ⲁⲥϩⲓⲥⲉ ⲉⲥϣⲱϣⲧ ⲙⲙⲟϥ ⲙⲡⲉⲥϣϭⲙϭⲟⲙ ⲉⲣⲟϥ   \n",
       "1                               ⲙⲛⲛⲥⲱⲥ ⲁⲥⲕⲁⲁϥ ⲉⲃⲟⲗ .   \n",
       "2  ⲛⲧⲉⲣⲉϥⲃⲱⲕ ⲇⲉ ⲛϥⲣⲙⲟⲛⲁⲭⲟⲥ ⲁϥϣⲱⲡⲉ ϩⲛⲟⲩⲁⲙⲉⲗⲓⲁ . ⲁⲩ...   \n",
       "3  ⲁⲥϣⲱⲡⲉ ⲇⲉ ⲛⲧⲉⲣⲉⲧⲉϥⲙⲁⲁⲩ ⲙⲟⲩ . ⲙⲛⲛⲥⲁⲟⲩⲟⲉⲓϣ ⲇⲉ ⲁϥ...   \n",
       "4      ⲁⲩⲱ ⲁϥϭⲓⲛⲉ ⲛⲧⲉϥⲙⲁⲁⲩ ⲙⲙⲁⲩ ⲙⲛⲛⲉⲧⲟⲩⲕⲣⲓⲛⲉ ⲙⲙⲟⲟⲩ .   \n",
       "\n",
       "                                                norm  \\\n",
       "0  ⲛⲧⲟⲥ ⲇⲉ ⲁ ⲥ ϩⲓⲥⲉ ⲉ ⲥ ϣⲱϣⲧ ⲙⲙⲟ ϥ ⲙⲡⲉ ⲥ ϣ ϭⲙϭⲟⲙ ...   \n",
       "1                           ⲙⲛⲛⲥⲱ ⲥ ⲁ ⲥ ⲕⲁⲁ ϥ ⲉⲃⲟⲗ .   \n",
       "2  ⲛⲧⲉⲣⲉ ϥ ⲃⲱⲕ ⲇⲉ ⲛ ϥ ⲣⲙⲟⲛⲁⲭⲟⲥ ⲁ ϥ ϣⲱⲡⲉ ϩⲛ ⲟⲩ ⲁⲙⲉ...   \n",
       "3  ⲁ ⲥ ϣⲱⲡⲉ ⲇⲉ ⲛⲧⲉⲣⲉ ⲧⲉϥ ⲙⲁⲁⲩ ⲙⲟⲩ . ⲙⲛⲛⲥⲁ ⲟⲩⲟⲉⲓϣ ...   \n",
       "4  ⲁⲩⲱ ⲁ ϥ ϭⲓⲛⲉ ⲛ ⲧⲉϥ ⲙⲁⲁⲩ ⲙⲙⲁⲩ ⲙⲛ ⲛ ⲉⲧ ⲟⲩ ⲕⲣⲓⲛⲉ ...   \n",
       "\n",
       "                                                func  \\\n",
       "0  dislocated advmod aux nsubj root mark nsubj ad...   \n",
       "1           case obl aux nsubj root obj advmod punct   \n",
       "2  aux nsubj advcl advmod aux nsubj advcl aux nsu...   \n",
       "3  aux nsubj root advmod aux det nsubj advcl punc...   \n",
       "4  cc aux nsubj root case det obj advmod cc conj ...   \n",
       "\n",
       "                                                 pos  \\\n",
       "0  PPERI PTC APST PPERS V CCIRC PPERS V PREP PPER...   \n",
       "1            PREP PPERO APST PPERS V PPERO ADV PUNCT   \n",
       "2  APREC PPERS V PTC ACONJ PPERS V APST PPERS V P...   \n",
       "3  APST PPERS V PTC APREC PPOS N V PUNCT PREP N P...   \n",
       "4  CONJ APST PPERS V PREP PPOS N ADV PREP ART CRE...   \n",
       "\n",
       "                                              arabic  \\\n",
       "0  أما هي فقد بذلت ما في وسعها لتعرقله ولم تقدر عليه   \n",
       "1                                      بعد ذلك تركته   \n",
       "2    ولما ذهب وترهبن صار في توانٍ وقضى حياته في الشر   \n",
       "3  وحدث لما توفت أمه، بعد وقت قليل  أن مرض مرضاً ...   \n",
       "4                 ووجد هناك أمه مع من يقومون بالقضاء   \n",
       "\n",
       "                         meta::translation  \\\n",
       "0  Christine Luckritz Marquis, Amir Zeldes   \n",
       "1  Christine Luckritz Marquis, Amir Zeldes   \n",
       "2  Christine Luckritz Marquis, Amir Zeldes   \n",
       "3  Christine Luckritz Marquis, Amir Zeldes   \n",
       "4  Christine Luckritz Marquis, Amir Zeldes   \n",
       "\n",
       "                                         meta::title  \\\n",
       "0  Apophthegmata Patrum Sahidic 001: Anonymous Na...   \n",
       "1  Apophthegmata Patrum Sahidic 001: Anonymous Na...   \n",
       "2  Apophthegmata Patrum Sahidic 001: Anonymous Na...   \n",
       "3  Apophthegmata Patrum Sahidic 001: Anonymous Na...   \n",
       "4  Apophthegmata Patrum Sahidic 001: Anonymous Na...   \n",
       "\n",
       "                                        unnormalized  \\\n",
       "0               ⲛⲧⲟⲥⲇⲉⲁⲥϩⲓⲥⲉⲉⲥϣⲱϣⲧⲙⲙⲟϥⲙⲡⲉⲥϣϭⲙϭⲟⲙⲉⲣⲟϥ   \n",
       "1                                   ⲙⲛⲛⲥⲱⲥⲁⲥⲕⲁⲁϥⲉⲃⲟⲗ   \n",
       "2  ⲛⲧⲉⲣⲉϥⲃⲱⲕⲇⲉⲛϥⲣⲙⲟⲛⲁⲭⲟⲥⲁϥϣⲱⲡⲉϩⲛⲟⲩⲁⲙⲉⲗⲓⲁⲁⲩⲱⲁϥϫⲉⲡⲉ...   \n",
       "3  ⲁⲥϣⲱⲡⲉⲇⲉⲛⲧⲉⲣⲉⲧⲉϥⲙⲁⲁⲩⲙⲟⲩⲙⲛⲛⲥⲁⲟⲩⲟⲉⲓϣⲇⲉⲁϥϣⲱⲛⲉϩⲛⲟⲩ...   \n",
       "4             ⲁⲩⲱⲁϥϭⲓⲛⲉⲛⲧⲉϥⲙⲁⲁⲩⲙⲙⲁⲩⲙⲛⲛⲉⲧⲟⲩⲕⲣⲓⲛⲉⲙⲙⲟⲟⲩ   \n",
       "\n",
       "                                      norm_romanized  \\\n",
       "0  ntos deie a s hiauseie eie s shoousht mmo f mp...   \n",
       "1                       mnnsoou s a s kaa f eievol .   \n",
       "2  nteiereie f voouk deie n f rmonakhos a f shoou...   \n",
       "3  a s shooupeie deie nteiereie teief maaua moua ...   \n",
       "4  auaoou a f shiauneie n teief maaua mmaua mn n ...   \n",
       "\n",
       "                                norm_group_romanized  \\\n",
       "0  ntos deie ashiauseie eiesshoousht mmof mpeiess...   \n",
       "1                           mnnsoous askaaf eievol .   \n",
       "2  nteiereiefvoouk deie nfrmonakhos afshooupeie h...   \n",
       "3  asshooupeie deie nteiereieteiefmaaua moua . mn...   \n",
       "4  auaoou afshiauneie nteiefmaaua mmaua mnneietou...   \n",
       "\n",
       "                              unnormalized_romanized  \\\n",
       "0  ntosdeieashiauseieeiesshooushtmmofmpeiesshshms...   \n",
       "1                               mnnsoousaskaafeievol   \n",
       "2  nteiereiefvooukdeienfrmonakhosafshooupeiehnoua...   \n",
       "3  asshooupeiedeienteiereieteiefmaauamouamnnsaoua...   \n",
       "4  auaoouafshiauneienteiefmaauammauamnneietouakri...   \n",
       "\n",
       "                                     norm_greekified  \\\n",
       "0  ντοσ δε α σ hισε ε σ sωsτ μμο f μπε σ s cμcομ ...   \n",
       "1                           μννσω σ α σ καα f εβολ .   \n",
       "2  ντερε f βωκ δε ν f ρμοναχοσ α f sωπε hν ου αμε...   \n",
       "3  α σ sωπε δε ντερε τεf μααυ μου . μννσα ουοειs ...   \n",
       "4  αυω α f cινε ν τεf μααυ μμαυ μν ν ετ ου κρινε ...   \n",
       "\n",
       "                               norm_group_greekified  \\\n",
       "0         ντοσ δε ασhισε εσsωsτ μμοf μπεσscμcομ εροf   \n",
       "1                               μννσωσ ασκααf εβολ .   \n",
       "2  ντερεfβωκ δε νfρμοναχοσ αfsωπε hνουαμελια . αυ...   \n",
       "3  ασsωπε δε ντερετεfμααυ μου . μννσαουοειs δε αf...   \n",
       "4      αυω αfcινε ντεfμααυ μμαυ μννετουκρινε μμοου .   \n",
       "\n",
       "                             unnormalized_greekified  \n",
       "0               ντοσδεασhισεεσsωsτμμοfμπεσscμcομεροf  \n",
       "1                                   μννσωσασκααfεβολ  \n",
       "2  ντερεfβωκδενfρμοναχοσαfsωπεhνουαμελιααυωαfjεπε...  \n",
       "3  ασsωπεδεντερετεfμααυμουμννσαουοειsδεαfsωνεhνου...  \n",
       "4             αυωαfcινεντεfμααυμμαυμννετουκρινεμμοου  "
      ]
     },
     "execution_count": 36,
     "metadata": {},
     "output_type": "execute_result"
    }
   ],
   "source": [
    "parallel_pandas.head()"
   ]
  },
  {
   "cell_type": "code",
   "execution_count": 37,
   "metadata": {},
   "outputs": [],
   "source": [
    "# add clean_data to parllel_pandas\"\n",
    "new_data = pd.concat([parallel_pandas, clean_data])"
   ]
  },
  {
   "cell_type": "code",
   "execution_count": 38,
   "metadata": {},
   "outputs": [],
   "source": [
    "new_data_dataset = datasets.Dataset.from_pandas(new_data)"
   ]
  },
  {
   "cell_type": "code",
   "execution_count": 40,
   "metadata": {},
   "outputs": [],
   "source": [
    "# replace train dataset with new_data_dataset\n",
    "parallel_data[\"train\"] = new_data_dataset"
   ]
  },
  {
   "cell_type": "code",
   "execution_count": 48,
   "metadata": {},
   "outputs": [
    {
     "data": {
      "application/vnd.jupyter.widget-view+json": {
       "model_id": "2b749836bf144c189361509d4ae61b20",
       "version_major": 2,
       "version_minor": 0
      },
      "text/plain": [
       "Saving the dataset (0/1 shards):   0%|          | 0/37877 [00:00<?, ? examples/s]"
      ]
     },
     "metadata": {},
     "output_type": "display_data"
    },
    {
     "data": {
      "application/vnd.jupyter.widget-view+json": {
       "model_id": "c5e8839ac8834761af1dbed31cd247ba",
       "version_major": 2,
       "version_minor": 0
      },
      "text/plain": [
       "Saving the dataset (0/1 shards):   0%|          | 0/145 [00:00<?, ? examples/s]"
      ]
     },
     "metadata": {},
     "output_type": "display_data"
    }
   ],
   "source": [
    "parallel_data.save_to_disk(\"datasets/third-dataset-backtranslated\")"
   ]
  },
  {
   "cell_type": "code",
   "execution_count": null,
   "metadata": {},
   "outputs": [],
   "source": []
  }
 ],
 "metadata": {
  "kernelspec": {
   "display_name": "coptic",
   "language": "python",
   "name": "python3"
  },
  "language_info": {
   "codemirror_mode": {
    "name": "ipython",
    "version": 3
   },
   "file_extension": ".py",
   "mimetype": "text/x-python",
   "name": "python",
   "nbconvert_exporter": "python",
   "pygments_lexer": "ipython3",
   "version": "3.11.0"
  }
 },
 "nbformat": 4,
 "nbformat_minor": 2
}
