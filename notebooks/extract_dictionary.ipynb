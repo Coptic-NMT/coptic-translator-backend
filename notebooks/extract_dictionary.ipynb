{
 "cells": [
  {
   "cell_type": "code",
   "execution_count": 20,
   "metadata": {},
   "outputs": [
    {
     "name": "stdout",
     "output_type": "stream",
     "text": [
      "/mnt/storage/maxenis/coptic-machine-translation\n"
     ]
    }
   ],
   "source": [
    "%cd /mnt/storage/maxenis/coptic-machine-translation"
   ]
  },
  {
   "cell_type": "code",
   "execution_count": 21,
   "metadata": {},
   "outputs": [],
   "source": [
    "import pandas as pd\n",
    "import re"
   ]
  },
  {
   "cell_type": "code",
   "execution_count": 22,
   "metadata": {},
   "outputs": [],
   "source": [
    "dictionary = pd.read_csv('datasets/original_dictionary.csv')"
   ]
  },
  {
   "cell_type": "code",
   "execution_count": 24,
   "metadata": {},
   "outputs": [],
   "source": [
    "dictionary[\"En\"] = dictionary[\"En\"].apply(lambda x: \"|\".join(re.findall(r\"~~~([^;]*)\", x)))"
   ]
  },
  {
   "cell_type": "code",
   "execution_count": 26,
   "metadata": {},
   "outputs": [
    {
     "data": {
      "text/html": [
       "<div>\n",
       "<style scoped>\n",
       "    .dataframe tbody tr th:only-of-type {\n",
       "        vertical-align: middle;\n",
       "    }\n",
       "\n",
       "    .dataframe tbody tr th {\n",
       "        vertical-align: top;\n",
       "    }\n",
       "\n",
       "    .dataframe thead th {\n",
       "        text-align: right;\n",
       "    }\n",
       "</style>\n",
       "<table border=\"1\" class=\"dataframe\">\n",
       "  <thead>\n",
       "    <tr style=\"text-align: right;\">\n",
       "      <th></th>\n",
       "      <th>En</th>\n",
       "      <th>Search</th>\n",
       "    </tr>\n",
       "  </thead>\n",
       "  <tbody>\n",
       "  </tbody>\n",
       "</table>\n",
       "</div>"
      ],
      "text/plain": [
       "Empty DataFrame\n",
       "Columns: [En, Search]\n",
       "Index: []"
      ]
     },
     "execution_count": 26,
     "metadata": {},
     "output_type": "execute_result"
    }
   ],
   "source": [
    "dictionary[dictionary[\"En\"].isnull()]"
   ]
  },
  {
   "cell_type": "code",
   "execution_count": 27,
   "metadata": {},
   "outputs": [],
   "source": [
    "import string"
   ]
  },
  {
   "cell_type": "code",
   "execution_count": 28,
   "metadata": {},
   "outputs": [
    {
     "data": {
      "text/plain": [
       "{'A',\n",
       " 'B',\n",
       " 'C',\n",
       " 'D',\n",
       " 'E',\n",
       " 'F',\n",
       " 'G',\n",
       " 'H',\n",
       " 'I',\n",
       " 'J',\n",
       " 'K',\n",
       " 'L',\n",
       " 'M',\n",
       " 'N',\n",
       " 'O',\n",
       " 'P',\n",
       " 'Q',\n",
       " 'R',\n",
       " 'S',\n",
       " 'T',\n",
       " 'U',\n",
       " 'V',\n",
       " 'W',\n",
       " 'X',\n",
       " 'Y',\n",
       " 'Z',\n",
       " 'a',\n",
       " 'b',\n",
       " 'c',\n",
       " 'd',\n",
       " 'e',\n",
       " 'f',\n",
       " 'g',\n",
       " 'h',\n",
       " 'i',\n",
       " 'j',\n",
       " 'k',\n",
       " 'l',\n",
       " 'm',\n",
       " 'n',\n",
       " 'o',\n",
       " 'p',\n",
       " 'q',\n",
       " 'r',\n",
       " 's',\n",
       " 't',\n",
       " 'u',\n",
       " 'v',\n",
       " 'w',\n",
       " 'x',\n",
       " 'y',\n",
       " 'z'}"
      ]
     },
     "execution_count": 28,
     "metadata": {},
     "output_type": "execute_result"
    }
   ],
   "source": [
    "asci = set((string.ascii_lowercase + string.ascii_uppercase))\n",
    "asci"
   ]
  },
  {
   "cell_type": "code",
   "execution_count": 29,
   "metadata": {},
   "outputs": [],
   "source": [
    "def parse_search_field(word):\n",
    "    word = str(word)\n",
    "    if len(set(word) & asci) == 0: \n",
    "        word = word.split(\"\\n\")[1:-1]\n",
    "        word = [w[:-1] for w in word]\n",
    "        return \",\".join(word)\n",
    "    result = []\n",
    "    word = word.split(\"\\n\")[1:-1]\n",
    "    for w in word:\n",
    "        if \"S\" in w:\n",
    "            result.append(w.split(\"~S\")[0])\n",
    "    return \",\".join(result)"
   ]
  },
  {
   "cell_type": "code",
   "execution_count": 30,
   "metadata": {},
   "outputs": [],
   "source": [
    "dictionary[\"Search\"] = dictionary[\"Search\"].apply(lambda x: parse_search_field(x))"
   ]
  },
  {
   "cell_type": "code",
   "execution_count": 33,
   "metadata": {},
   "outputs": [
    {
     "data": {
      "text/html": [
       "<div>\n",
       "<style scoped>\n",
       "    .dataframe tbody tr th:only-of-type {\n",
       "        vertical-align: middle;\n",
       "    }\n",
       "\n",
       "    .dataframe tbody tr th {\n",
       "        vertical-align: top;\n",
       "    }\n",
       "\n",
       "    .dataframe thead th {\n",
       "        text-align: right;\n",
       "    }\n",
       "</style>\n",
       "<table border=\"1\" class=\"dataframe\">\n",
       "  <thead>\n",
       "    <tr style=\"text-align: right;\">\n",
       "      <th></th>\n",
       "      <th>En</th>\n",
       "      <th>Search</th>\n",
       "    </tr>\n",
       "  </thead>\n",
       "  <tbody>\n",
       "    <tr>\n",
       "      <th>8710</th>\n",
       "      <td>decan (celestial superhuman being)</td>\n",
       "      <td>ⲇⲉⲕⲁⲛⲟⲥ,ⲧⲉⲕⲁⲛⲟⲥ</td>\n",
       "    </tr>\n",
       "    <tr>\n",
       "      <th>8838</th>\n",
       "      <td>decan (substantive)|decan (inverted attributive</td>\n",
       "      <td>ⲇⲩⲕⲁⲛⲟⲥ,ⲇⲉⲕⲁⲛⲟⲥ</td>\n",
       "    </tr>\n",
       "    <tr>\n",
       "      <th>11260</th>\n",
       "      <td>decan</td>\n",
       "      <td></td>\n",
       "    </tr>\n",
       "  </tbody>\n",
       "</table>\n",
       "</div>"
      ],
      "text/plain": [
       "                                                    En           Search\n",
       "8710                decan (celestial superhuman being)  ⲇⲉⲕⲁⲛⲟⲥ,ⲧⲉⲕⲁⲛⲟⲥ\n",
       "8838   decan (substantive)|decan (inverted attributive  ⲇⲩⲕⲁⲛⲟⲥ,ⲇⲉⲕⲁⲛⲟⲥ\n",
       "11260                                            decan                 "
      ]
     },
     "execution_count": 33,
     "metadata": {},
     "output_type": "execute_result"
    }
   ],
   "source": [
    "dictionary[dictionary[\"En\"].str.contains(\"decan\")]"
   ]
  },
  {
   "cell_type": "code",
   "execution_count": 51,
   "metadata": {},
   "outputs": [
    {
     "data": {
      "text/html": [
       "<div>\n",
       "<style scoped>\n",
       "    .dataframe tbody tr th:only-of-type {\n",
       "        vertical-align: middle;\n",
       "    }\n",
       "\n",
       "    .dataframe tbody tr th {\n",
       "        vertical-align: top;\n",
       "    }\n",
       "\n",
       "    .dataframe thead th {\n",
       "        text-align: right;\n",
       "    }\n",
       "</style>\n",
       "<table border=\"1\" class=\"dataframe\">\n",
       "  <thead>\n",
       "    <tr style=\"text-align: right;\">\n",
       "      <th></th>\n",
       "      <th>En</th>\n",
       "      <th>Search</th>\n",
       "    </tr>\n",
       "  </thead>\n",
       "  <tbody>\n",
       "    <tr>\n",
       "      <th>1156</th>\n",
       "      <td>sonorous wooden board</td>\n",
       "      <td>ⲕⲁⲗⲉⲗⲉ,ⲕⲁⲗⲉⲉⲗⲉ,ⲕⲁⲗⲏⲗⲉ,ⲕⲁⲗⲏⲗⲁ,ⲕⲉⲗⲉⲉⲗⲉ</td>\n",
       "    </tr>\n",
       "  </tbody>\n",
       "</table>\n",
       "</div>"
      ],
      "text/plain": [
       "                         En                                Search\n",
       "1156  sonorous wooden board  ⲕⲁⲗⲉⲗⲉ,ⲕⲁⲗⲉⲉⲗⲉ,ⲕⲁⲗⲏⲗⲉ,ⲕⲁⲗⲏⲗⲁ,ⲕⲉⲗⲉⲉⲗⲉ"
      ]
     },
     "execution_count": 51,
     "metadata": {},
     "output_type": "execute_result"
    }
   ],
   "source": [
    "dictionary[dictionary[\"Search\"].str.contains(\"ⲕⲁⲗⲉⲉⲗⲉ\")]"
   ]
  },
  {
   "cell_type": "code",
   "execution_count": 35,
   "metadata": {},
   "outputs": [],
   "source": [
    "new_dictionary = pd.DataFrame(columns=[\"eng\", \"coptic\"])"
   ]
  },
  {
   "cell_type": "code",
   "execution_count": 36,
   "metadata": {},
   "outputs": [],
   "source": [
    "# iterate over rows in dictionary, split the search field and en field by comma and add a row for each pariwise combination\n",
    "for index, row in dictionary.iterrows():\n",
    "    if en == \"\" or search == \"\":\n",
    "        continue\n",
    "    en = list(set(row[\"En\"].split(\"|\")))\n",
    "    search = list(set(row[\"Search\"].split(\",\")))\n",
    "    for e in en:\n",
    "        for s in search:\n",
    "            new_dictionary.loc[-1] = [e, s]\n",
    "            new_dictionary.index = new_dictionary.index + 1\n",
    "            new_dictionary = new_dictionary.sort_index()"
   ]
  },
  {
   "cell_type": "code",
   "execution_count": 37,
   "metadata": {},
   "outputs": [],
   "source": [
    "# remove duplicates\n",
    "new_dictionary = new_dictionary.drop_duplicates()"
   ]
  },
  {
   "cell_type": "code",
   "execution_count": 52,
   "metadata": {},
   "outputs": [],
   "source": [
    "new_dictionary = new_dictionary[~(new_dictionary[\"coptic\"] == \"\")]"
   ]
  },
  {
   "cell_type": "code",
   "execution_count": 54,
   "metadata": {},
   "outputs": [],
   "source": [
    "new_dictionary.to_csv(\"datasets/raw_dictionary.csv\", index=False)"
   ]
  },
  {
   "cell_type": "code",
   "execution_count": 61,
   "metadata": {},
   "outputs": [],
   "source": [
    "dictionary = pd.read_csv('datasets/raw_dictionary.csv')"
   ]
  },
  {
   "cell_type": "code",
   "execution_count": 59,
   "metadata": {},
   "outputs": [
    {
     "data": {
      "text/plain": [
       "11557"
      ]
     },
     "execution_count": 59,
     "metadata": {},
     "output_type": "execute_result"
    }
   ],
   "source": [
    "len(dictionary[\"coptic\"].unique())"
   ]
  },
  {
   "cell_type": "code",
   "execution_count": null,
   "metadata": {},
   "outputs": [],
   "source": []
  },
  {
   "cell_type": "code",
   "execution_count": 69,
   "metadata": {},
   "outputs": [],
   "source": [
    "def grammer_filter(row):\n",
    "    en = str(row[\"eng\"])\n",
    "    cop = str(row[\"coptic\"])\n",
    "    if len(en.split(\" \")) == 1:\n",
    "        return True\n",
    "    \n",
    "    ratio = 2\n",
    "    if len(cop) < 2:\n",
    "        ratio = 4\n",
    "    elif len(cop) < 4:\n",
    "        ratio = 3\n",
    "    return len(en) < ratio * len(cop)"
   ]
  },
  {
   "cell_type": "code",
   "execution_count": 58,
   "metadata": {},
   "outputs": [
    {
     "data": {
      "text/html": [
       "<div>\n",
       "<style scoped>\n",
       "    .dataframe tbody tr th:only-of-type {\n",
       "        vertical-align: middle;\n",
       "    }\n",
       "\n",
       "    .dataframe tbody tr th {\n",
       "        vertical-align: top;\n",
       "    }\n",
       "\n",
       "    .dataframe thead th {\n",
       "        text-align: right;\n",
       "    }\n",
       "</style>\n",
       "<table border=\"1\" class=\"dataframe\">\n",
       "  <thead>\n",
       "    <tr style=\"text-align: right;\">\n",
       "      <th></th>\n",
       "      <th>eng</th>\n",
       "      <th>coptic</th>\n",
       "    </tr>\n",
       "  </thead>\n",
       "  <tbody>\n",
       "    <tr>\n",
       "      <th>0</th>\n",
       "      <td>to demonstrate (as true), i.e., prove s.th.</td>\n",
       "      <td>ϯⲕⲛⲉⲩⲉ</td>\n",
       "    </tr>\n",
       "    <tr>\n",
       "      <th>1</th>\n",
       "      <td>to explain s.th. to s.o.</td>\n",
       "      <td>ϯⲕⲛⲉⲩⲉ</td>\n",
       "    </tr>\n",
       "    <tr>\n",
       "      <th>2</th>\n",
       "      <td>to protest, object (specific sense unclear)</td>\n",
       "      <td>ϯⲁⲙⲁⲣⲧⲉⲣⲉ</td>\n",
       "    </tr>\n",
       "    <tr>\n",
       "      <th>3</th>\n",
       "      <td>to hold forth, declaim, preach</td>\n",
       "      <td>ⲁⲗⲏⲅⲓⲥⲑⲁⲓ</td>\n",
       "    </tr>\n",
       "    <tr>\n",
       "      <th>4</th>\n",
       "      <td>bodily state, condition (a state of disease)</td>\n",
       "      <td>ϯⲁⲑⲩⲥⲓⲥ</td>\n",
       "    </tr>\n",
       "    <tr>\n",
       "      <th>...</th>\n",
       "      <td>...</td>\n",
       "      <td>...</td>\n",
       "    </tr>\n",
       "    <tr>\n",
       "      <th>30618</th>\n",
       "      <td>house, region, environment</td>\n",
       "      <td>ⲁ</td>\n",
       "    </tr>\n",
       "    <tr>\n",
       "      <th>30619</th>\n",
       "      <td>about</td>\n",
       "      <td>ⲁ</td>\n",
       "    </tr>\n",
       "    <tr>\n",
       "      <th>30620</th>\n",
       "      <td>prefix of imperative</td>\n",
       "      <td>ⲁ</td>\n",
       "    </tr>\n",
       "    <tr>\n",
       "      <th>30621</th>\n",
       "      <td>verbal prefix perfect I</td>\n",
       "      <td>ⲁ</td>\n",
       "    </tr>\n",
       "    <tr>\n",
       "      <th>30622</th>\n",
       "      <td>one</td>\n",
       "      <td>ⲁ</td>\n",
       "    </tr>\n",
       "  </tbody>\n",
       "</table>\n",
       "<p>30623 rows × 2 columns</p>\n",
       "</div>"
      ],
      "text/plain": [
       "                                                eng     coptic\n",
       "0       to demonstrate (as true), i.e., prove s.th.     ϯⲕⲛⲉⲩⲉ\n",
       "1                          to explain s.th. to s.o.     ϯⲕⲛⲉⲩⲉ\n",
       "2       to protest, object (specific sense unclear)  ϯⲁⲙⲁⲣⲧⲉⲣⲉ\n",
       "3                    to hold forth, declaim, preach  ⲁⲗⲏⲅⲓⲥⲑⲁⲓ\n",
       "4      bodily state, condition (a state of disease)    ϯⲁⲑⲩⲥⲓⲥ\n",
       "...                                             ...        ...\n",
       "30618                    house, region, environment          ⲁ\n",
       "30619                                         about          ⲁ\n",
       "30620                          prefix of imperative          ⲁ\n",
       "30621                       verbal prefix perfect I          ⲁ\n",
       "30622                                           one          ⲁ\n",
       "\n",
       "[30623 rows x 2 columns]"
      ]
     },
     "execution_count": 58,
     "metadata": {},
     "output_type": "execute_result"
    }
   ],
   "source": [
    "dictionary"
   ]
  },
  {
   "cell_type": "code",
   "execution_count": 77,
   "metadata": {},
   "outputs": [],
   "source": [
    "dictionary = dictionary.astype(str)"
   ]
  },
  {
   "cell_type": "code",
   "execution_count": 80,
   "metadata": {},
   "outputs": [
    {
     "data": {
      "text/html": [
       "<div>\n",
       "<style scoped>\n",
       "    .dataframe tbody tr th:only-of-type {\n",
       "        vertical-align: middle;\n",
       "    }\n",
       "\n",
       "    .dataframe tbody tr th {\n",
       "        vertical-align: top;\n",
       "    }\n",
       "\n",
       "    .dataframe thead th {\n",
       "        text-align: right;\n",
       "    }\n",
       "</style>\n",
       "<table border=\"1\" class=\"dataframe\">\n",
       "  <thead>\n",
       "    <tr style=\"text-align: right;\">\n",
       "      <th></th>\n",
       "      <th>eng</th>\n",
       "      <th>coptic</th>\n",
       "    </tr>\n",
       "  </thead>\n",
       "  <tbody>\n",
       "    <tr>\n",
       "      <th>1</th>\n",
       "      <td>object (specific sense unclear)</td>\n",
       "      <td>ϯⲁⲙⲁⲣⲧⲉⲣⲉ</td>\n",
       "    </tr>\n",
       "    <tr>\n",
       "      <th>6</th>\n",
       "      <td>condition (a state of disease)</td>\n",
       "      <td>ϯⲁⲑⲩⲥⲓⲥ</td>\n",
       "    </tr>\n",
       "    <tr>\n",
       "      <th>7</th>\n",
       "      <td>condition (a state of disease)</td>\n",
       "      <td>ϯⲁⲑⲏⲥⲓⲥ</td>\n",
       "    </tr>\n",
       "    <tr>\n",
       "      <th>11</th>\n",
       "      <td>crucifixion (object: reflexive)</td>\n",
       "      <td>ⲥⲧⲣⲟⲩ</td>\n",
       "    </tr>\n",
       "    <tr>\n",
       "      <th>12</th>\n",
       "      <td>deed)</td>\n",
       "      <td>ⲉⲝⲟⲩⲥⲓⲁ</td>\n",
       "    </tr>\n",
       "    <tr>\n",
       "      <th>...</th>\n",
       "      <td>...</td>\n",
       "      <td>...</td>\n",
       "    </tr>\n",
       "    <tr>\n",
       "      <th>24118</th>\n",
       "      <td>a metal (?) object</td>\n",
       "      <td>ⲁⲗⲓⲕⲧ</td>\n",
       "    </tr>\n",
       "    <tr>\n",
       "      <th>24149</th>\n",
       "      <td>fenugreek (trigonella)</td>\n",
       "      <td>nan</td>\n",
       "    </tr>\n",
       "    <tr>\n",
       "      <th>24198</th>\n",
       "      <td>advance (in age)</td>\n",
       "      <td>ⲁⲓⲁⲓ</td>\n",
       "    </tr>\n",
       "    <tr>\n",
       "      <th>24199</th>\n",
       "      <td>increase (in seize)</td>\n",
       "      <td>ⲁⲓⲁⲓ</td>\n",
       "    </tr>\n",
       "    <tr>\n",
       "      <th>24223</th>\n",
       "      <td>fortress (?)</td>\n",
       "      <td>ⲁⲃⲱ</td>\n",
       "    </tr>\n",
       "  </tbody>\n",
       "</table>\n",
       "<p>4906 rows × 2 columns</p>\n",
       "</div>"
      ],
      "text/plain": [
       "                                    eng     coptic\n",
       "1       object (specific sense unclear)  ϯⲁⲙⲁⲣⲧⲉⲣⲉ\n",
       "6        condition (a state of disease)    ϯⲁⲑⲩⲥⲓⲥ\n",
       "7        condition (a state of disease)    ϯⲁⲑⲏⲥⲓⲥ\n",
       "11      crucifixion (object: reflexive)      ⲥⲧⲣⲟⲩ\n",
       "12                                deed)    ⲉⲝⲟⲩⲥⲓⲁ\n",
       "...                                 ...        ...\n",
       "24118                a metal (?) object      ⲁⲗⲓⲕⲧ\n",
       "24149            fenugreek (trigonella)        nan\n",
       "24198                  advance (in age)       ⲁⲓⲁⲓ\n",
       "24199               increase (in seize)       ⲁⲓⲁⲓ\n",
       "24223                      fortress (?)        ⲁⲃⲱ\n",
       "\n",
       "[4906 rows x 2 columns]"
      ]
     },
     "execution_count": 80,
     "metadata": {},
     "output_type": "execute_result"
    }
   ],
   "source": [
    "dictionary[dictionary[\"eng\"].str.contains(\"\\(|\\)\")]"
   ]
  },
  {
   "cell_type": "code",
   "execution_count": 71,
   "metadata": {},
   "outputs": [
    {
     "data": {
      "text/html": [
       "<div>\n",
       "<style scoped>\n",
       "    .dataframe tbody tr th:only-of-type {\n",
       "        vertical-align: middle;\n",
       "    }\n",
       "\n",
       "    .dataframe tbody tr th {\n",
       "        vertical-align: top;\n",
       "    }\n",
       "\n",
       "    .dataframe thead th {\n",
       "        text-align: right;\n",
       "    }\n",
       "</style>\n",
       "<table border=\"1\" class=\"dataframe\">\n",
       "  <thead>\n",
       "    <tr style=\"text-align: right;\">\n",
       "      <th></th>\n",
       "      <th>eng</th>\n",
       "      <th>coptic</th>\n",
       "    </tr>\n",
       "  </thead>\n",
       "  <tbody>\n",
       "    <tr>\n",
       "      <th>2</th>\n",
       "      <td>to protest</td>\n",
       "      <td>ϯⲁⲙⲁⲣⲧⲉⲣⲉ</td>\n",
       "    </tr>\n",
       "    <tr>\n",
       "      <th>3</th>\n",
       "      <td>preach</td>\n",
       "      <td>ⲁⲗⲏⲅⲓⲥⲑⲁⲓ</td>\n",
       "    </tr>\n",
       "    <tr>\n",
       "      <th>4</th>\n",
       "      <td>declaim</td>\n",
       "      <td>ⲁⲗⲏⲅⲓⲥⲑⲁⲓ</td>\n",
       "    </tr>\n",
       "    <tr>\n",
       "      <th>5</th>\n",
       "      <td>to hold forth</td>\n",
       "      <td>ⲁⲗⲏⲅⲓⲥⲑⲁⲓ</td>\n",
       "    </tr>\n",
       "    <tr>\n",
       "      <th>8</th>\n",
       "      <td>bodily state</td>\n",
       "      <td>ϯⲁⲑⲩⲥⲓⲥ</td>\n",
       "    </tr>\n",
       "    <tr>\n",
       "      <th>...</th>\n",
       "      <td>...</td>\n",
       "      <td>...</td>\n",
       "    </tr>\n",
       "    <tr>\n",
       "      <th>24225</th>\n",
       "      <td>chain</td>\n",
       "      <td>ⲁⲃⲉ</td>\n",
       "    </tr>\n",
       "    <tr>\n",
       "      <th>24226</th>\n",
       "      <td>strap</td>\n",
       "      <td>ⲁⲃⲉ</td>\n",
       "    </tr>\n",
       "    <tr>\n",
       "      <th>24229</th>\n",
       "      <td>house</td>\n",
       "      <td>ⲁ</td>\n",
       "    </tr>\n",
       "    <tr>\n",
       "      <th>24230</th>\n",
       "      <td>about</td>\n",
       "      <td>ⲁ</td>\n",
       "    </tr>\n",
       "    <tr>\n",
       "      <th>24233</th>\n",
       "      <td>one</td>\n",
       "      <td>ⲁ</td>\n",
       "    </tr>\n",
       "  </tbody>\n",
       "</table>\n",
       "<p>15281 rows × 2 columns</p>\n",
       "</div>"
      ],
      "text/plain": [
       "                 eng     coptic\n",
       "2         to protest  ϯⲁⲙⲁⲣⲧⲉⲣⲉ\n",
       "3             preach  ⲁⲗⲏⲅⲓⲥⲑⲁⲓ\n",
       "4            declaim  ⲁⲗⲏⲅⲓⲥⲑⲁⲓ\n",
       "5      to hold forth  ⲁⲗⲏⲅⲓⲥⲑⲁⲓ\n",
       "8       bodily state    ϯⲁⲑⲩⲥⲓⲥ\n",
       "...              ...        ...\n",
       "24225          chain        ⲁⲃⲉ\n",
       "24226          strap        ⲁⲃⲉ\n",
       "24229          house          ⲁ\n",
       "24230          about          ⲁ\n",
       "24233            one          ⲁ\n",
       "\n",
       "[15281 rows x 2 columns]"
      ]
     },
     "execution_count": 71,
     "metadata": {},
     "output_type": "execute_result"
    }
   ],
   "source": [
    "dictionary[dictionary.apply(lambda x : grammer_filter(x), axis=1)]"
   ]
  },
  {
   "cell_type": "code",
   "execution_count": 60,
   "metadata": {},
   "outputs": [
    {
     "data": {
      "text/html": [
       "<div>\n",
       "<style scoped>\n",
       "    .dataframe tbody tr th:only-of-type {\n",
       "        vertical-align: middle;\n",
       "    }\n",
       "\n",
       "    .dataframe tbody tr th {\n",
       "        vertical-align: top;\n",
       "    }\n",
       "\n",
       "    .dataframe thead th {\n",
       "        text-align: right;\n",
       "    }\n",
       "</style>\n",
       "<table border=\"1\" class=\"dataframe\">\n",
       "  <thead>\n",
       "    <tr style=\"text-align: right;\">\n",
       "      <th></th>\n",
       "      <th>eng</th>\n",
       "      <th>coptic</th>\n",
       "    </tr>\n",
       "  </thead>\n",
       "  <tbody>\n",
       "    <tr>\n",
       "      <th>0</th>\n",
       "      <td>to demonstrate (as true), i.e., prove s.th.</td>\n",
       "      <td>ϯⲕⲛⲉⲩⲉ</td>\n",
       "    </tr>\n",
       "    <tr>\n",
       "      <th>1</th>\n",
       "      <td>to explain s.th. to s.o.</td>\n",
       "      <td>ϯⲕⲛⲉⲩⲉ</td>\n",
       "    </tr>\n",
       "    <tr>\n",
       "      <th>2</th>\n",
       "      <td>to protest, object (specific sense unclear)</td>\n",
       "      <td>ϯⲁⲙⲁⲣⲧⲉⲣⲉ</td>\n",
       "    </tr>\n",
       "    <tr>\n",
       "      <th>3</th>\n",
       "      <td>to hold forth, declaim, preach</td>\n",
       "      <td>ⲁⲗⲏⲅⲓⲥⲑⲁⲓ</td>\n",
       "    </tr>\n",
       "    <tr>\n",
       "      <th>4</th>\n",
       "      <td>bodily state, condition (a state of disease)</td>\n",
       "      <td>ϯⲁⲑⲩⲥⲓⲥ</td>\n",
       "    </tr>\n",
       "    <tr>\n",
       "      <th>...</th>\n",
       "      <td>...</td>\n",
       "      <td>...</td>\n",
       "    </tr>\n",
       "    <tr>\n",
       "      <th>30618</th>\n",
       "      <td>house, region, environment</td>\n",
       "      <td>ⲁ</td>\n",
       "    </tr>\n",
       "    <tr>\n",
       "      <th>30619</th>\n",
       "      <td>about</td>\n",
       "      <td>ⲁ</td>\n",
       "    </tr>\n",
       "    <tr>\n",
       "      <th>30620</th>\n",
       "      <td>prefix of imperative</td>\n",
       "      <td>ⲁ</td>\n",
       "    </tr>\n",
       "    <tr>\n",
       "      <th>30621</th>\n",
       "      <td>verbal prefix perfect I</td>\n",
       "      <td>ⲁ</td>\n",
       "    </tr>\n",
       "    <tr>\n",
       "      <th>30622</th>\n",
       "      <td>one</td>\n",
       "      <td>ⲁ</td>\n",
       "    </tr>\n",
       "  </tbody>\n",
       "</table>\n",
       "<p>30623 rows × 2 columns</p>\n",
       "</div>"
      ],
      "text/plain": [
       "                                                eng     coptic\n",
       "0       to demonstrate (as true), i.e., prove s.th.     ϯⲕⲛⲉⲩⲉ\n",
       "1                          to explain s.th. to s.o.     ϯⲕⲛⲉⲩⲉ\n",
       "2       to protest, object (specific sense unclear)  ϯⲁⲙⲁⲣⲧⲉⲣⲉ\n",
       "3                    to hold forth, declaim, preach  ⲁⲗⲏⲅⲓⲥⲑⲁⲓ\n",
       "4      bodily state, condition (a state of disease)    ϯⲁⲑⲩⲥⲓⲥ\n",
       "...                                             ...        ...\n",
       "30618                    house, region, environment          ⲁ\n",
       "30619                                         about          ⲁ\n",
       "30620                          prefix of imperative          ⲁ\n",
       "30621                       verbal prefix perfect I          ⲁ\n",
       "30622                                           one          ⲁ\n",
       "\n",
       "[30623 rows x 2 columns]"
      ]
     },
     "execution_count": 60,
     "metadata": {},
     "output_type": "execute_result"
    }
   ],
   "source": []
  },
  {
   "cell_type": "code",
   "execution_count": 82,
   "metadata": {},
   "outputs": [],
   "source": [
    "from collections import defaultdict"
   ]
  },
  {
   "cell_type": "code",
   "execution_count": 83,
   "metadata": {},
   "outputs": [],
   "source": [
    "mapping = defaultdict(list)\n",
    "for index, row in dictionary.iterrows():\n",
    "    en = row[\"eng\"]\n",
    "    cop = row[\"coptic\"]\n",
    "    mapping[cop] += [en]"
   ]
  },
  {
   "cell_type": "code",
   "execution_count": 214,
   "metadata": {},
   "outputs": [],
   "source": [
    "def translate(word):\n",
    "    split_word = word.split(\" \")\n",
    "    result = []\n",
    "    for w in split_word:\n",
    "        if len(w) == 1:\n",
    "            continue\n",
    "        if w in mapping:\n",
    "            result.append(mapping[w])\n",
    "        # else:\n",
    "        #     result.append([\"...\"])\n",
    "    return result"
   ]
  },
  {
   "cell_type": "code",
   "execution_count": 90,
   "metadata": {},
   "outputs": [],
   "source": [
    "from huggingface_model import HuggingFaceTranslationModel"
   ]
  },
  {
   "cell_type": "code",
   "execution_count": 91,
   "metadata": {},
   "outputs": [
    {
     "name": "stderr",
     "output_type": "stream",
     "text": [
      "/home/bizon/anaconda3/envs/coptic/lib/python3.11/site-packages/transformers/models/marian/tokenization_marian.py:194: UserWarning: Recommended: pip install sacremoses.\n",
      "  warnings.warn(\"Recommended: pip install sacremoses.\")\n"
     ]
    }
   ],
   "source": [
    "model = HuggingFaceTranslationModel.from_pretrained(\"models/hf/fifth_attempt-norm_romanized-finetuned-cop-eng/\")"
   ]
  },
  {
   "cell_type": "code",
   "execution_count": 92,
   "metadata": {},
   "outputs": [],
   "source": [
    "amir = pd.read_csv(\"datasets/test_data/Amir.csv\")"
   ]
  },
  {
   "cell_type": "code",
   "execution_count": 93,
   "metadata": {},
   "outputs": [],
   "source": [
    "# Only norm, norm_romanized and eng columns\n",
    "amir = amir[[\"norm\", \"norm_romanized\", \"eng\"]]"
   ]
  },
  {
   "cell_type": "code",
   "execution_count": 216,
   "metadata": {},
   "outputs": [
    {
     "name": "stderr",
     "output_type": "stream",
     "text": [
      "/home/bizon/anaconda3/envs/coptic/lib/python3.11/site-packages/transformers/generation/configuration_utils.py:367: UserWarning: `do_sample` is set to `False`. However, `top_p` is set to `0.95` -- this flag is only used in sample-based generation modes. You should set `do_sample=True` or unset `top_p`.\n",
      "  warnings.warn(\n",
      "Both `max_new_tokens` (=128) and `max_length`(=20) seem to have been set. `max_new_tokens` will take precedence. Please refer to the documentation for more information. (https://huggingface.co/docs/transformers/main/en/main_classes/text_generation)\n"
     ]
    },
    {
     "data": {
      "text/plain": [
       "'The child was growing, and becoming strong in spirit, and was in the desert until the day of his public appearance to Israel.'"
      ]
     },
     "execution_count": 216,
     "metadata": {},
     "output_type": "execute_result"
    }
   ],
   "source": [
    "model.translate(\"p shhreie deie shhm a f auaksaneie auaoou a f shmshom hm peie pneieuama . neie f shoop deie peie hn n gaiaueie sha peie hooua m peief ouaoounh eievol m p iausrahl .\", BEAM_GENERATION_CONFIG)"
   ]
  },
  {
   "cell_type": "code",
   "execution_count": 100,
   "metadata": {},
   "outputs": [
    {
     "name": "stderr",
     "output_type": "stream",
     "text": [
      "/home/bizon/anaconda3/envs/coptic/lib/python3.11/site-packages/transformers/generation/configuration_utils.py:367: UserWarning: `do_sample` is set to `False`. However, `top_p` is set to `0.95` -- this flag is only used in sample-based generation modes. You should set `do_sample=True` or unset `top_p`.\n",
      "  warnings.warn(\n",
      "Both `max_new_tokens` (=128) and `max_length`(=20) seem to have been set. `max_new_tokens` will take precedence. Please refer to the documentation for more information. (https://huggingface.co/docs/transformers/main/en/main_classes/text_generation)\n",
      "Both `max_new_tokens` (=128) and `max_length`(=20) seem to have been set. `max_new_tokens` will take precedence. Please refer to the documentation for more information. (https://huggingface.co/docs/transformers/main/en/main_classes/text_generation)\n",
      "Both `max_new_tokens` (=128) and `max_length`(=20) seem to have been set. `max_new_tokens` will take precedence. Please refer to the documentation for more information. (https://huggingface.co/docs/transformers/main/en/main_classes/text_generation)\n",
      "Both `max_new_tokens` (=128) and `max_length`(=20) seem to have been set. `max_new_tokens` will take precedence. Please refer to the documentation for more information. (https://huggingface.co/docs/transformers/main/en/main_classes/text_generation)\n",
      "Both `max_new_tokens` (=128) and `max_length`(=20) seem to have been set. `max_new_tokens` will take precedence. Please refer to the documentation for more information. (https://huggingface.co/docs/transformers/main/en/main_classes/text_generation)\n",
      "Both `max_new_tokens` (=128) and `max_length`(=20) seem to have been set. `max_new_tokens` will take precedence. Please refer to the documentation for more information. (https://huggingface.co/docs/transformers/main/en/main_classes/text_generation)\n",
      "Both `max_new_tokens` (=128) and `max_length`(=20) seem to have been set. `max_new_tokens` will take precedence. Please refer to the documentation for more information. (https://huggingface.co/docs/transformers/main/en/main_classes/text_generation)\n",
      "Both `max_new_tokens` (=128) and `max_length`(=20) seem to have been set. `max_new_tokens` will take precedence. Please refer to the documentation for more information. (https://huggingface.co/docs/transformers/main/en/main_classes/text_generation)\n",
      "Both `max_new_tokens` (=128) and `max_length`(=20) seem to have been set. `max_new_tokens` will take precedence. Please refer to the documentation for more information. (https://huggingface.co/docs/transformers/main/en/main_classes/text_generation)\n",
      "Both `max_new_tokens` (=128) and `max_length`(=20) seem to have been set. `max_new_tokens` will take precedence. Please refer to the documentation for more information. (https://huggingface.co/docs/transformers/main/en/main_classes/text_generation)\n",
      "Both `max_new_tokens` (=128) and `max_length`(=20) seem to have been set. `max_new_tokens` will take precedence. Please refer to the documentation for more information. (https://huggingface.co/docs/transformers/main/en/main_classes/text_generation)\n",
      "Both `max_new_tokens` (=128) and `max_length`(=20) seem to have been set. `max_new_tokens` will take precedence. Please refer to the documentation for more information. (https://huggingface.co/docs/transformers/main/en/main_classes/text_generation)\n",
      "Both `max_new_tokens` (=128) and `max_length`(=20) seem to have been set. `max_new_tokens` will take precedence. Please refer to the documentation for more information. (https://huggingface.co/docs/transformers/main/en/main_classes/text_generation)\n",
      "Both `max_new_tokens` (=128) and `max_length`(=20) seem to have been set. `max_new_tokens` will take precedence. Please refer to the documentation for more information. (https://huggingface.co/docs/transformers/main/en/main_classes/text_generation)\n",
      "Both `max_new_tokens` (=128) and `max_length`(=20) seem to have been set. `max_new_tokens` will take precedence. Please refer to the documentation for more information. (https://huggingface.co/docs/transformers/main/en/main_classes/text_generation)\n"
     ]
    }
   ],
   "source": [
    "amir[\"ml_translation\"] = amir[\"norm_romanized\"].apply(lambda x: model.translate(x, BEAM_GENERATION_CONFIG))"
   ]
  },
  {
   "cell_type": "markdown",
   "metadata": {},
   "source": []
  },
  {
   "cell_type": "code",
   "execution_count": 191,
   "metadata": {},
   "outputs": [
    {
     "data": {
      "text/plain": [
       "'then tell me, I will teach you what you will do to her.'"
      ]
     },
     "execution_count": 191,
     "metadata": {},
     "output_type": "execute_result"
    }
   ],
   "source": [
    "amir[\"eng\"].iloc[11]"
   ]
  },
  {
   "cell_type": "code",
   "execution_count": 215,
   "metadata": {},
   "outputs": [
    {
     "data": {
      "text/plain": [
       "[['son, child'],\n",
       " ['and, but (specific sense unclear)',\n",
       "  'and...: (marking a list or set)',\n",
       "  'but, on the other hand, nonetheless (adversative)',\n",
       "  'for (explanatory, where one would expect γάρ)',\n",
       "  'and, so, then, for (marking shift in narrative, or change in subject',\n",
       "  'especially, in particular, even (emphatic)'],\n",
       " ['sign, omen (?)',\n",
       "  'small, few, young, humble',\n",
       "  'small person, thing, quantity'],\n",
       " ['to grow by/through s.th.',\n",
       "  'to make s.th. grow, increase s.th. in number (object: group)',\n",
       "  'to make s.o. grow in strength, to strengthen s.o.',\n",
       "  'to let s.o. grow, strengthen s.o. in respect to s.th.',\n",
       "  'to (let) grow (specific sense or usage unclear)',\n",
       "  'to grow with respect to s.th. (object: human capacity)',\n",
       "  'to grow (object: none)'],\n",
       " ['or', 'and'],\n",
       " ['find strength, be able (to do)'],\n",
       " ['...'],\n",
       " ['leap, jump',\n",
       "  'heaven, sky',\n",
       "  'perhaps, if',\n",
       "  'verbal encltic following imperf. etc.',\n",
       "  'sg. masc. copula (nexus pronoun)',\n",
       "  'masc. possessive article sg.'],\n",
       " ['...'],\n",
       " ['plural copula (nexus pronoun)',\n",
       "  'immutable preterite converter',\n",
       "  'mutable preterite converter',\n",
       "  'plural of possessive article',\n",
       "  'verbal präfix of unfulfiled condition',\n",
       "  'interrogative particle'],\n",
       " ['...'],\n",
       " ['and, but (specific sense unclear)',\n",
       "  'and...: (marking a list or set)',\n",
       "  'but, on the other hand, nonetheless (adversative)',\n",
       "  'for (explanatory, where one would expect γάρ)',\n",
       "  'and, so, then, for (marking shift in narrative, or change in subject',\n",
       "  'especially, in particular, even (emphatic)'],\n",
       " ['leap, jump',\n",
       "  'heaven, sky',\n",
       "  'perhaps, if',\n",
       "  'verbal encltic following imperf. etc.',\n",
       "  'sg. masc. copula (nexus pronoun)',\n",
       "  'masc. possessive article sg.'],\n",
       " ['by, with (as agent)', 'in, at, on'],\n",
       " ['...'],\n",
       " ['nose',\n",
       "  'keep festival (rare)',\n",
       "  'festival',\n",
       "  'divine communion, service',\n",
       "  'rising',\n",
       "  'rise (of sun)',\n",
       "  'begin',\n",
       "  'except (rare)',\n",
       "  'to, toward (of persons)',\n",
       "  'up to, to lenght of (in reckonings)',\n",
       "  'till, at, by, for (of time)',\n",
       "  'to, at (of places and things)'],\n",
       " ['leap, jump',\n",
       "  'heaven, sky',\n",
       "  'perhaps, if',\n",
       "  'verbal encltic following imperf. etc.',\n",
       "  'sg. masc. copula (nexus pronoun)',\n",
       "  'masc. possessive article sg.'],\n",
       " ['be bad, wicked', 'day'],\n",
       " ['...'],\n",
       " ['reveal, be revealed, appear'],\n",
       " ['out, forth, outward'],\n",
       " ['...']]"
      ]
     },
     "execution_count": 215,
     "metadata": {},
     "output_type": "execute_result"
    }
   ],
   "source": [
    "translate(\"ⲡ ϣⲏⲣⲉ ⲇⲉ ϣⲏⲙ ⲁ ϥ ⲁⲩⲝⲁⲛⲉ ⲁⲩⲱ ⲁ ϥ ϭⲙϭⲟⲙ ϩⲙ ⲡⲉ ⲡⲛⲉⲩⲙⲁ . ⲛⲉ ϥ ϣⲟⲟⲡ ⲇⲉ ⲡⲉ ϩⲛ ⲛ ϫⲁⲓⲉ ϣⲁ ⲡⲉ ϩⲟⲟⲩ ⲙ ⲡⲉϥ ⲟⲩⲱⲛϩ ⲉⲃⲟⲗ ⲙ ⲡ ⲓⲥⲣⲁⲏⲗ\")"
   ]
  },
  {
   "cell_type": "code",
   "execution_count": 128,
   "metadata": {},
   "outputs": [],
   "source": [
    "amir[\"gpt\"] = [\n",
    "    \"I invoke pain every lower part.\",\n",
    "    \"Concerning the daughter and small person, hear fifty so they.\",\n",
    "    \"They go inside, invoke each other's pity by the fleshly gap.\",\n",
    "    \"The deceased part so they know ten by the firm so that.\",\n",
    "    \"Give every son a cross so they go 100.\",\n",
    "    \"Concerning this, especially she, she again here, 200.\",\n",
    "    \"She invoked the priest, then she gave eighty in order to invoke more important ones.\",\n",
    "    \"She summoned 200 things to send 100 by the house, truly she summoned those every year.\",\n",
    "    \"Because if those deceased invoke, call upon, and summon, they give blessings from that temple.\",\n",
    "    \"In the future, a priest will invoke the cross and do work, indicating debt from fifty coins.\",\n",
    "    \"Truly, if it befall, she has a hundred coins or two hundred.\",\n",
    "    \"Then say whether we invoke her with pity and go to her if it befall, or if it be ten, for we go and fight against the elder one, summoning them by means of a cross or a gift.\",\n",
    "    \"You tell us every secret, whether all are hidden or not, by reason of you, do work and send, for coins, without hiding any guileful thing.\",\n",
    "    \"Invoke the highest priest, summoning the elders, for five tongs, to raise them upward, for Satan's humbleness.\",\n",
    "    \"Invoke the divine elder, turning outward for five nomisma coins, for help, the godly, god, to you.\",\n",
    "    ]"
   ]
  },
  {
   "cell_type": "code",
   "execution_count": 130,
   "metadata": {},
   "outputs": [],
   "source": [
    "amir.to_csv(\"notebooks/amir_gpt.csv\", index=False)"
   ]
  },
  {
   "cell_type": "code",
   "execution_count": 132,
   "metadata": {},
   "outputs": [],
   "source": [
    "bleu = sacrebleu.metrics.BLEU()"
   ]
  },
  {
   "cell_type": "code",
   "execution_count": 133,
   "metadata": {},
   "outputs": [],
   "source": [
    "max_num_translations = len(amir[\"eng\"])"
   ]
  },
  {
   "cell_type": "code",
   "execution_count": 135,
   "metadata": {},
   "outputs": [],
   "source": [
    "refs = amir[\"eng\"].tolist()\n",
    "translations_gpt = amir[\"gpt\"].tolist()\n",
    "translations_ml = amir[\"ml_translation\"].tolist()"
   ]
  },
  {
   "cell_type": "code",
   "execution_count": 138,
   "metadata": {},
   "outputs": [
    {
     "data": {
      "text/plain": [
       "BLEU = 1.20 15.2/1.5/0.4/0.2 (BP = 1.000 ratio = 1.423 hyp_len = 276 ref_len = 194)"
      ]
     },
     "execution_count": 138,
     "metadata": {},
     "output_type": "execute_result"
    }
   ],
   "source": [
    "bleu.corpus_score(translations_gpt[:max_num_translations], [refs[:max_num_translations]])"
   ]
  },
  {
   "cell_type": "code",
   "execution_count": 139,
   "metadata": {},
   "outputs": [
    {
     "data": {
      "text/plain": [
       "BLEU = 19.46 50.3/23.9/14.3/8.9 (BP = 0.984 ratio = 0.985 hyp_len = 191 ref_len = 194)"
      ]
     },
     "execution_count": 139,
     "metadata": {},
     "output_type": "execute_result"
    }
   ],
   "source": [
    "bleu.corpus_score(translations_ml[:max_num_translations], [refs[:max_num_translations]])"
   ]
  },
  {
   "cell_type": "code",
   "execution_count": 140,
   "metadata": {},
   "outputs": [
    {
     "data": {
      "text/plain": [
       "chrF2 = 19.93"
      ]
     },
     "execution_count": 140,
     "metadata": {},
     "output_type": "execute_result"
    }
   ],
   "source": [
    "sacrebleu.corpus_chrf(translations_gpt, [refs])"
   ]
  },
  {
   "cell_type": "code",
   "execution_count": 141,
   "metadata": {},
   "outputs": [
    {
     "data": {
      "text/plain": [
       "chrF2 = 36.37"
      ]
     },
     "execution_count": 141,
     "metadata": {},
     "output_type": "execute_result"
    }
   ],
   "source": [
    "sacrebleu.corpus_chrf(translations_ml, [refs])"
   ]
  },
  {
   "cell_type": "code",
   "execution_count": null,
   "metadata": {},
   "outputs": [],
   "source": []
  }
 ],
 "metadata": {
  "kernelspec": {
   "display_name": "coptic",
   "language": "python",
   "name": "python3"
  },
  "language_info": {
   "codemirror_mode": {
    "name": "ipython",
    "version": 3
   },
   "file_extension": ".py",
   "mimetype": "text/x-python",
   "name": "python",
   "nbconvert_exporter": "python",
   "pygments_lexer": "ipython3",
   "version": "3.11.0"
  }
 },
 "nbformat": 4,
 "nbformat_minor": 2
}
