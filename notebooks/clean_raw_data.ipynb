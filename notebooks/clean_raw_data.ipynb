{
 "cells": [
  {
   "cell_type": "code",
   "execution_count": 19,
   "metadata": {},
   "outputs": [
    {
     "name": "stdout",
     "output_type": "stream",
     "text": [
      "/mnt/storage/maxenis/coptic-machine-translation\n"
     ]
    }
   ],
   "source": [
    "%cd /mnt/storage/maxenis/coptic-machine-translation"
   ]
  },
  {
   "cell_type": "code",
   "execution_count": 56,
   "metadata": {},
   "outputs": [
    {
     "data": {
      "text/plain": [
       "<module 'parse_data' from '/mnt/storage/maxenis/coptic-machine-translation/parse_data.py'>"
      ]
     },
     "execution_count": 56,
     "metadata": {},
     "output_type": "execute_result"
    }
   ],
   "source": [
    "import pandas as pd\n",
    "import string\n",
    "import parse_data\n",
    "import datasets\n",
    "from importlib import reload\n",
    "reload(parse_data)"
   ]
  },
  {
   "cell_type": "code",
   "execution_count": 21,
   "metadata": {},
   "outputs": [],
   "source": [
    "RAW_DATA_FILE = \"datasets/monolingual_raw_data.csv\"\n",
    "DATA_FILE = \"datasets/monolingual_data.csv\"\n",
    "CLEAN_DATA_FILE = \"datasets/clean_monolingual_data.csv\""
   ]
  },
  {
   "cell_type": "code",
   "execution_count": 22,
   "metadata": {},
   "outputs": [
    {
     "data": {
      "text/html": [
       "<div>\n",
       "<style scoped>\n",
       "    .dataframe tbody tr th:only-of-type {\n",
       "        vertical-align: middle;\n",
       "    }\n",
       "\n",
       "    .dataframe tbody tr th {\n",
       "        vertical-align: top;\n",
       "    }\n",
       "\n",
       "    .dataframe thead th {\n",
       "        text-align: right;\n",
       "    }\n",
       "</style>\n",
       "<table border=\"1\" class=\"dataframe\">\n",
       "  <thead>\n",
       "    <tr style=\"text-align: right;\">\n",
       "      <th></th>\n",
       "      <th>Unnamed: 0</th>\n",
       "      <th>translation</th>\n",
       "      <th>norm_group</th>\n",
       "      <th>norm</th>\n",
       "      <th>func</th>\n",
       "      <th>pos</th>\n",
       "      <th>arabic</th>\n",
       "      <th>meta::translation</th>\n",
       "      <th>meta::title</th>\n",
       "      <th>meta::source</th>\n",
       "      <th>meta::corpus</th>\n",
       "    </tr>\n",
       "  </thead>\n",
       "  <tbody>\n",
       "    <tr>\n",
       "      <th>0</th>\n",
       "      <td>0</td>\n",
       "      <td>...</td>\n",
       "      <td>ⲉⲥⲁⲡⲁⲧⲁⲙⲙⲟⲥ ⲙⲁⲩⲁⲁⲥ ⲙⲛϩⲉⲛⲙⲏⲏϣⲉ ⲛⲁⲧϩⲏⲧ ⲛⲧϩⲉ ⲛϩⲉⲛ...</td>\n",
       "      <td>ⲉ ⲥ ⲁⲡⲁⲧⲁ ⲙⲙⲟ ⲥ ⲙⲁⲩⲁⲁ ⲥ ⲙⲛ ϩⲉⲛ ⲙⲏⲏϣⲉ ⲛ ⲁⲧϩⲏⲧ ⲛ...</td>\n",
       "      <td>mark nsubj root case obj advmod det cc det obl...</td>\n",
       "      <td>CCIRC PPERS V PREP PPERO IMOD PPERO PREP ART N...</td>\n",
       "      <td>NaN</td>\n",
       "      <td>none</td>\n",
       "      <td>Apa Johannes Canons: FA143-158</td>\n",
       "      <td>Diliana Atanassova, The Canons of Apa John the...</td>\n",
       "      <td>johannes.canons</td>\n",
       "    </tr>\n",
       "    <tr>\n",
       "      <th>1</th>\n",
       "      <td>1</td>\n",
       "      <td>...</td>\n",
       "      <td>ⲙⲟⲛⲟⲛ ⲉⲧⲃⲉⲧⲙⲛⲧϫⲁⲥⲓϩⲏⲧ · ⲕⲁⲧⲁⲧϩⲉ ⲛⲧⲁⲓⲣϣⲣⲡ ⲛϫⲟⲟⲥ...</td>\n",
       "      <td>ⲙⲟⲛⲟⲛ ⲉⲧⲃⲉ ⲧ ⲙⲛⲧϫⲁⲥⲓϩⲏⲧ · ⲕⲁⲧⲁ ⲧ ϩⲉ ⲛⲧ ⲁ ⲓ ⲣϣⲣ...</td>\n",
       "      <td>advmod case det root punct case det obl mark a...</td>\n",
       "      <td>CONJ PREP ART N PUNCT PREP ART N CREL APST PPE...</td>\n",
       "      <td>NaN</td>\n",
       "      <td>none</td>\n",
       "      <td>Apa Johannes Canons: FA143-158</td>\n",
       "      <td>Diliana Atanassova, The Canons of Apa John the...</td>\n",
       "      <td>johannes.canons</td>\n",
       "    </tr>\n",
       "    <tr>\n",
       "      <th>2</th>\n",
       "      <td>2</td>\n",
       "      <td>...</td>\n",
       "      <td>ⲛⲓⲙ ϭⲉ ⲡⲉⲧⲛⲁϣϫⲓ ⲏ ⲡⲉϫⲓⲛⲛϣⲟⲣⲡ ⲛⲛⲉⲛⲧⲁⲩⲧⲁⲕⲟ ⲉⲁⲩⲃⲱ...</td>\n",
       "      <td>ⲛⲓⲙ ϭⲉ ⲡ ⲉⲧ ⲛⲁ ϣ ϫⲓ ⲏ ⲡⲉ ϫⲓⲛ ⲛ ϣⲟⲣⲡ ⲛ ⲛ ⲉⲛⲧ ⲁ ...</td>\n",
       "      <td>root advmod nsubj mark aux aux csubj cc det ca...</td>\n",
       "      <td>PINT PTC COP CREL FUT V V CONJ COP PREP ART N ...</td>\n",
       "      <td>NaN</td>\n",
       "      <td>none</td>\n",
       "      <td>Apa Johannes Canons: FA143-158</td>\n",
       "      <td>Diliana Atanassova, The Canons of Apa John the...</td>\n",
       "      <td>johannes.canons</td>\n",
       "    </tr>\n",
       "    <tr>\n",
       "      <th>3</th>\n",
       "      <td>3</td>\n",
       "      <td>...</td>\n",
       "      <td>ϫⲉⲁⲩⲙⲟⲟϣⲉ ϩⲛⲧⲉϩⲓⲏ ⲛⲧⲙⲛⲧϫⲁⲥⲓϩⲏⲧ · ⲁⲩⲱ ⲉⲁⲩϣⲱⲡⲉ ϩ...</td>\n",
       "      <td>ϫⲉ ⲁ ⲩ ⲙⲟⲟϣⲉ ϩⲛ ⲧⲉ ϩⲓⲏ ⲛ ⲧ ⲙⲛⲧϫⲁⲥⲓϩⲏⲧ · ⲁⲩⲱ ⲉ ...</td>\n",
       "      <td>mark aux nsubj root case det obl case det nmod...</td>\n",
       "      <td>CONJ APST PPERS V PREP ART N PREP ART N PUNCT ...</td>\n",
       "      <td>NaN</td>\n",
       "      <td>none</td>\n",
       "      <td>Apa Johannes Canons: FA143-158</td>\n",
       "      <td>Diliana Atanassova, The Canons of Apa John the...</td>\n",
       "      <td>johannes.canons</td>\n",
       "    </tr>\n",
       "    <tr>\n",
       "      <th>4</th>\n",
       "      <td>4</td>\n",
       "      <td>...</td>\n",
       "      <td>ⲕⲁⲓ ⲅⲁⲣ ⲙⲛⲛⲥⲁⲛⲉⲛⲧⲁⲡϫⲟⲉⲓⲥ ϫⲟⲟⲩ ⲧⲏⲣⲟⲩ ϫⲓⲛⲛϣⲟⲣⲡ ⲉ...</td>\n",
       "      <td>ⲕⲁⲓ ⲅⲁⲣ ⲙⲛⲛⲥⲁ ⲛ ⲉⲛⲧ ⲁ ⲡ ϫⲟⲉⲓⲥ ϫⲟⲟ ⲩ ⲧⲏⲣ ⲟⲩ ϫⲓⲛ...</td>\n",
       "      <td>cc advmod case root mark aux det nsubj acl:rel...</td>\n",
       "      <td>CONJ PTC PREP ART CREL APST ART N V PPERO IMOD...</td>\n",
       "      <td>NaN</td>\n",
       "      <td>none</td>\n",
       "      <td>Apa Johannes Canons: FA143-158</td>\n",
       "      <td>Diliana Atanassova, The Canons of Apa John the...</td>\n",
       "      <td>johannes.canons</td>\n",
       "    </tr>\n",
       "  </tbody>\n",
       "</table>\n",
       "</div>"
      ],
      "text/plain": [
       "   Unnamed: 0 translation                                         norm_group  \\\n",
       "0           0         ...  ⲉⲥⲁⲡⲁⲧⲁⲙⲙⲟⲥ ⲙⲁⲩⲁⲁⲥ ⲙⲛϩⲉⲛⲙⲏⲏϣⲉ ⲛⲁⲧϩⲏⲧ ⲛⲧϩⲉ ⲛϩⲉⲛ...   \n",
       "1           1         ...  ⲙⲟⲛⲟⲛ ⲉⲧⲃⲉⲧⲙⲛⲧϫⲁⲥⲓϩⲏⲧ · ⲕⲁⲧⲁⲧϩⲉ ⲛⲧⲁⲓⲣϣⲣⲡ ⲛϫⲟⲟⲥ...   \n",
       "2           2         ...  ⲛⲓⲙ ϭⲉ ⲡⲉⲧⲛⲁϣϫⲓ ⲏ ⲡⲉϫⲓⲛⲛϣⲟⲣⲡ ⲛⲛⲉⲛⲧⲁⲩⲧⲁⲕⲟ ⲉⲁⲩⲃⲱ...   \n",
       "3           3         ...  ϫⲉⲁⲩⲙⲟⲟϣⲉ ϩⲛⲧⲉϩⲓⲏ ⲛⲧⲙⲛⲧϫⲁⲥⲓϩⲏⲧ · ⲁⲩⲱ ⲉⲁⲩϣⲱⲡⲉ ϩ...   \n",
       "4           4         ...  ⲕⲁⲓ ⲅⲁⲣ ⲙⲛⲛⲥⲁⲛⲉⲛⲧⲁⲡϫⲟⲉⲓⲥ ϫⲟⲟⲩ ⲧⲏⲣⲟⲩ ϫⲓⲛⲛϣⲟⲣⲡ ⲉ...   \n",
       "\n",
       "                                                norm  \\\n",
       "0  ⲉ ⲥ ⲁⲡⲁⲧⲁ ⲙⲙⲟ ⲥ ⲙⲁⲩⲁⲁ ⲥ ⲙⲛ ϩⲉⲛ ⲙⲏⲏϣⲉ ⲛ ⲁⲧϩⲏⲧ ⲛ...   \n",
       "1  ⲙⲟⲛⲟⲛ ⲉⲧⲃⲉ ⲧ ⲙⲛⲧϫⲁⲥⲓϩⲏⲧ · ⲕⲁⲧⲁ ⲧ ϩⲉ ⲛⲧ ⲁ ⲓ ⲣϣⲣ...   \n",
       "2  ⲛⲓⲙ ϭⲉ ⲡ ⲉⲧ ⲛⲁ ϣ ϫⲓ ⲏ ⲡⲉ ϫⲓⲛ ⲛ ϣⲟⲣⲡ ⲛ ⲛ ⲉⲛⲧ ⲁ ...   \n",
       "3  ϫⲉ ⲁ ⲩ ⲙⲟⲟϣⲉ ϩⲛ ⲧⲉ ϩⲓⲏ ⲛ ⲧ ⲙⲛⲧϫⲁⲥⲓϩⲏⲧ · ⲁⲩⲱ ⲉ ...   \n",
       "4  ⲕⲁⲓ ⲅⲁⲣ ⲙⲛⲛⲥⲁ ⲛ ⲉⲛⲧ ⲁ ⲡ ϫⲟⲉⲓⲥ ϫⲟⲟ ⲩ ⲧⲏⲣ ⲟⲩ ϫⲓⲛ...   \n",
       "\n",
       "                                                func  \\\n",
       "0  mark nsubj root case obj advmod det cc det obl...   \n",
       "1  advmod case det root punct case det obl mark a...   \n",
       "2  root advmod nsubj mark aux aux csubj cc det ca...   \n",
       "3  mark aux nsubj root case det obl case det nmod...   \n",
       "4  cc advmod case root mark aux det nsubj acl:rel...   \n",
       "\n",
       "                                                 pos  arabic  \\\n",
       "0  CCIRC PPERS V PREP PPERO IMOD PPERO PREP ART N...     NaN   \n",
       "1  CONJ PREP ART N PUNCT PREP ART N CREL APST PPE...     NaN   \n",
       "2  PINT PTC COP CREL FUT V V CONJ COP PREP ART N ...     NaN   \n",
       "3  CONJ APST PPERS V PREP ART N PREP ART N PUNCT ...     NaN   \n",
       "4  CONJ PTC PREP ART CREL APST ART N V PPERO IMOD...     NaN   \n",
       "\n",
       "  meta::translation                     meta::title  \\\n",
       "0              none  Apa Johannes Canons: FA143-158   \n",
       "1              none  Apa Johannes Canons: FA143-158   \n",
       "2              none  Apa Johannes Canons: FA143-158   \n",
       "3              none  Apa Johannes Canons: FA143-158   \n",
       "4              none  Apa Johannes Canons: FA143-158   \n",
       "\n",
       "                                        meta::source     meta::corpus  \n",
       "0  Diliana Atanassova, The Canons of Apa John the...  johannes.canons  \n",
       "1  Diliana Atanassova, The Canons of Apa John the...  johannes.canons  \n",
       "2  Diliana Atanassova, The Canons of Apa John the...  johannes.canons  \n",
       "3  Diliana Atanassova, The Canons of Apa John the...  johannes.canons  \n",
       "4  Diliana Atanassova, The Canons of Apa John the...  johannes.canons  "
      ]
     },
     "execution_count": 22,
     "metadata": {},
     "output_type": "execute_result"
    }
   ],
   "source": [
    "raw_df = pd.read_csv(RAW_DATA_FILE)\n",
    "raw_df.head()"
   ]
  },
  {
   "cell_type": "code",
   "execution_count": 23,
   "metadata": {},
   "outputs": [],
   "source": [
    "illegal = set(string.ascii_lowercase + string.ascii_uppercase)\n",
    "\n",
    "def replace_apos(df):\n",
    "    for col in df.columns:\n",
    "        # if string column\n",
    "        if df[col].dtype == object:\n",
    "            df[col] = df[col].str.replace(\"&apos;\", \"'\")\n",
    "\n",
    "def clean_empty_norms(df):\n",
    "    return df[~df[\"norm\"].str.contains(\"_warn:empty_norm_\")]\n",
    "\n",
    "def first_illegal(s):\n",
    "    for i, c in enumerate(s):\n",
    "        if c in illegal:\n",
    "            return i, c\n",
    "\n",
    "def invalid(s):\n",
    "    return any(c in illegal for c in s)\n",
    "\n",
    "# get dataframe of all rows with invalid norm\n",
    "def get_invalid(df):\n",
    "    return df[df[\"norm\"].apply(invalid)]\n",
    "\n",
    "def find_invalid(string: str):\n",
    "    for index, c in enumerate(string):\n",
    "        if c in illegal:\n",
    "            return index, c\n",
    "        \n",
    "replace_apos(raw_df)"
   ]
  },
  {
   "cell_type": "code",
   "execution_count": 24,
   "metadata": {},
   "outputs": [
    {
     "data": {
      "text/plain": [
       "13"
      ]
     },
     "execution_count": 24,
     "metadata": {},
     "output_type": "execute_result"
    }
   ],
   "source": [
    "\n",
    "len(get_invalid(raw_df))\n"
   ]
  },
  {
   "cell_type": "code",
   "execution_count": 25,
   "metadata": {},
   "outputs": [
    {
     "data": {
      "text/plain": [
       "5"
      ]
     },
     "execution_count": 25,
     "metadata": {},
     "output_type": "execute_result"
    }
   ],
   "source": [
    "data = clean_empty_norms(raw_df)\n",
    "len(get_invalid(data))"
   ]
  },
  {
   "cell_type": "code",
   "execution_count": 26,
   "metadata": {},
   "outputs": [
    {
     "name": "stdout",
     "output_type": "stream",
     "text": [
      "norms changed:\n",
      "30        ⲡⲗⲏⲛ ϣⲁ ⲧⲛ ⲁϥⲉϥ ϩⲛ ⲟⲩ ⲥⲛⲟϥ ⲙ ⲯⲩⲭⲏ ⲛⲛⲉ ⲧⲛ oⲩⲟⲙ ϥ\n",
      "4587    ⲡ ϩⲟϥ oⲩⲛⲧⲉ ⲧⲉϥ ⲙⲁⲧⲟⲩ ⲛⲉⲥ ϣⲓ · ⲁⲩⲱ ⲛⲧ ⲁ ϥ ⲣ ⲡ ...\n",
      "4869                       ϩⲟⲩo ϩⲉⲓ....... ⲟⲩ ..........·\n",
      "5805    ⲃⲱⲕ ϣⲁ ⲛ ⲉⲧ ⲙⲙⲁⲩ · ⲁⲗⲗⲁ ⲉϣⲱⲡⲉ ⲁ ⲩ ⲥⲟⲩⲱⲛ ⲟⲩ ⲙⲁⲩ...\n",
      "Name: norm, dtype: object\n"
     ]
    },
    {
     "name": "stderr",
     "output_type": "stream",
     "text": [
      "/tmp/ipykernel_3876526/2663060917.py:5: SettingWithCopyWarning: \n",
      "A value is trying to be set on a copy of a slice from a DataFrame.\n",
      "Try using .loc[row_indexer,col_indexer] = value instead\n",
      "\n",
      "See the caveats in the documentation: https://pandas.pydata.org/pandas-docs/stable/user_guide/indexing.html#returning-a-view-versus-a-copy\n",
      "  data[\"norm\"] = data[\"norm\"].str.replace(\"o\", coptic_o)\n",
      "/tmp/ipykernel_3876526/2663060917.py:6: SettingWithCopyWarning: \n",
      "A value is trying to be set on a copy of a slice from a DataFrame.\n",
      "Try using .loc[row_indexer,col_indexer] = value instead\n",
      "\n",
      "See the caveats in the documentation: https://pandas.pydata.org/pandas-docs/stable/user_guide/indexing.html#returning-a-view-versus-a-copy\n",
      "  data[\"norm_group\"] = data[\"norm_group\"].str.replace(\"o\", coptic_o)\n",
      "/tmp/ipykernel_3876526/2663060917.py:9: SettingWithCopyWarning: \n",
      "A value is trying to be set on a copy of a slice from a DataFrame.\n",
      "Try using .loc[row_indexer,col_indexer] = value instead\n",
      "\n",
      "See the caveats in the documentation: https://pandas.pydata.org/pandas-docs/stable/user_guide/indexing.html#returning-a-view-versus-a-copy\n",
      "  data[\"norm\"] = data[\"norm\"].str.replace(\"i\", coptic_i)\n",
      "/tmp/ipykernel_3876526/2663060917.py:10: SettingWithCopyWarning: \n",
      "A value is trying to be set on a copy of a slice from a DataFrame.\n",
      "Try using .loc[row_indexer,col_indexer] = value instead\n",
      "\n",
      "See the caveats in the documentation: https://pandas.pydata.org/pandas-docs/stable/user_guide/indexing.html#returning-a-view-versus-a-copy\n",
      "  data[\"norm_group\"] = data[\"norm_group\"].str.replace(\"i\", coptic_i)\n",
      "/tmp/ipykernel_3876526/2663060917.py:13: SettingWithCopyWarning: \n",
      "A value is trying to be set on a copy of a slice from a DataFrame.\n",
      "Try using .loc[row_indexer,col_indexer] = value instead\n",
      "\n",
      "See the caveats in the documentation: https://pandas.pydata.org/pandas-docs/stable/user_guide/indexing.html#returning-a-view-versus-a-copy\n",
      "  data[\"norm\"] = data[\"norm\"].str.replace(\"a\", coptic_a)\n",
      "/tmp/ipykernel_3876526/2663060917.py:14: SettingWithCopyWarning: \n",
      "A value is trying to be set on a copy of a slice from a DataFrame.\n",
      "Try using .loc[row_indexer,col_indexer] = value instead\n",
      "\n",
      "See the caveats in the documentation: https://pandas.pydata.org/pandas-docs/stable/user_guide/indexing.html#returning-a-view-versus-a-copy\n",
      "  data[\"norm_group\"] = data[\"norm_group\"].str.replace(\"a\", coptic_a)\n",
      "/tmp/ipykernel_3876526/2663060917.py:17: SettingWithCopyWarning: \n",
      "A value is trying to be set on a copy of a slice from a DataFrame.\n",
      "Try using .loc[row_indexer,col_indexer] = value instead\n",
      "\n",
      "See the caveats in the documentation: https://pandas.pydata.org/pandas-docs/stable/user_guide/indexing.html#returning-a-view-versus-a-copy\n",
      "  data[\"norm\"] = data[\"norm\"].str.replace(\"n\", coptic_n)\n",
      "/tmp/ipykernel_3876526/2663060917.py:18: SettingWithCopyWarning: \n",
      "A value is trying to be set on a copy of a slice from a DataFrame.\n",
      "Try using .loc[row_indexer,col_indexer] = value instead\n",
      "\n",
      "See the caveats in the documentation: https://pandas.pydata.org/pandas-docs/stable/user_guide/indexing.html#returning-a-view-versus-a-copy\n",
      "  data[\"norm_group\"] = data[\"norm_group\"].str.replace(\"n\", coptic_n)\n",
      "/tmp/ipykernel_3876526/2663060917.py:21: SettingWithCopyWarning: \n",
      "A value is trying to be set on a copy of a slice from a DataFrame.\n",
      "Try using .loc[row_indexer,col_indexer] = value instead\n",
      "\n",
      "See the caveats in the documentation: https://pandas.pydata.org/pandas-docs/stable/user_guide/indexing.html#returning-a-view-versus-a-copy\n",
      "  data[\"norm\"] = data[\"norm\"].str.replace(\"l\", coptic_l)\n",
      "/tmp/ipykernel_3876526/2663060917.py:22: SettingWithCopyWarning: \n",
      "A value is trying to be set on a copy of a slice from a DataFrame.\n",
      "Try using .loc[row_indexer,col_indexer] = value instead\n",
      "\n",
      "See the caveats in the documentation: https://pandas.pydata.org/pandas-docs/stable/user_guide/indexing.html#returning-a-view-versus-a-copy\n",
      "  data[\"norm_group\"] = data[\"norm_group\"].str.replace(\"l\", coptic_l)\n",
      "/tmp/ipykernel_3876526/2663060917.py:25: SettingWithCopyWarning: \n",
      "A value is trying to be set on a copy of a slice from a DataFrame.\n",
      "Try using .loc[row_indexer,col_indexer] = value instead\n",
      "\n",
      "See the caveats in the documentation: https://pandas.pydata.org/pandas-docs/stable/user_guide/indexing.html#returning-a-view-versus-a-copy\n",
      "  data[\"norm\"] = data[\"norm\"].str.replace(\"c\", coptic_c)\n",
      "/tmp/ipykernel_3876526/2663060917.py:26: SettingWithCopyWarning: \n",
      "A value is trying to be set on a copy of a slice from a DataFrame.\n",
      "Try using .loc[row_indexer,col_indexer] = value instead\n",
      "\n",
      "See the caveats in the documentation: https://pandas.pydata.org/pandas-docs/stable/user_guide/indexing.html#returning-a-view-versus-a-copy\n",
      "  data[\"norm_group\"] = data[\"norm_group\"].str.replace(\"c\", coptic_c)\n",
      "/tmp/ipykernel_3876526/2663060917.py:29: SettingWithCopyWarning: \n",
      "A value is trying to be set on a copy of a slice from a DataFrame.\n",
      "Try using .loc[row_indexer,col_indexer] = value instead\n",
      "\n",
      "See the caveats in the documentation: https://pandas.pydata.org/pandas-docs/stable/user_guide/indexing.html#returning-a-view-versus-a-copy\n",
      "  data[\"norm\"] = data[\"norm\"].str.replace(\"z\", coptic_z)\n",
      "/tmp/ipykernel_3876526/2663060917.py:30: SettingWithCopyWarning: \n",
      "A value is trying to be set on a copy of a slice from a DataFrame.\n",
      "Try using .loc[row_indexer,col_indexer] = value instead\n",
      "\n",
      "See the caveats in the documentation: https://pandas.pydata.org/pandas-docs/stable/user_guide/indexing.html#returning-a-view-versus-a-copy\n",
      "  data[\"norm_group\"] = data[\"norm_group\"].str.replace(\"z\", coptic_z)\n",
      "/tmp/ipykernel_3876526/2663060917.py:33: SettingWithCopyWarning: \n",
      "A value is trying to be set on a copy of a slice from a DataFrame.\n",
      "Try using .loc[row_indexer,col_indexer] = value instead\n",
      "\n",
      "See the caveats in the documentation: https://pandas.pydata.org/pandas-docs/stable/user_guide/indexing.html#returning-a-view-versus-a-copy\n",
      "  data[\"norm\"] = data[\"norm\"].str.replace(\"e\", coptic_e)\n",
      "/tmp/ipykernel_3876526/2663060917.py:34: SettingWithCopyWarning: \n",
      "A value is trying to be set on a copy of a slice from a DataFrame.\n",
      "Try using .loc[row_indexer,col_indexer] = value instead\n",
      "\n",
      "See the caveats in the documentation: https://pandas.pydata.org/pandas-docs/stable/user_guide/indexing.html#returning-a-view-versus-a-copy\n",
      "  data[\"norm_group\"] = data[\"norm_group\"].str.replace(\"e\", coptic_e)\n"
     ]
    },
    {
     "data": {
      "text/plain": [
       "1"
      ]
     },
     "execution_count": 26,
     "metadata": {},
     "output_type": "execute_result"
    }
   ],
   "source": [
    "# replace english o with coptic o in norm and norm_group\n",
    "coptic_o = 'ⲟ'\n",
    "print(\"norms changed:\")\n",
    "print(data[data[\"norm\"].str.contains(\"o\")][\"norm\"])\n",
    "data[\"norm\"] = data[\"norm\"].str.replace(\"o\", coptic_o)\n",
    "data[\"norm_group\"] = data[\"norm_group\"].str.replace(\"o\", coptic_o)\n",
    "\n",
    "coptic_i = 'ⲓ'\n",
    "data[\"norm\"] = data[\"norm\"].str.replace(\"i\", coptic_i)\n",
    "data[\"norm_group\"] = data[\"norm_group\"].str.replace(\"i\", coptic_i)\n",
    "\n",
    "coptic_a = 'ⲁ'\n",
    "data[\"norm\"] = data[\"norm\"].str.replace(\"a\", coptic_a)\n",
    "data[\"norm_group\"] = data[\"norm_group\"].str.replace(\"a\", coptic_a)\n",
    "\n",
    "coptic_n = 'ⲛ'\n",
    "data[\"norm\"] = data[\"norm\"].str.replace(\"n\", coptic_n)\n",
    "data[\"norm_group\"] = data[\"norm_group\"].str.replace(\"n\", coptic_n)\n",
    "\n",
    "coptic_l = 'ⲗ'\n",
    "data[\"norm\"] = data[\"norm\"].str.replace(\"l\", coptic_l)\n",
    "data[\"norm_group\"] = data[\"norm_group\"].str.replace(\"l\", coptic_l)\n",
    "\n",
    "coptic_c = 'ⲥ'\n",
    "data[\"norm\"] = data[\"norm\"].str.replace(\"c\", coptic_c)\n",
    "data[\"norm_group\"] = data[\"norm_group\"].str.replace(\"c\", coptic_c)\n",
    "\n",
    "coptic_z = 'ⲍ'\n",
    "data[\"norm\"] = data[\"norm\"].str.replace(\"z\", coptic_z)\n",
    "data[\"norm_group\"] = data[\"norm_group\"].str.replace(\"z\", coptic_z)\n",
    "\n",
    "coptic_e = 'ⲉ'\n",
    "data[\"norm\"] = data[\"norm\"].str.replace(\"e\", coptic_e)\n",
    "data[\"norm_group\"] = data[\"norm_group\"].str.replace(\"e\", coptic_e)\n",
    "\n",
    "len(get_invalid(data))"
   ]
  },
  {
   "cell_type": "code",
   "execution_count": 27,
   "metadata": {},
   "outputs": [
    {
     "name": "stdout",
     "output_type": "stream",
     "text": [
      "0\n",
      "5840\n"
     ]
    }
   ],
   "source": [
    "# remove remaining invalid norms\n",
    "data = data[~data[\"norm\"].apply(invalid)]\n",
    "print(len(get_invalid(data)))\n",
    "print(len(data))\n"
   ]
  },
  {
   "cell_type": "code",
   "execution_count": 28,
   "metadata": {},
   "outputs": [
    {
     "name": "stdout",
     "output_type": "stream",
     "text": [
      "5827\n"
     ]
    }
   ],
   "source": [
    "# remove rows with no alphanumeric characters in norm\n",
    "data = parse_data.filter_no_text_cols(data, ['norm', 'norm_group'])\n",
    "print(len(data))"
   ]
  },
  {
   "cell_type": "code",
   "execution_count": 29,
   "metadata": {},
   "outputs": [],
   "source": [
    "data.to_csv(DATA_FILE)"
   ]
  },
  {
   "cell_type": "markdown",
   "metadata": {},
   "source": [
    "### Cleaning resulting data for translation"
   ]
  },
  {
   "cell_type": "code",
   "execution_count": 57,
   "metadata": {},
   "outputs": [
    {
     "data": {
      "text/plain": [
       "5827"
      ]
     },
     "execution_count": 57,
     "metadata": {},
     "output_type": "execute_result"
    }
   ],
   "source": [
    "data = pd.read_csv(DATA_FILE)\n",
    "len(data)"
   ]
  },
  {
   "cell_type": "code",
   "execution_count": 58,
   "metadata": {},
   "outputs": [
    {
     "data": {
      "text/plain": [
       "5827"
      ]
     },
     "execution_count": 58,
     "metadata": {},
     "output_type": "execute_result"
    }
   ],
   "source": [
    "data = parse_data.filter_verses(data)\n",
    "len(data)"
   ]
  },
  {
   "cell_type": "code",
   "execution_count": 59,
   "metadata": {},
   "outputs": [
    {
     "data": {
      "text/plain": [
       "5827"
      ]
     },
     "execution_count": 59,
     "metadata": {},
     "output_type": "execute_result"
    }
   ],
   "source": [
    "data = parse_data.fix_periods(data)\n",
    "len(data)"
   ]
  },
  {
   "cell_type": "code",
   "execution_count": 60,
   "metadata": {},
   "outputs": [
    {
     "data": {
      "text/plain": [
       "5807"
      ]
     },
     "execution_count": 60,
     "metadata": {},
     "output_type": "execute_result"
    }
   ],
   "source": [
    "data = parse_data.filter_bracketed_periods(data)\n",
    "len(data)"
   ]
  },
  {
   "cell_type": "code",
   "execution_count": 61,
   "metadata": {},
   "outputs": [
    {
     "name": "stderr",
     "output_type": "stream",
     "text": [
      "/mnt/storage/maxenis/coptic-machine-translation/parse_data.py:69: UserWarning: This pattern is interpreted as a regular expression, and has match groups. To actually get the groups, use str.extract.\n",
      "  df = df[~df[col].str.contains(pattern, regex=True)]\n"
     ]
    },
    {
     "data": {
      "text/plain": [
       "5741"
      ]
     },
     "execution_count": 61,
     "metadata": {},
     "output_type": "execute_result"
    }
   ],
   "source": [
    "data = parse_data.filter_dots_and_ellipsis(data, ['norm', 'norm_group'])\n",
    "len(data)"
   ]
  },
  {
   "cell_type": "code",
   "execution_count": 62,
   "metadata": {},
   "outputs": [
    {
     "data": {
      "text/plain": [
       "5741"
      ]
     },
     "execution_count": 62,
     "metadata": {},
     "output_type": "execute_result"
    }
   ],
   "source": [
    "# data = parse_data.replace_dots_and_ellipsis(data)\n",
    "data = parse_data.remove_bullshit(data, [\"norm\", \"norm_group\"])\n",
    "data = parse_data.drop_empty(data, [\"norm\", \"norm_group\"])\n",
    "data = parse_data.unnormalize(data)\n",
    "data = parse_data.align_periods(data, [\"norm\", \"norm_group\"])\n",
    "\n",
    "len(data)"
   ]
  },
  {
   "cell_type": "code",
   "execution_count": 63,
   "metadata": {},
   "outputs": [],
   "source": [
    "data = data.reset_index()"
   ]
  },
  {
   "cell_type": "code",
   "execution_count": 64,
   "metadata": {},
   "outputs": [],
   "source": [
    "cop_cols = [\"norm\", \"norm_group\", \"unnormalized\"]\n",
    "for column in cop_cols:\n",
    "    if column + \"_romanized\" in data.columns:\n",
    "        data = data.drop(columns=[column])\n",
    "\n",
    "data = parse_data.romanize_columns(data, cop_cols)"
   ]
  },
  {
   "cell_type": "code",
   "execution_count": 65,
   "metadata": {},
   "outputs": [
    {
     "data": {
      "text/plain": [
       "norm                             ⲁⲩⲱ ⲉⲃⲟⲗ ϫⲉ ⲛⲧⲉⲧⲛ ϩⲉⲛ ⲥⲟⲫⲟⲥ. ⲉ ⲁ ⲧⲉⲧⲛ ⲉⲓⲙⲉ\n",
       "norm_group                             ⲁⲩⲱ ⲉⲃⲟⲗ ϫⲉⲛⲧⲉⲧⲛϩⲉⲛⲥⲟⲫⲟⲥ. ⲉⲁⲧⲉⲧⲛⲉⲓⲙⲉ\n",
       "norm_romanized            auaoou eievol geie nteietn heien sofos. eie a ...\n",
       "unnormalized                               ⲁⲩⲱⲉⲃⲟⲗϫⲉⲛⲧⲉⲧⲛϩⲉⲛⲥⲟⲫⲟⲥⲉⲁⲧⲉⲧⲛⲉⲓⲙⲉ\n",
       "unnormalized_romanized    auaooueievolgeienteietnheiensofoseieateietneie...\n",
       "Name: 5740, dtype: object"
      ]
     },
     "execution_count": 65,
     "metadata": {},
     "output_type": "execute_result"
    }
   ],
   "source": [
    "data.iloc[-1][[\"norm\", \"norm_group\", \"norm_romanized\", \"unnormalized\", \"unnormalized_romanized\"]]"
   ]
  },
  {
   "cell_type": "code",
   "execution_count": 66,
   "metadata": {},
   "outputs": [],
   "source": [
    "data = parse_data.greekify_columns(data, [\"norm\", \"norm_group\", \"unnormalized\"])"
   ]
  },
  {
   "cell_type": "code",
   "execution_count": 69,
   "metadata": {},
   "outputs": [],
   "source": [
    "data = data.drop(\"index\", axis=1)"
   ]
  },
  {
   "cell_type": "code",
   "execution_count": 68,
   "metadata": {},
   "outputs": [
    {
     "data": {
      "text/html": [
       "<div>\n",
       "<style scoped>\n",
       "    .dataframe tbody tr th:only-of-type {\n",
       "        vertical-align: middle;\n",
       "    }\n",
       "\n",
       "    .dataframe tbody tr th {\n",
       "        vertical-align: top;\n",
       "    }\n",
       "\n",
       "    .dataframe thead th {\n",
       "        text-align: right;\n",
       "    }\n",
       "</style>\n",
       "<table border=\"1\" class=\"dataframe\">\n",
       "  <thead>\n",
       "    <tr style=\"text-align: right;\">\n",
       "      <th></th>\n",
       "      <th>index</th>\n",
       "      <th>eng</th>\n",
       "      <th>norm_group</th>\n",
       "      <th>norm</th>\n",
       "      <th>func</th>\n",
       "      <th>pos</th>\n",
       "      <th>arabic</th>\n",
       "      <th>meta::translation</th>\n",
       "      <th>meta::title</th>\n",
       "      <th>meta::source</th>\n",
       "      <th>meta::corpus</th>\n",
       "      <th>unnormalized</th>\n",
       "      <th>norm_romanized</th>\n",
       "      <th>norm_group_romanized</th>\n",
       "      <th>unnormalized_romanized</th>\n",
       "      <th>norm_greekified</th>\n",
       "      <th>norm_group_greekified</th>\n",
       "      <th>unnormalized_greekified</th>\n",
       "    </tr>\n",
       "  </thead>\n",
       "  <tbody>\n",
       "    <tr>\n",
       "      <th>0</th>\n",
       "      <td>0</td>\n",
       "      <td>...</td>\n",
       "      <td>ⲉⲥⲁⲡⲁⲧⲁⲙⲙⲟⲥ ⲙⲁⲩⲁⲁⲥ ⲙⲛϩⲉⲛⲙⲏⲏϣⲉ ⲛⲁⲧϩⲏⲧ ⲛⲧϩⲉ ⲛϩⲉⲛ...</td>\n",
       "      <td>ⲉ ⲥ ⲁⲡⲁⲧⲁ ⲙⲙⲟ ⲥ ⲙⲁⲩⲁⲁ ⲥ ⲙⲛ ϩⲉⲛ ⲙⲏⲏϣⲉ ⲛ ⲁⲧϩⲏⲧ ⲛ...</td>\n",
       "      <td>mark nsubj root case obj advmod det cc det obl...</td>\n",
       "      <td>CCIRC PPERS V PREP PPERO IMOD PPERO PREP ART N...</td>\n",
       "      <td>NaN</td>\n",
       "      <td>none</td>\n",
       "      <td>Apa Johannes Canons: FA143-158</td>\n",
       "      <td>Diliana Atanassova, The Canons of Apa John the...</td>\n",
       "      <td>johannes.canons</td>\n",
       "      <td>ⲉⲥⲁⲡⲁⲧⲁⲙⲙⲟⲥⲙⲁⲩⲁⲁⲥⲙⲛϩⲉⲛⲙⲏⲏϣⲉⲛⲁⲧϩⲏⲧⲛⲧϩⲉⲛϩⲉⲛⲧⲃⲛⲟⲟ...</td>\n",
       "      <td>eie s apata mmo s mauaaa s mn heien mhhsheie n...</td>\n",
       "      <td>eiesapatammos mauaaas mnheienmhhsheie nathht n...</td>\n",
       "      <td>eiesapatammosmauaaasmnheienmhhsheienathhtnthei...</td>\n",
       "      <td>ε σ απατα μμο σ μαυαα σ μν hεν μηηsε ν ατhητ ν...</td>\n",
       "      <td>εσαπαταμμοσ μαυαασ μνhενμηηsε νατhητ ντhε νhεν...</td>\n",
       "      <td>εσαπαταμμοσμαυαασμνhενμηηsενατhητντhενhεντβνοο...</td>\n",
       "    </tr>\n",
       "    <tr>\n",
       "      <th>1</th>\n",
       "      <td>1</td>\n",
       "      <td>...</td>\n",
       "      <td>ⲙⲟⲛⲟⲛ ⲉⲧⲃⲉⲧⲙⲛⲧϫⲁⲥⲓϩⲏⲧ  ⲕⲁⲧⲁⲧϩⲉ ⲛⲧⲁⲓⲣϣⲣⲡ ⲛϫⲟⲟⲥ ...</td>\n",
       "      <td>ⲙⲟⲛⲟⲛ ⲉⲧⲃⲉ ⲧ ⲙⲛⲧϫⲁⲥⲓϩⲏⲧ  ⲕⲁⲧⲁ ⲧ ϩⲉ ⲛⲧ ⲁ ⲓ ⲣϣⲣⲡ...</td>\n",
       "      <td>advmod case det root punct case det obl mark a...</td>\n",
       "      <td>CONJ PREP ART N PUNCT PREP ART N CREL APST PPE...</td>\n",
       "      <td>NaN</td>\n",
       "      <td>none</td>\n",
       "      <td>Apa Johannes Canons: FA143-158</td>\n",
       "      <td>Diliana Atanassova, The Canons of Apa John the...</td>\n",
       "      <td>johannes.canons</td>\n",
       "      <td>ⲙⲟⲛⲟⲛⲉⲧⲃⲉⲧⲙⲛⲧϫⲁⲥⲓϩⲏⲧⲕⲁⲧⲁⲧϩⲉⲛⲧⲁⲓⲣϣⲣⲡⲛϫⲟⲟⲥⲁⲩⲱⲧⲙⲛ...</td>\n",
       "      <td>monon eietveie t mntgasiauhht  kata t heie nt ...</td>\n",
       "      <td>monon eietveietmntgasiauhht  katatheie ntaiaur...</td>\n",
       "      <td>mononeietveietmntgasiauhhtkatatheientaiaurshrp...</td>\n",
       "      <td>μονον ετβε τ μντjασιhητ  κατα τ hε ντ α ι ρsρπ...</td>\n",
       "      <td>μονον ετβετμντjασιhητ  κατατhε νταιρsρπ νjοοσ ...</td>\n",
       "      <td>μονονετβετμντjασιhητκατατhενταιρsρπνjοοσαυωτμν...</td>\n",
       "    </tr>\n",
       "    <tr>\n",
       "      <th>2</th>\n",
       "      <td>2</td>\n",
       "      <td>...</td>\n",
       "      <td>ⲛⲓⲙ ϭⲉ ⲡⲉⲧⲛⲁϣϫⲓ ⲏ ⲡⲉϫⲓⲛⲛϣⲟⲣⲡ ⲛⲛⲉⲛⲧⲁⲩⲧⲁⲕⲟ ⲉⲁⲩⲃⲱ...</td>\n",
       "      <td>ⲛⲓⲙ ϭⲉ ⲡ ⲉⲧ ⲛⲁ ϣ ϫⲓ ⲏ ⲡⲉ ϫⲓⲛ ⲛ ϣⲟⲣⲡ ⲛ ⲛ ⲉⲛⲧ ⲁ ...</td>\n",
       "      <td>root advmod nsubj mark aux aux csubj cc det ca...</td>\n",
       "      <td>PINT PTC COP CREL FUT V V CONJ COP PREP ART N ...</td>\n",
       "      <td>NaN</td>\n",
       "      <td>none</td>\n",
       "      <td>Apa Johannes Canons: FA143-158</td>\n",
       "      <td>Diliana Atanassova, The Canons of Apa John the...</td>\n",
       "      <td>johannes.canons</td>\n",
       "      <td>ⲛⲓⲙϭⲉⲡⲉⲧⲛⲁϣϫⲓⲏⲡⲉϫⲓⲛⲛϣⲟⲣⲡⲛⲛⲉⲛⲧⲁⲩⲧⲁⲕⲟⲉⲁⲩⲃⲱⲕⲉⲡⲉⲥⲏ...</td>\n",
       "      <td>niaum sheie p eiet na sh giau h peie giaun n s...</td>\n",
       "      <td>niaum sheie peietnashgiau h peiegiaunnshorp nn...</td>\n",
       "      <td>niaumsheiepeietnashgiauhpeiegiaunnshorpnneient...</td>\n",
       "      <td>νιμ cε π ετ να s jι η πε jιν ν sορπ ν ν εντ α ...</td>\n",
       "      <td>νιμ cε πετναsjι η πεjιννsορπ ννενταυτακο εαυβω...</td>\n",
       "      <td>νιμcεπετναsjιηπεjιννsορπννενταυτακοεαυβωκεπεση...</td>\n",
       "    </tr>\n",
       "    <tr>\n",
       "      <th>3</th>\n",
       "      <td>3</td>\n",
       "      <td>...</td>\n",
       "      <td>ϫⲉⲁⲩⲙⲟⲟϣⲉ ϩⲛⲧⲉϩⲓⲏ ⲛⲧⲙⲛⲧϫⲁⲥⲓϩⲏⲧ  ⲁⲩⲱ ⲉⲁⲩϣⲱⲡⲉ ϩⲛ...</td>\n",
       "      <td>ϫⲉ ⲁ ⲩ ⲙⲟⲟϣⲉ ϩⲛ ⲧⲉ ϩⲓⲏ ⲛ ⲧ ⲙⲛⲧϫⲁⲥⲓϩⲏⲧ  ⲁⲩⲱ ⲉ ⲁ...</td>\n",
       "      <td>mark aux nsubj root case det obl case det nmod...</td>\n",
       "      <td>CONJ APST PPERS V PREP ART N PREP ART N PUNCT ...</td>\n",
       "      <td>NaN</td>\n",
       "      <td>none</td>\n",
       "      <td>Apa Johannes Canons: FA143-158</td>\n",
       "      <td>Diliana Atanassova, The Canons of Apa John the...</td>\n",
       "      <td>johannes.canons</td>\n",
       "      <td>ϫⲉⲁⲩⲙⲟⲟϣⲉϩⲛⲧⲉϩⲓⲏⲛⲧⲙⲛⲧϫⲁⲥⲓϩⲏⲧⲁⲩⲱⲉⲁⲩϣⲱⲡⲉϩⲛⲟⲩⲙⲛⲧⲁ...</td>\n",
       "      <td>geie a ua moosheie hn teie hiauh n t mntgasiau...</td>\n",
       "      <td>geieauamoosheie hnteiehiauh ntmntgasiauhht  au...</td>\n",
       "      <td>geieauamoosheiehnteiehiauhntmntgasiauhhtauaoou...</td>\n",
       "      <td>jε α υ μοοsε hν τε hιη ν τ μντjασιhητ  αυω ε α...</td>\n",
       "      <td>jεαυμοοsε hντεhιη ντμντjασιhητ  αυω εαυsωπε hν...</td>\n",
       "      <td>jεαυμοοsεhντεhιηντμντjασιhηταυωεαυsωπεhνουμντα...</td>\n",
       "    </tr>\n",
       "    <tr>\n",
       "      <th>4</th>\n",
       "      <td>4</td>\n",
       "      <td>...</td>\n",
       "      <td>ⲕⲁⲓ ⲅⲁⲣ ⲙⲛⲛⲥⲁⲛⲉⲛⲧⲁⲡϫⲟⲉⲓⲥ ϫⲟⲟⲩ ⲧⲏⲣⲟⲩ ϫⲓⲛⲛϣⲟⲣⲡ ⲉ...</td>\n",
       "      <td>ⲕⲁⲓ ⲅⲁⲣ ⲙⲛⲛⲥⲁ ⲛ ⲉⲛⲧ ⲁ ⲡ ϫⲟⲉⲓⲥ ϫⲟⲟ ⲩ ⲧⲏⲣ ⲟⲩ ϫⲓⲛ...</td>\n",
       "      <td>cc advmod case root mark aux det nsubj acl:rel...</td>\n",
       "      <td>CONJ PTC PREP ART CREL APST ART N V PPERO IMOD...</td>\n",
       "      <td>NaN</td>\n",
       "      <td>none</td>\n",
       "      <td>Apa Johannes Canons: FA143-158</td>\n",
       "      <td>Diliana Atanassova, The Canons of Apa John the...</td>\n",
       "      <td>johannes.canons</td>\n",
       "      <td>ⲕⲁⲓⲅⲁⲣⲙⲛⲛⲥⲁⲛⲉⲛⲧⲁⲡϫⲟⲉⲓⲥϫⲟⲟⲩⲧⲏⲣⲟⲩϫⲓⲛⲛϣⲟⲣⲡⲉⲓⲧⲉϩⲛϩ...</td>\n",
       "      <td>kaiau gar mnnsa n eient a p goeieiaus goo ua t...</td>\n",
       "      <td>kaiau gar mnnsaneientapgoeieiaus gooua throua ...</td>\n",
       "      <td>kaiaugarmnnsaneientapgoeieiausgoouathrouagiaun...</td>\n",
       "      <td>και γαρ μννσα ν εντ α π jοεισ jοο υ τηρ ου jιν...</td>\n",
       "      <td>και γαρ μννσανενταπjοεισ jοου τηρου jιννsορπ ε...</td>\n",
       "      <td>καιγαρμννσανενταπjοεισjοουτηρουjιννsορπειτεhνh...</td>\n",
       "    </tr>\n",
       "    <tr>\n",
       "      <th>...</th>\n",
       "      <td>...</td>\n",
       "      <td>...</td>\n",
       "      <td>...</td>\n",
       "      <td>...</td>\n",
       "      <td>...</td>\n",
       "      <td>...</td>\n",
       "      <td>...</td>\n",
       "      <td>...</td>\n",
       "      <td>...</td>\n",
       "      <td>...</td>\n",
       "      <td>...</td>\n",
       "      <td>...</td>\n",
       "      <td>...</td>\n",
       "      <td>...</td>\n",
       "      <td>...</td>\n",
       "      <td>...</td>\n",
       "      <td>...</td>\n",
       "      <td>...</td>\n",
       "    </tr>\n",
       "    <tr>\n",
       "      <th>5736</th>\n",
       "      <td>5822</td>\n",
       "      <td>…</td>\n",
       "      <td>ϫⲛⲙⲙⲟⲛ. ⲉϣⲁⲛⲃⲱⲕ ⲉϩⲣⲁⲓ ⲉϩⲉⲛⲫⲱⲥⲥⲁ .</td>\n",
       "      <td>ϫⲛ ⲙⲙⲟⲛ. ⲉ ϣⲁ ⲛ ⲃⲱⲕ ⲉϩⲣⲁⲓ ⲉ ϩⲉⲛ ⲫⲱⲥⲥⲁ .</td>\n",
       "      <td>advmod advmod punct mark aux nsubj root advmod...</td>\n",
       "      <td>CONJ PTC PUNCT CCIRC AAOR PPERS V ADV PREP ART...</td>\n",
       "      <td>NaN</td>\n",
       "      <td>none</td>\n",
       "      <td>I See Your Eagerness: XJ 77-86</td>\n",
       "      <td>NaN</td>\n",
       "      <td>NaN</td>\n",
       "      <td>ϫⲛⲙⲙⲟⲛⲉϣⲁⲛⲃⲱⲕⲉϩⲣⲁⲓⲉϩⲉⲛⲫⲱⲥⲥⲁ</td>\n",
       "      <td>gn mmon. eie sha n voouk eiehraiau eie heien f...</td>\n",
       "      <td>gnmmon. eieshanvoouk eiehraiau eieheienfooussa .</td>\n",
       "      <td>gnmmoneieshanvooukeiehraiaueieheienfooussa</td>\n",
       "      <td>jν μμον. ε sα ν βωκ εhραι ε hεν φωσσα .</td>\n",
       "      <td>jνμμον. εsανβωκ εhραι εhενφωσσα .</td>\n",
       "      <td>jνμμονεsανβωκεhραιεhενφωσσα</td>\n",
       "    </tr>\n",
       "    <tr>\n",
       "      <th>5737</th>\n",
       "      <td>5823</td>\n",
       "      <td>…</td>\n",
       "      <td>ⲁⲩⲱ ⲟⲛ ϫⲉⲟⲩ ⲧⲉ ⲧⲙⲛⲧⲣⲙⲛϩⲏⲧ ⲛⲟⲩϣⲱⲥ .</td>\n",
       "      <td>ⲁⲩⲱ ⲟⲛ ϫⲉ ⲟⲩ ⲧⲉ ⲧ ⲙⲛⲧⲣⲙⲛϩⲏⲧ ⲛ ⲟⲩ ϣⲱⲥ .</td>\n",
       "      <td>cc advmod mark root cop det nsubj case det nmo...</td>\n",
       "      <td>CONJ ADV CONJ PINT COP ART N PREP ART N PUNCT</td>\n",
       "      <td>NaN</td>\n",
       "      <td>none</td>\n",
       "      <td>I See Your Eagerness: XJ 77-86</td>\n",
       "      <td>NaN</td>\n",
       "      <td>NaN</td>\n",
       "      <td>ⲁⲩⲱⲟⲛϫⲉⲟⲩⲧⲉⲧⲙⲛⲧⲣⲙⲛϩⲏⲧⲛⲟⲩϣⲱⲥ</td>\n",
       "      <td>auaoou on geie oua teie t mntrmnhht n oua shoo...</td>\n",
       "      <td>auaoou on geieoua teie tmntrmnhht nouashoous .</td>\n",
       "      <td>auaoouongeieouateietmntrmnhhtnouashoous</td>\n",
       "      <td>αυω ον jε ου τε τ μντρμνhητ ν ου sωσ .</td>\n",
       "      <td>αυω ον jεου τε τμντρμνhητ νουsωσ .</td>\n",
       "      <td>αυωονjεουτετμντρμνhητνουsωσ</td>\n",
       "    </tr>\n",
       "    <tr>\n",
       "      <th>5738</th>\n",
       "      <td>5824</td>\n",
       "      <td>…</td>\n",
       "      <td>ⲉϥϣⲁⲛⲥⲉⲕⲙⲟⲟⲩ ⲉϩⲣⲁⲓ ⲛϥⲧⲥⲟ ⲛⲟⲩⲟϩⲉ ⲛⲉⲥⲟⲟⲩ. ⲛϥⲧⲙⲧⲥ...</td>\n",
       "      <td>ⲉϥϣⲁⲛ ⲥⲉⲕⲙⲟⲟⲩ ⲉϩⲣⲁⲓ ⲛ ϥ ⲧⲥⲟ ⲛ ⲟⲩ ⲟϩⲉ ⲛ ⲉⲥⲟⲟⲩ. ...</td>\n",
       "      <td>nsubj root advmod aux nsubj advcl case det obj...</td>\n",
       "      <td>ACOND_PPERS V ADV ACONJ PPERS V PREP ART N PRE...</td>\n",
       "      <td>NaN</td>\n",
       "      <td>none</td>\n",
       "      <td>I See Your Eagerness: XJ 77-86</td>\n",
       "      <td>NaN</td>\n",
       "      <td>NaN</td>\n",
       "      <td>ⲉϥϣⲁⲛⲥⲉⲕⲙⲟⲟⲩⲉϩⲣⲁⲓⲛϥⲧⲥⲟⲛⲟⲩⲟϩⲉⲛⲉⲥⲟⲟⲩⲛϥⲧⲙⲧⲥⲟⲇⲉⲛⲧⲟ...</td>\n",
       "      <td>eiefshan seiekmooua eiehraiau n f tso n oua oh...</td>\n",
       "      <td>eiefshanseiekmooua eiehraiau nftso nouaoheie n...</td>\n",
       "      <td>eiefshanseiekmoouaeiehraiaunftsonouaoheieneies...</td>\n",
       "      <td>εfsαν σεκμοου εhραι ν f τσο ν ου οhε ν εσοου. ...</td>\n",
       "      <td>εfsανσεκμοου εhραι νfτσο νουοhε νεσοου. νfτμτσ...</td>\n",
       "      <td>εfsανσεκμοουεhραινfτσονουοhενεσοουνfτμτσοδεντο...</td>\n",
       "    </tr>\n",
       "    <tr>\n",
       "      <th>5739</th>\n",
       "      <td>5825</td>\n",
       "      <td>…</td>\n",
       "      <td>ⲏ ⲛⲧⲟϥ ⲟⲩⲁ ⲉⲁϥϫⲉⲣⲟ ⲛⲟⲩⲁϣⲏ ⲛϩⲏⲃⲥ ϩⲙⲡⲏⲓ ⲉⲛϩⲉⲛⲕⲟⲟ...</td>\n",
       "      <td>ⲏ ⲛⲧⲟϥ ⲟⲩⲁ ⲉ ⲁ ϥ ϫⲉⲣⲟ ⲛ ⲟⲩ ⲁϣⲏ ⲛ ϩⲏⲃⲥ ϩⲙ ⲡ ⲏⲓ ...</td>\n",
       "      <td>cc obl:npmod root mark aux nsubj acl:relcl cas...</td>\n",
       "      <td>CONJ PPERI NUM CCIRC APST PPERS V PREP ART N A...</td>\n",
       "      <td>NaN</td>\n",
       "      <td>none</td>\n",
       "      <td>I See Your Eagerness: XJ 77-86</td>\n",
       "      <td>NaN</td>\n",
       "      <td>NaN</td>\n",
       "      <td>ⲏⲛⲧⲟϥⲟⲩⲁⲉⲁϥϫⲉⲣⲟⲛⲟⲩⲁϣⲏⲛϩⲏⲃⲥϩⲙⲡⲏⲓⲛϩⲉⲛⲕⲟⲟⲩⲉⲛϥⲧⲙϫⲉ...</td>\n",
       "      <td>h ntof ouaa eie a f geiero n oua ashh n hhvs h...</td>\n",
       "      <td>h ntof ouaa eieafgeiero nouaashh nhhvs hmphiau...</td>\n",
       "      <td>hntofouaaeieafgeieronouaashhnhhvshmphiaunheien...</td>\n",
       "      <td>η ντοf ουα ε α f jερο ν ου αsη ν hηβσ hμ π ηι ...</td>\n",
       "      <td>η ντοf ουα εαfjερο νουαsη νhηβσ hμπηι ενhενκοο...</td>\n",
       "      <td>ηντοfουαεαfjερονουαsηνhηβσhμπηινhενκοουενfτμjε...</td>\n",
       "    </tr>\n",
       "    <tr>\n",
       "      <th>5740</th>\n",
       "      <td>5826</td>\n",
       "      <td>…</td>\n",
       "      <td>ⲁⲩⲱ ⲉⲃⲟⲗ ϫⲉⲛⲧⲉⲧⲛϩⲉⲛⲥⲟⲫⲟⲥ. ⲉⲁⲧⲉⲧⲛⲉⲓⲙⲉ</td>\n",
       "      <td>ⲁⲩⲱ ⲉⲃⲟⲗ ϫⲉ ⲛⲧⲉⲧⲛ ϩⲉⲛ ⲥⲟⲫⲟⲥ. ⲉ ⲁ ⲧⲉⲧⲛ ⲉⲓⲙⲉ</td>\n",
       "      <td>cc case fixed nsubj det root punct mark aux ns...</td>\n",
       "      <td>CONJ ADV CONJ PPERI ART N PUNCT CCIRC APST PPE...</td>\n",
       "      <td>NaN</td>\n",
       "      <td>none</td>\n",
       "      <td>I See Your Eagerness: XJ 77-86</td>\n",
       "      <td>NaN</td>\n",
       "      <td>NaN</td>\n",
       "      <td>ⲁⲩⲱⲉⲃⲟⲗϫⲉⲛⲧⲉⲧⲛϩⲉⲛⲥⲟⲫⲟⲥⲉⲁⲧⲉⲧⲛⲉⲓⲙⲉ</td>\n",
       "      <td>auaoou eievol geie nteietn heien sofos. eie a ...</td>\n",
       "      <td>auaoou eievol geienteietnheiensofos. eieateiet...</td>\n",
       "      <td>auaooueievolgeienteietnheiensofoseieateietneie...</td>\n",
       "      <td>αυω εβολ jε ντετν hεν σοφοσ. ε α τετν ειμε</td>\n",
       "      <td>αυω εβολ jεντετνhενσοφοσ. εατετνειμε</td>\n",
       "      <td>αυωεβολjεντετνhενσοφοσεατετνειμε</td>\n",
       "    </tr>\n",
       "  </tbody>\n",
       "</table>\n",
       "<p>5741 rows × 18 columns</p>\n",
       "</div>"
      ],
      "text/plain": [
       "      index  eng                                         norm_group  \\\n",
       "0         0  ...  ⲉⲥⲁⲡⲁⲧⲁⲙⲙⲟⲥ ⲙⲁⲩⲁⲁⲥ ⲙⲛϩⲉⲛⲙⲏⲏϣⲉ ⲛⲁⲧϩⲏⲧ ⲛⲧϩⲉ ⲛϩⲉⲛ...   \n",
       "1         1  ...  ⲙⲟⲛⲟⲛ ⲉⲧⲃⲉⲧⲙⲛⲧϫⲁⲥⲓϩⲏⲧ  ⲕⲁⲧⲁⲧϩⲉ ⲛⲧⲁⲓⲣϣⲣⲡ ⲛϫⲟⲟⲥ ...   \n",
       "2         2  ...  ⲛⲓⲙ ϭⲉ ⲡⲉⲧⲛⲁϣϫⲓ ⲏ ⲡⲉϫⲓⲛⲛϣⲟⲣⲡ ⲛⲛⲉⲛⲧⲁⲩⲧⲁⲕⲟ ⲉⲁⲩⲃⲱ...   \n",
       "3         3  ...  ϫⲉⲁⲩⲙⲟⲟϣⲉ ϩⲛⲧⲉϩⲓⲏ ⲛⲧⲙⲛⲧϫⲁⲥⲓϩⲏⲧ  ⲁⲩⲱ ⲉⲁⲩϣⲱⲡⲉ ϩⲛ...   \n",
       "4         4  ...  ⲕⲁⲓ ⲅⲁⲣ ⲙⲛⲛⲥⲁⲛⲉⲛⲧⲁⲡϫⲟⲉⲓⲥ ϫⲟⲟⲩ ⲧⲏⲣⲟⲩ ϫⲓⲛⲛϣⲟⲣⲡ ⲉ...   \n",
       "...     ...  ...                                                ...   \n",
       "5736   5822    …                  ϫⲛⲙⲙⲟⲛ. ⲉϣⲁⲛⲃⲱⲕ ⲉϩⲣⲁⲓ ⲉϩⲉⲛⲫⲱⲥⲥⲁ .   \n",
       "5737   5823    …                 ⲁⲩⲱ ⲟⲛ ϫⲉⲟⲩ ⲧⲉ ⲧⲙⲛⲧⲣⲙⲛϩⲏⲧ ⲛⲟⲩϣⲱⲥ .   \n",
       "5738   5824    …  ⲉϥϣⲁⲛⲥⲉⲕⲙⲟⲟⲩ ⲉϩⲣⲁⲓ ⲛϥⲧⲥⲟ ⲛⲟⲩⲟϩⲉ ⲛⲉⲥⲟⲟⲩ. ⲛϥⲧⲙⲧⲥ...   \n",
       "5739   5825    …  ⲏ ⲛⲧⲟϥ ⲟⲩⲁ ⲉⲁϥϫⲉⲣⲟ ⲛⲟⲩⲁϣⲏ ⲛϩⲏⲃⲥ ϩⲙⲡⲏⲓ ⲉⲛϩⲉⲛⲕⲟⲟ...   \n",
       "5740   5826    …               ⲁⲩⲱ ⲉⲃⲟⲗ ϫⲉⲛⲧⲉⲧⲛϩⲉⲛⲥⲟⲫⲟⲥ. ⲉⲁⲧⲉⲧⲛⲉⲓⲙⲉ   \n",
       "\n",
       "                                                   norm  \\\n",
       "0     ⲉ ⲥ ⲁⲡⲁⲧⲁ ⲙⲙⲟ ⲥ ⲙⲁⲩⲁⲁ ⲥ ⲙⲛ ϩⲉⲛ ⲙⲏⲏϣⲉ ⲛ ⲁⲧϩⲏⲧ ⲛ...   \n",
       "1     ⲙⲟⲛⲟⲛ ⲉⲧⲃⲉ ⲧ ⲙⲛⲧϫⲁⲥⲓϩⲏⲧ  ⲕⲁⲧⲁ ⲧ ϩⲉ ⲛⲧ ⲁ ⲓ ⲣϣⲣⲡ...   \n",
       "2     ⲛⲓⲙ ϭⲉ ⲡ ⲉⲧ ⲛⲁ ϣ ϫⲓ ⲏ ⲡⲉ ϫⲓⲛ ⲛ ϣⲟⲣⲡ ⲛ ⲛ ⲉⲛⲧ ⲁ ...   \n",
       "3     ϫⲉ ⲁ ⲩ ⲙⲟⲟϣⲉ ϩⲛ ⲧⲉ ϩⲓⲏ ⲛ ⲧ ⲙⲛⲧϫⲁⲥⲓϩⲏⲧ  ⲁⲩⲱ ⲉ ⲁ...   \n",
       "4     ⲕⲁⲓ ⲅⲁⲣ ⲙⲛⲛⲥⲁ ⲛ ⲉⲛⲧ ⲁ ⲡ ϫⲟⲉⲓⲥ ϫⲟⲟ ⲩ ⲧⲏⲣ ⲟⲩ ϫⲓⲛ...   \n",
       "...                                                 ...   \n",
       "5736            ϫⲛ ⲙⲙⲟⲛ. ⲉ ϣⲁ ⲛ ⲃⲱⲕ ⲉϩⲣⲁⲓ ⲉ ϩⲉⲛ ⲫⲱⲥⲥⲁ .   \n",
       "5737             ⲁⲩⲱ ⲟⲛ ϫⲉ ⲟⲩ ⲧⲉ ⲧ ⲙⲛⲧⲣⲙⲛϩⲏⲧ ⲛ ⲟⲩ ϣⲱⲥ .   \n",
       "5738  ⲉϥϣⲁⲛ ⲥⲉⲕⲙⲟⲟⲩ ⲉϩⲣⲁⲓ ⲛ ϥ ⲧⲥⲟ ⲛ ⲟⲩ ⲟϩⲉ ⲛ ⲉⲥⲟⲟⲩ. ...   \n",
       "5739  ⲏ ⲛⲧⲟϥ ⲟⲩⲁ ⲉ ⲁ ϥ ϫⲉⲣⲟ ⲛ ⲟⲩ ⲁϣⲏ ⲛ ϩⲏⲃⲥ ϩⲙ ⲡ ⲏⲓ ...   \n",
       "5740         ⲁⲩⲱ ⲉⲃⲟⲗ ϫⲉ ⲛⲧⲉⲧⲛ ϩⲉⲛ ⲥⲟⲫⲟⲥ. ⲉ ⲁ ⲧⲉⲧⲛ ⲉⲓⲙⲉ   \n",
       "\n",
       "                                                   func  \\\n",
       "0     mark nsubj root case obj advmod det cc det obl...   \n",
       "1     advmod case det root punct case det obl mark a...   \n",
       "2     root advmod nsubj mark aux aux csubj cc det ca...   \n",
       "3     mark aux nsubj root case det obl case det nmod...   \n",
       "4     cc advmod case root mark aux det nsubj acl:rel...   \n",
       "...                                                 ...   \n",
       "5736  advmod advmod punct mark aux nsubj root advmod...   \n",
       "5737  cc advmod mark root cop det nsubj case det nmo...   \n",
       "5738  nsubj root advmod aux nsubj advcl case det obj...   \n",
       "5739  cc obl:npmod root mark aux nsubj acl:relcl cas...   \n",
       "5740  cc case fixed nsubj det root punct mark aux ns...   \n",
       "\n",
       "                                                    pos  arabic  \\\n",
       "0     CCIRC PPERS V PREP PPERO IMOD PPERO PREP ART N...     NaN   \n",
       "1     CONJ PREP ART N PUNCT PREP ART N CREL APST PPE...     NaN   \n",
       "2     PINT PTC COP CREL FUT V V CONJ COP PREP ART N ...     NaN   \n",
       "3     CONJ APST PPERS V PREP ART N PREP ART N PUNCT ...     NaN   \n",
       "4     CONJ PTC PREP ART CREL APST ART N V PPERO IMOD...     NaN   \n",
       "...                                                 ...     ...   \n",
       "5736  CONJ PTC PUNCT CCIRC AAOR PPERS V ADV PREP ART...     NaN   \n",
       "5737      CONJ ADV CONJ PINT COP ART N PREP ART N PUNCT     NaN   \n",
       "5738  ACOND_PPERS V ADV ACONJ PPERS V PREP ART N PRE...     NaN   \n",
       "5739  CONJ PPERI NUM CCIRC APST PPERS V PREP ART N A...     NaN   \n",
       "5740  CONJ ADV CONJ PPERI ART N PUNCT CCIRC APST PPE...     NaN   \n",
       "\n",
       "     meta::translation                     meta::title  \\\n",
       "0                 none  Apa Johannes Canons: FA143-158   \n",
       "1                 none  Apa Johannes Canons: FA143-158   \n",
       "2                 none  Apa Johannes Canons: FA143-158   \n",
       "3                 none  Apa Johannes Canons: FA143-158   \n",
       "4                 none  Apa Johannes Canons: FA143-158   \n",
       "...                ...                             ...   \n",
       "5736              none  I See Your Eagerness: XJ 77-86   \n",
       "5737              none  I See Your Eagerness: XJ 77-86   \n",
       "5738              none  I See Your Eagerness: XJ 77-86   \n",
       "5739              none  I See Your Eagerness: XJ 77-86   \n",
       "5740              none  I See Your Eagerness: XJ 77-86   \n",
       "\n",
       "                                           meta::source     meta::corpus  \\\n",
       "0     Diliana Atanassova, The Canons of Apa John the...  johannes.canons   \n",
       "1     Diliana Atanassova, The Canons of Apa John the...  johannes.canons   \n",
       "2     Diliana Atanassova, The Canons of Apa John the...  johannes.canons   \n",
       "3     Diliana Atanassova, The Canons of Apa John the...  johannes.canons   \n",
       "4     Diliana Atanassova, The Canons of Apa John the...  johannes.canons   \n",
       "...                                                 ...              ...   \n",
       "5736                                                NaN              NaN   \n",
       "5737                                                NaN              NaN   \n",
       "5738                                                NaN              NaN   \n",
       "5739                                                NaN              NaN   \n",
       "5740                                                NaN              NaN   \n",
       "\n",
       "                                           unnormalized  \\\n",
       "0     ⲉⲥⲁⲡⲁⲧⲁⲙⲙⲟⲥⲙⲁⲩⲁⲁⲥⲙⲛϩⲉⲛⲙⲏⲏϣⲉⲛⲁⲧϩⲏⲧⲛⲧϩⲉⲛϩⲉⲛⲧⲃⲛⲟⲟ...   \n",
       "1     ⲙⲟⲛⲟⲛⲉⲧⲃⲉⲧⲙⲛⲧϫⲁⲥⲓϩⲏⲧⲕⲁⲧⲁⲧϩⲉⲛⲧⲁⲓⲣϣⲣⲡⲛϫⲟⲟⲥⲁⲩⲱⲧⲙⲛ...   \n",
       "2     ⲛⲓⲙϭⲉⲡⲉⲧⲛⲁϣϫⲓⲏⲡⲉϫⲓⲛⲛϣⲟⲣⲡⲛⲛⲉⲛⲧⲁⲩⲧⲁⲕⲟⲉⲁⲩⲃⲱⲕⲉⲡⲉⲥⲏ...   \n",
       "3     ϫⲉⲁⲩⲙⲟⲟϣⲉϩⲛⲧⲉϩⲓⲏⲛⲧⲙⲛⲧϫⲁⲥⲓϩⲏⲧⲁⲩⲱⲉⲁⲩϣⲱⲡⲉϩⲛⲟⲩⲙⲛⲧⲁ...   \n",
       "4     ⲕⲁⲓⲅⲁⲣⲙⲛⲛⲥⲁⲛⲉⲛⲧⲁⲡϫⲟⲉⲓⲥϫⲟⲟⲩⲧⲏⲣⲟⲩϫⲓⲛⲛϣⲟⲣⲡⲉⲓⲧⲉϩⲛϩ...   \n",
       "...                                                 ...   \n",
       "5736                        ϫⲛⲙⲙⲟⲛⲉϣⲁⲛⲃⲱⲕⲉϩⲣⲁⲓⲉϩⲉⲛⲫⲱⲥⲥⲁ   \n",
       "5737                        ⲁⲩⲱⲟⲛϫⲉⲟⲩⲧⲉⲧⲙⲛⲧⲣⲙⲛϩⲏⲧⲛⲟⲩϣⲱⲥ   \n",
       "5738  ⲉϥϣⲁⲛⲥⲉⲕⲙⲟⲟⲩⲉϩⲣⲁⲓⲛϥⲧⲥⲟⲛⲟⲩⲟϩⲉⲛⲉⲥⲟⲟⲩⲛϥⲧⲙⲧⲥⲟⲇⲉⲛⲧⲟ...   \n",
       "5739  ⲏⲛⲧⲟϥⲟⲩⲁⲉⲁϥϫⲉⲣⲟⲛⲟⲩⲁϣⲏⲛϩⲏⲃⲥϩⲙⲡⲏⲓⲛϩⲉⲛⲕⲟⲟⲩⲉⲛϥⲧⲙϫⲉ...   \n",
       "5740                   ⲁⲩⲱⲉⲃⲟⲗϫⲉⲛⲧⲉⲧⲛϩⲉⲛⲥⲟⲫⲟⲥⲉⲁⲧⲉⲧⲛⲉⲓⲙⲉ   \n",
       "\n",
       "                                         norm_romanized  \\\n",
       "0     eie s apata mmo s mauaaa s mn heien mhhsheie n...   \n",
       "1     monon eietveie t mntgasiauhht  kata t heie nt ...   \n",
       "2     niaum sheie p eiet na sh giau h peie giaun n s...   \n",
       "3     geie a ua moosheie hn teie hiauh n t mntgasiau...   \n",
       "4     kaiau gar mnnsa n eient a p goeieiaus goo ua t...   \n",
       "...                                                 ...   \n",
       "5736  gn mmon. eie sha n voouk eiehraiau eie heien f...   \n",
       "5737  auaoou on geie oua teie t mntrmnhht n oua shoo...   \n",
       "5738  eiefshan seiekmooua eiehraiau n f tso n oua oh...   \n",
       "5739  h ntof ouaa eie a f geiero n oua ashh n hhvs h...   \n",
       "5740  auaoou eievol geie nteietn heien sofos. eie a ...   \n",
       "\n",
       "                                   norm_group_romanized  \\\n",
       "0     eiesapatammos mauaaas mnheienmhhsheie nathht n...   \n",
       "1     monon eietveietmntgasiauhht  katatheie ntaiaur...   \n",
       "2     niaum sheie peietnashgiau h peiegiaunnshorp nn...   \n",
       "3     geieauamoosheie hnteiehiauh ntmntgasiauhht  au...   \n",
       "4     kaiau gar mnnsaneientapgoeieiaus gooua throua ...   \n",
       "...                                                 ...   \n",
       "5736   gnmmon. eieshanvoouk eiehraiau eieheienfooussa .   \n",
       "5737     auaoou on geieoua teie tmntrmnhht nouashoous .   \n",
       "5738  eiefshanseiekmooua eiehraiau nftso nouaoheie n...   \n",
       "5739  h ntof ouaa eieafgeiero nouaashh nhhvs hmphiau...   \n",
       "5740  auaoou eievol geienteietnheiensofos. eieateiet...   \n",
       "\n",
       "                                 unnormalized_romanized  \\\n",
       "0     eiesapatammosmauaaasmnheienmhhsheienathhtnthei...   \n",
       "1     mononeietveietmntgasiauhhtkatatheientaiaurshrp...   \n",
       "2     niaumsheiepeietnashgiauhpeiegiaunnshorpnneient...   \n",
       "3     geieauamoosheiehnteiehiauhntmntgasiauhhtauaoou...   \n",
       "4     kaiaugarmnnsaneientapgoeieiausgoouathrouagiaun...   \n",
       "...                                                 ...   \n",
       "5736         gnmmoneieshanvooukeiehraiaueieheienfooussa   \n",
       "5737            auaoouongeieouateietmntrmnhhtnouashoous   \n",
       "5738  eiefshanseiekmoouaeiehraiaunftsonouaoheieneies...   \n",
       "5739  hntofouaaeieafgeieronouaashhnhhvshmphiaunheien...   \n",
       "5740  auaooueievolgeienteietnheiensofoseieateietneie...   \n",
       "\n",
       "                                        norm_greekified  \\\n",
       "0     ε σ απατα μμο σ μαυαα σ μν hεν μηηsε ν ατhητ ν...   \n",
       "1     μονον ετβε τ μντjασιhητ  κατα τ hε ντ α ι ρsρπ...   \n",
       "2     νιμ cε π ετ να s jι η πε jιν ν sορπ ν ν εντ α ...   \n",
       "3     jε α υ μοοsε hν τε hιη ν τ μντjασιhητ  αυω ε α...   \n",
       "4     και γαρ μννσα ν εντ α π jοεισ jοο υ τηρ ου jιν...   \n",
       "...                                                 ...   \n",
       "5736            jν μμον. ε sα ν βωκ εhραι ε hεν φωσσα .   \n",
       "5737             αυω ον jε ου τε τ μντρμνhητ ν ου sωσ .   \n",
       "5738  εfsαν σεκμοου εhραι ν f τσο ν ου οhε ν εσοου. ...   \n",
       "5739  η ντοf ουα ε α f jερο ν ου αsη ν hηβσ hμ π ηι ...   \n",
       "5740         αυω εβολ jε ντετν hεν σοφοσ. ε α τετν ειμε   \n",
       "\n",
       "                                  norm_group_greekified  \\\n",
       "0     εσαπαταμμοσ μαυαασ μνhενμηηsε νατhητ ντhε νhεν...   \n",
       "1     μονον ετβετμντjασιhητ  κατατhε νταιρsρπ νjοοσ ...   \n",
       "2     νιμ cε πετναsjι η πεjιννsορπ ννενταυτακο εαυβω...   \n",
       "3     jεαυμοοsε hντεhιη ντμντjασιhητ  αυω εαυsωπε hν...   \n",
       "4     και γαρ μννσανενταπjοεισ jοου τηρου jιννsορπ ε...   \n",
       "...                                                 ...   \n",
       "5736                  jνμμον. εsανβωκ εhραι εhενφωσσα .   \n",
       "5737                 αυω ον jεου τε τμντρμνhητ νουsωσ .   \n",
       "5738  εfsανσεκμοου εhραι νfτσο νουοhε νεσοου. νfτμτσ...   \n",
       "5739  η ντοf ουα εαfjερο νουαsη νhηβσ hμπηι ενhενκοο...   \n",
       "5740               αυω εβολ jεντετνhενσοφοσ. εατετνειμε   \n",
       "\n",
       "                                unnormalized_greekified  \n",
       "0     εσαπαταμμοσμαυαασμνhενμηηsενατhητντhενhεντβνοο...  \n",
       "1     μονονετβετμντjασιhητκατατhενταιρsρπνjοοσαυωτμν...  \n",
       "2     νιμcεπετναsjιηπεjιννsορπννενταυτακοεαυβωκεπεση...  \n",
       "3     jεαυμοοsεhντεhιηντμντjασιhηταυωεαυsωπεhνουμντα...  \n",
       "4     καιγαρμννσανενταπjοεισjοουτηρουjιννsορπειτεhνh...  \n",
       "...                                                 ...  \n",
       "5736                        jνμμονεsανβωκεhραιεhενφωσσα  \n",
       "5737                        αυωονjεουτετμντρμνhητνουsωσ  \n",
       "5738  εfsανσεκμοουεhραινfτσονουοhενεσοουνfτμτσοδεντο...  \n",
       "5739  ηντοfουαεαfjερονουαsηνhηβσhμπηινhενκοουενfτμjε...  \n",
       "5740                   αυωεβολjεντετνhενσοφοσεατετνειμε  \n",
       "\n",
       "[5741 rows x 18 columns]"
      ]
     },
     "execution_count": 68,
     "metadata": {},
     "output_type": "execute_result"
    }
   ],
   "source": [
    "data = data.drop('level_0', axis=1, errors='ignore')\n",
    "data = data.drop('Unnamed: 0', axis=1, errors='ignore')\n",
    "data = data.drop('Unnamed: 0.1', axis=1, errors='ignore')\n",
    "data = data.rename(columns={\"translation\": \"eng\"})\n",
    "data"
   ]
  },
  {
   "cell_type": "code",
   "execution_count": 70,
   "metadata": {},
   "outputs": [
    {
     "data": {
      "text/html": [
       "<div>\n",
       "<style scoped>\n",
       "    .dataframe tbody tr th:only-of-type {\n",
       "        vertical-align: middle;\n",
       "    }\n",
       "\n",
       "    .dataframe tbody tr th {\n",
       "        vertical-align: top;\n",
       "    }\n",
       "\n",
       "    .dataframe thead th {\n",
       "        text-align: right;\n",
       "    }\n",
       "</style>\n",
       "<table border=\"1\" class=\"dataframe\">\n",
       "  <thead>\n",
       "    <tr style=\"text-align: right;\">\n",
       "      <th></th>\n",
       "      <th>eng</th>\n",
       "      <th>norm_group</th>\n",
       "      <th>norm</th>\n",
       "      <th>func</th>\n",
       "      <th>pos</th>\n",
       "      <th>arabic</th>\n",
       "      <th>meta::translation</th>\n",
       "      <th>meta::title</th>\n",
       "      <th>meta::source</th>\n",
       "      <th>meta::corpus</th>\n",
       "      <th>unnormalized</th>\n",
       "      <th>norm_romanized</th>\n",
       "      <th>norm_group_romanized</th>\n",
       "      <th>unnormalized_romanized</th>\n",
       "      <th>norm_greekified</th>\n",
       "      <th>norm_group_greekified</th>\n",
       "      <th>unnormalized_greekified</th>\n",
       "    </tr>\n",
       "  </thead>\n",
       "  <tbody>\n",
       "    <tr>\n",
       "      <th>0</th>\n",
       "      <td>...</td>\n",
       "      <td>ⲉⲥⲁⲡⲁⲧⲁⲙⲙⲟⲥ ⲙⲁⲩⲁⲁⲥ ⲙⲛϩⲉⲛⲙⲏⲏϣⲉ ⲛⲁⲧϩⲏⲧ ⲛⲧϩⲉ ⲛϩⲉⲛ...</td>\n",
       "      <td>ⲉ ⲥ ⲁⲡⲁⲧⲁ ⲙⲙⲟ ⲥ ⲙⲁⲩⲁⲁ ⲥ ⲙⲛ ϩⲉⲛ ⲙⲏⲏϣⲉ ⲛ ⲁⲧϩⲏⲧ ⲛ...</td>\n",
       "      <td>mark nsubj root case obj advmod det cc det obl...</td>\n",
       "      <td>CCIRC PPERS V PREP PPERO IMOD PPERO PREP ART N...</td>\n",
       "      <td>NaN</td>\n",
       "      <td>none</td>\n",
       "      <td>Apa Johannes Canons: FA143-158</td>\n",
       "      <td>Diliana Atanassova, The Canons of Apa John the...</td>\n",
       "      <td>johannes.canons</td>\n",
       "      <td>ⲉⲥⲁⲡⲁⲧⲁⲙⲙⲟⲥⲙⲁⲩⲁⲁⲥⲙⲛϩⲉⲛⲙⲏⲏϣⲉⲛⲁⲧϩⲏⲧⲛⲧϩⲉⲛϩⲉⲛⲧⲃⲛⲟⲟ...</td>\n",
       "      <td>eie s apata mmo s mauaaa s mn heien mhhsheie n...</td>\n",
       "      <td>eiesapatammos mauaaas mnheienmhhsheie nathht n...</td>\n",
       "      <td>eiesapatammosmauaaasmnheienmhhsheienathhtnthei...</td>\n",
       "      <td>ε σ απατα μμο σ μαυαα σ μν hεν μηηsε ν ατhητ ν...</td>\n",
       "      <td>εσαπαταμμοσ μαυαασ μνhενμηηsε νατhητ ντhε νhεν...</td>\n",
       "      <td>εσαπαταμμοσμαυαασμνhενμηηsενατhητντhενhεντβνοο...</td>\n",
       "    </tr>\n",
       "    <tr>\n",
       "      <th>1</th>\n",
       "      <td>...</td>\n",
       "      <td>ⲙⲟⲛⲟⲛ ⲉⲧⲃⲉⲧⲙⲛⲧϫⲁⲥⲓϩⲏⲧ  ⲕⲁⲧⲁⲧϩⲉ ⲛⲧⲁⲓⲣϣⲣⲡ ⲛϫⲟⲟⲥ ...</td>\n",
       "      <td>ⲙⲟⲛⲟⲛ ⲉⲧⲃⲉ ⲧ ⲙⲛⲧϫⲁⲥⲓϩⲏⲧ  ⲕⲁⲧⲁ ⲧ ϩⲉ ⲛⲧ ⲁ ⲓ ⲣϣⲣⲡ...</td>\n",
       "      <td>advmod case det root punct case det obl mark a...</td>\n",
       "      <td>CONJ PREP ART N PUNCT PREP ART N CREL APST PPE...</td>\n",
       "      <td>NaN</td>\n",
       "      <td>none</td>\n",
       "      <td>Apa Johannes Canons: FA143-158</td>\n",
       "      <td>Diliana Atanassova, The Canons of Apa John the...</td>\n",
       "      <td>johannes.canons</td>\n",
       "      <td>ⲙⲟⲛⲟⲛⲉⲧⲃⲉⲧⲙⲛⲧϫⲁⲥⲓϩⲏⲧⲕⲁⲧⲁⲧϩⲉⲛⲧⲁⲓⲣϣⲣⲡⲛϫⲟⲟⲥⲁⲩⲱⲧⲙⲛ...</td>\n",
       "      <td>monon eietveie t mntgasiauhht  kata t heie nt ...</td>\n",
       "      <td>monon eietveietmntgasiauhht  katatheie ntaiaur...</td>\n",
       "      <td>mononeietveietmntgasiauhhtkatatheientaiaurshrp...</td>\n",
       "      <td>μονον ετβε τ μντjασιhητ  κατα τ hε ντ α ι ρsρπ...</td>\n",
       "      <td>μονον ετβετμντjασιhητ  κατατhε νταιρsρπ νjοοσ ...</td>\n",
       "      <td>μονονετβετμντjασιhητκατατhενταιρsρπνjοοσαυωτμν...</td>\n",
       "    </tr>\n",
       "    <tr>\n",
       "      <th>2</th>\n",
       "      <td>...</td>\n",
       "      <td>ⲛⲓⲙ ϭⲉ ⲡⲉⲧⲛⲁϣϫⲓ ⲏ ⲡⲉϫⲓⲛⲛϣⲟⲣⲡ ⲛⲛⲉⲛⲧⲁⲩⲧⲁⲕⲟ ⲉⲁⲩⲃⲱ...</td>\n",
       "      <td>ⲛⲓⲙ ϭⲉ ⲡ ⲉⲧ ⲛⲁ ϣ ϫⲓ ⲏ ⲡⲉ ϫⲓⲛ ⲛ ϣⲟⲣⲡ ⲛ ⲛ ⲉⲛⲧ ⲁ ...</td>\n",
       "      <td>root advmod nsubj mark aux aux csubj cc det ca...</td>\n",
       "      <td>PINT PTC COP CREL FUT V V CONJ COP PREP ART N ...</td>\n",
       "      <td>NaN</td>\n",
       "      <td>none</td>\n",
       "      <td>Apa Johannes Canons: FA143-158</td>\n",
       "      <td>Diliana Atanassova, The Canons of Apa John the...</td>\n",
       "      <td>johannes.canons</td>\n",
       "      <td>ⲛⲓⲙϭⲉⲡⲉⲧⲛⲁϣϫⲓⲏⲡⲉϫⲓⲛⲛϣⲟⲣⲡⲛⲛⲉⲛⲧⲁⲩⲧⲁⲕⲟⲉⲁⲩⲃⲱⲕⲉⲡⲉⲥⲏ...</td>\n",
       "      <td>niaum sheie p eiet na sh giau h peie giaun n s...</td>\n",
       "      <td>niaum sheie peietnashgiau h peiegiaunnshorp nn...</td>\n",
       "      <td>niaumsheiepeietnashgiauhpeiegiaunnshorpnneient...</td>\n",
       "      <td>νιμ cε π ετ να s jι η πε jιν ν sορπ ν ν εντ α ...</td>\n",
       "      <td>νιμ cε πετναsjι η πεjιννsορπ ννενταυτακο εαυβω...</td>\n",
       "      <td>νιμcεπετναsjιηπεjιννsορπννενταυτακοεαυβωκεπεση...</td>\n",
       "    </tr>\n",
       "    <tr>\n",
       "      <th>3</th>\n",
       "      <td>...</td>\n",
       "      <td>ϫⲉⲁⲩⲙⲟⲟϣⲉ ϩⲛⲧⲉϩⲓⲏ ⲛⲧⲙⲛⲧϫⲁⲥⲓϩⲏⲧ  ⲁⲩⲱ ⲉⲁⲩϣⲱⲡⲉ ϩⲛ...</td>\n",
       "      <td>ϫⲉ ⲁ ⲩ ⲙⲟⲟϣⲉ ϩⲛ ⲧⲉ ϩⲓⲏ ⲛ ⲧ ⲙⲛⲧϫⲁⲥⲓϩⲏⲧ  ⲁⲩⲱ ⲉ ⲁ...</td>\n",
       "      <td>mark aux nsubj root case det obl case det nmod...</td>\n",
       "      <td>CONJ APST PPERS V PREP ART N PREP ART N PUNCT ...</td>\n",
       "      <td>NaN</td>\n",
       "      <td>none</td>\n",
       "      <td>Apa Johannes Canons: FA143-158</td>\n",
       "      <td>Diliana Atanassova, The Canons of Apa John the...</td>\n",
       "      <td>johannes.canons</td>\n",
       "      <td>ϫⲉⲁⲩⲙⲟⲟϣⲉϩⲛⲧⲉϩⲓⲏⲛⲧⲙⲛⲧϫⲁⲥⲓϩⲏⲧⲁⲩⲱⲉⲁⲩϣⲱⲡⲉϩⲛⲟⲩⲙⲛⲧⲁ...</td>\n",
       "      <td>geie a ua moosheie hn teie hiauh n t mntgasiau...</td>\n",
       "      <td>geieauamoosheie hnteiehiauh ntmntgasiauhht  au...</td>\n",
       "      <td>geieauamoosheiehnteiehiauhntmntgasiauhhtauaoou...</td>\n",
       "      <td>jε α υ μοοsε hν τε hιη ν τ μντjασιhητ  αυω ε α...</td>\n",
       "      <td>jεαυμοοsε hντεhιη ντμντjασιhητ  αυω εαυsωπε hν...</td>\n",
       "      <td>jεαυμοοsεhντεhιηντμντjασιhηταυωεαυsωπεhνουμντα...</td>\n",
       "    </tr>\n",
       "    <tr>\n",
       "      <th>4</th>\n",
       "      <td>...</td>\n",
       "      <td>ⲕⲁⲓ ⲅⲁⲣ ⲙⲛⲛⲥⲁⲛⲉⲛⲧⲁⲡϫⲟⲉⲓⲥ ϫⲟⲟⲩ ⲧⲏⲣⲟⲩ ϫⲓⲛⲛϣⲟⲣⲡ ⲉ...</td>\n",
       "      <td>ⲕⲁⲓ ⲅⲁⲣ ⲙⲛⲛⲥⲁ ⲛ ⲉⲛⲧ ⲁ ⲡ ϫⲟⲉⲓⲥ ϫⲟⲟ ⲩ ⲧⲏⲣ ⲟⲩ ϫⲓⲛ...</td>\n",
       "      <td>cc advmod case root mark aux det nsubj acl:rel...</td>\n",
       "      <td>CONJ PTC PREP ART CREL APST ART N V PPERO IMOD...</td>\n",
       "      <td>NaN</td>\n",
       "      <td>none</td>\n",
       "      <td>Apa Johannes Canons: FA143-158</td>\n",
       "      <td>Diliana Atanassova, The Canons of Apa John the...</td>\n",
       "      <td>johannes.canons</td>\n",
       "      <td>ⲕⲁⲓⲅⲁⲣⲙⲛⲛⲥⲁⲛⲉⲛⲧⲁⲡϫⲟⲉⲓⲥϫⲟⲟⲩⲧⲏⲣⲟⲩϫⲓⲛⲛϣⲟⲣⲡⲉⲓⲧⲉϩⲛϩ...</td>\n",
       "      <td>kaiau gar mnnsa n eient a p goeieiaus goo ua t...</td>\n",
       "      <td>kaiau gar mnnsaneientapgoeieiaus gooua throua ...</td>\n",
       "      <td>kaiaugarmnnsaneientapgoeieiausgoouathrouagiaun...</td>\n",
       "      <td>και γαρ μννσα ν εντ α π jοεισ jοο υ τηρ ου jιν...</td>\n",
       "      <td>και γαρ μννσανενταπjοεισ jοου τηρου jιννsορπ ε...</td>\n",
       "      <td>καιγαρμννσανενταπjοεισjοουτηρουjιννsορπειτεhνh...</td>\n",
       "    </tr>\n",
       "  </tbody>\n",
       "</table>\n",
       "</div>"
      ],
      "text/plain": [
       "   eng                                         norm_group  \\\n",
       "0  ...  ⲉⲥⲁⲡⲁⲧⲁⲙⲙⲟⲥ ⲙⲁⲩⲁⲁⲥ ⲙⲛϩⲉⲛⲙⲏⲏϣⲉ ⲛⲁⲧϩⲏⲧ ⲛⲧϩⲉ ⲛϩⲉⲛ...   \n",
       "1  ...  ⲙⲟⲛⲟⲛ ⲉⲧⲃⲉⲧⲙⲛⲧϫⲁⲥⲓϩⲏⲧ  ⲕⲁⲧⲁⲧϩⲉ ⲛⲧⲁⲓⲣϣⲣⲡ ⲛϫⲟⲟⲥ ...   \n",
       "2  ...  ⲛⲓⲙ ϭⲉ ⲡⲉⲧⲛⲁϣϫⲓ ⲏ ⲡⲉϫⲓⲛⲛϣⲟⲣⲡ ⲛⲛⲉⲛⲧⲁⲩⲧⲁⲕⲟ ⲉⲁⲩⲃⲱ...   \n",
       "3  ...  ϫⲉⲁⲩⲙⲟⲟϣⲉ ϩⲛⲧⲉϩⲓⲏ ⲛⲧⲙⲛⲧϫⲁⲥⲓϩⲏⲧ  ⲁⲩⲱ ⲉⲁⲩϣⲱⲡⲉ ϩⲛ...   \n",
       "4  ...  ⲕⲁⲓ ⲅⲁⲣ ⲙⲛⲛⲥⲁⲛⲉⲛⲧⲁⲡϫⲟⲉⲓⲥ ϫⲟⲟⲩ ⲧⲏⲣⲟⲩ ϫⲓⲛⲛϣⲟⲣⲡ ⲉ...   \n",
       "\n",
       "                                                norm  \\\n",
       "0  ⲉ ⲥ ⲁⲡⲁⲧⲁ ⲙⲙⲟ ⲥ ⲙⲁⲩⲁⲁ ⲥ ⲙⲛ ϩⲉⲛ ⲙⲏⲏϣⲉ ⲛ ⲁⲧϩⲏⲧ ⲛ...   \n",
       "1  ⲙⲟⲛⲟⲛ ⲉⲧⲃⲉ ⲧ ⲙⲛⲧϫⲁⲥⲓϩⲏⲧ  ⲕⲁⲧⲁ ⲧ ϩⲉ ⲛⲧ ⲁ ⲓ ⲣϣⲣⲡ...   \n",
       "2  ⲛⲓⲙ ϭⲉ ⲡ ⲉⲧ ⲛⲁ ϣ ϫⲓ ⲏ ⲡⲉ ϫⲓⲛ ⲛ ϣⲟⲣⲡ ⲛ ⲛ ⲉⲛⲧ ⲁ ...   \n",
       "3  ϫⲉ ⲁ ⲩ ⲙⲟⲟϣⲉ ϩⲛ ⲧⲉ ϩⲓⲏ ⲛ ⲧ ⲙⲛⲧϫⲁⲥⲓϩⲏⲧ  ⲁⲩⲱ ⲉ ⲁ...   \n",
       "4  ⲕⲁⲓ ⲅⲁⲣ ⲙⲛⲛⲥⲁ ⲛ ⲉⲛⲧ ⲁ ⲡ ϫⲟⲉⲓⲥ ϫⲟⲟ ⲩ ⲧⲏⲣ ⲟⲩ ϫⲓⲛ...   \n",
       "\n",
       "                                                func  \\\n",
       "0  mark nsubj root case obj advmod det cc det obl...   \n",
       "1  advmod case det root punct case det obl mark a...   \n",
       "2  root advmod nsubj mark aux aux csubj cc det ca...   \n",
       "3  mark aux nsubj root case det obl case det nmod...   \n",
       "4  cc advmod case root mark aux det nsubj acl:rel...   \n",
       "\n",
       "                                                 pos  arabic  \\\n",
       "0  CCIRC PPERS V PREP PPERO IMOD PPERO PREP ART N...     NaN   \n",
       "1  CONJ PREP ART N PUNCT PREP ART N CREL APST PPE...     NaN   \n",
       "2  PINT PTC COP CREL FUT V V CONJ COP PREP ART N ...     NaN   \n",
       "3  CONJ APST PPERS V PREP ART N PREP ART N PUNCT ...     NaN   \n",
       "4  CONJ PTC PREP ART CREL APST ART N V PPERO IMOD...     NaN   \n",
       "\n",
       "  meta::translation                     meta::title  \\\n",
       "0              none  Apa Johannes Canons: FA143-158   \n",
       "1              none  Apa Johannes Canons: FA143-158   \n",
       "2              none  Apa Johannes Canons: FA143-158   \n",
       "3              none  Apa Johannes Canons: FA143-158   \n",
       "4              none  Apa Johannes Canons: FA143-158   \n",
       "\n",
       "                                        meta::source     meta::corpus  \\\n",
       "0  Diliana Atanassova, The Canons of Apa John the...  johannes.canons   \n",
       "1  Diliana Atanassova, The Canons of Apa John the...  johannes.canons   \n",
       "2  Diliana Atanassova, The Canons of Apa John the...  johannes.canons   \n",
       "3  Diliana Atanassova, The Canons of Apa John the...  johannes.canons   \n",
       "4  Diliana Atanassova, The Canons of Apa John the...  johannes.canons   \n",
       "\n",
       "                                        unnormalized  \\\n",
       "0  ⲉⲥⲁⲡⲁⲧⲁⲙⲙⲟⲥⲙⲁⲩⲁⲁⲥⲙⲛϩⲉⲛⲙⲏⲏϣⲉⲛⲁⲧϩⲏⲧⲛⲧϩⲉⲛϩⲉⲛⲧⲃⲛⲟⲟ...   \n",
       "1  ⲙⲟⲛⲟⲛⲉⲧⲃⲉⲧⲙⲛⲧϫⲁⲥⲓϩⲏⲧⲕⲁⲧⲁⲧϩⲉⲛⲧⲁⲓⲣϣⲣⲡⲛϫⲟⲟⲥⲁⲩⲱⲧⲙⲛ...   \n",
       "2  ⲛⲓⲙϭⲉⲡⲉⲧⲛⲁϣϫⲓⲏⲡⲉϫⲓⲛⲛϣⲟⲣⲡⲛⲛⲉⲛⲧⲁⲩⲧⲁⲕⲟⲉⲁⲩⲃⲱⲕⲉⲡⲉⲥⲏ...   \n",
       "3  ϫⲉⲁⲩⲙⲟⲟϣⲉϩⲛⲧⲉϩⲓⲏⲛⲧⲙⲛⲧϫⲁⲥⲓϩⲏⲧⲁⲩⲱⲉⲁⲩϣⲱⲡⲉϩⲛⲟⲩⲙⲛⲧⲁ...   \n",
       "4  ⲕⲁⲓⲅⲁⲣⲙⲛⲛⲥⲁⲛⲉⲛⲧⲁⲡϫⲟⲉⲓⲥϫⲟⲟⲩⲧⲏⲣⲟⲩϫⲓⲛⲛϣⲟⲣⲡⲉⲓⲧⲉϩⲛϩ...   \n",
       "\n",
       "                                      norm_romanized  \\\n",
       "0  eie s apata mmo s mauaaa s mn heien mhhsheie n...   \n",
       "1  monon eietveie t mntgasiauhht  kata t heie nt ...   \n",
       "2  niaum sheie p eiet na sh giau h peie giaun n s...   \n",
       "3  geie a ua moosheie hn teie hiauh n t mntgasiau...   \n",
       "4  kaiau gar mnnsa n eient a p goeieiaus goo ua t...   \n",
       "\n",
       "                                norm_group_romanized  \\\n",
       "0  eiesapatammos mauaaas mnheienmhhsheie nathht n...   \n",
       "1  monon eietveietmntgasiauhht  katatheie ntaiaur...   \n",
       "2  niaum sheie peietnashgiau h peiegiaunnshorp nn...   \n",
       "3  geieauamoosheie hnteiehiauh ntmntgasiauhht  au...   \n",
       "4  kaiau gar mnnsaneientapgoeieiaus gooua throua ...   \n",
       "\n",
       "                              unnormalized_romanized  \\\n",
       "0  eiesapatammosmauaaasmnheienmhhsheienathhtnthei...   \n",
       "1  mononeietveietmntgasiauhhtkatatheientaiaurshrp...   \n",
       "2  niaumsheiepeietnashgiauhpeiegiaunnshorpnneient...   \n",
       "3  geieauamoosheiehnteiehiauhntmntgasiauhhtauaoou...   \n",
       "4  kaiaugarmnnsaneientapgoeieiausgoouathrouagiaun...   \n",
       "\n",
       "                                     norm_greekified  \\\n",
       "0  ε σ απατα μμο σ μαυαα σ μν hεν μηηsε ν ατhητ ν...   \n",
       "1  μονον ετβε τ μντjασιhητ  κατα τ hε ντ α ι ρsρπ...   \n",
       "2  νιμ cε π ετ να s jι η πε jιν ν sορπ ν ν εντ α ...   \n",
       "3  jε α υ μοοsε hν τε hιη ν τ μντjασιhητ  αυω ε α...   \n",
       "4  και γαρ μννσα ν εντ α π jοεισ jοο υ τηρ ου jιν...   \n",
       "\n",
       "                               norm_group_greekified  \\\n",
       "0  εσαπαταμμοσ μαυαασ μνhενμηηsε νατhητ ντhε νhεν...   \n",
       "1  μονον ετβετμντjασιhητ  κατατhε νταιρsρπ νjοοσ ...   \n",
       "2  νιμ cε πετναsjι η πεjιννsορπ ννενταυτακο εαυβω...   \n",
       "3  jεαυμοοsε hντεhιη ντμντjασιhητ  αυω εαυsωπε hν...   \n",
       "4  και γαρ μννσανενταπjοεισ jοου τηρου jιννsορπ ε...   \n",
       "\n",
       "                             unnormalized_greekified  \n",
       "0  εσαπαταμμοσμαυαασμνhενμηηsενατhητντhενhεντβνοο...  \n",
       "1  μονονετβετμντjασιhητκατατhενταιρsρπνjοοσαυωτμν...  \n",
       "2  νιμcεπετναsjιηπεjιννsορπννενταυτακοεαυβωκεπεση...  \n",
       "3  jεαυμοοsεhντεhιηντμντjασιhηταυωεαυsωπεhνουμντα...  \n",
       "4  καιγαρμννσανενταπjοεισjοουτηρουjιννsορπειτεhνh...  "
      ]
     },
     "execution_count": 70,
     "metadata": {},
     "output_type": "execute_result"
    }
   ],
   "source": [
    "data.head()"
   ]
  },
  {
   "cell_type": "code",
   "execution_count": 71,
   "metadata": {},
   "outputs": [],
   "source": [
    "data.to_csv(CLEAN_DATA_FILE)"
   ]
  },
  {
   "cell_type": "code",
   "execution_count": 232,
   "metadata": {},
   "outputs": [
    {
     "data": {
      "text/plain": [
       "32536"
      ]
     },
     "execution_count": 232,
     "metadata": {},
     "output_type": "execute_result"
    }
   ],
   "source": [
    "data = pd.read_csv(\"datasets/third_clean_data.csv\")\n",
    "len(data)"
   ]
  },
  {
   "cell_type": "code",
   "execution_count": 233,
   "metadata": {},
   "outputs": [
    {
     "name": "stdout",
     "output_type": "stream",
     "text": [
      "80\n",
      "106\n",
      "54\n",
      "15\n"
     ]
    }
   ],
   "source": [
    "test_titles = {\n",
    "    \"42_Luke_1\": \"NT\",\n",
    "    \"Letter of pseudo-Ephrem MERC.AT 126-134\": \"Budge\",\n",
    "    \"09_I Samuel_17\": \"OT\",\n",
    "    \"Acephalous 22: YA 517-518\": \"Amir\"\n",
    "}\n",
    "for test_title, desc in test_titles.items():\n",
    "    test_df = data[data[\"meta::title\"] == test_title]\n",
    "    print(len(test_df))\n",
    "    test_df.to_csv(f\"datasets/test_data/{desc}.csv\")\n"
   ]
  },
  {
   "cell_type": "code",
   "execution_count": 234,
   "metadata": {},
   "outputs": [
    {
     "name": "stdout",
     "output_type": "stream",
     "text": [
      "145\n"
     ]
    }
   ],
   "source": [
    "validation_titles = [\n",
    "    \"05_Deuteronomy_1\",\n",
    "    \"Mark Chapter 1\",\n",
    "    \"Martyrdom of Victor part 8\"\n",
    "]\n",
    "\n",
    "valid_df = data[data[\"meta::title\"].isin(validation_titles)]\n",
    "print(len(valid_df))\n",
    "valid_df.to_csv(\"datasets/validation_data/data.csv\")"
   ]
  },
  {
   "cell_type": "code",
   "execution_count": 235,
   "metadata": {},
   "outputs": [],
   "source": [
    "bad_titles = list(test_titles.keys()) + validation_titles\n",
    "train_df = data[~data[\"meta::title\"].isin(bad_titles)]\n",
    "train_df.to_csv(\"datasets/train_data/data.csv\")"
   ]
  },
  {
   "cell_type": "code",
   "execution_count": 236,
   "metadata": {},
   "outputs": [
    {
     "data": {
      "application/vnd.jupyter.widget-view+json": {
       "model_id": "a7fbf9921472456aa1424cc627b6787f",
       "version_major": 2,
       "version_minor": 0
      },
      "text/plain": [
       "Saving the dataset (0/1 shards):   0%|          | 0/32136 [00:00<?, ? examples/s]"
      ]
     },
     "metadata": {},
     "output_type": "display_data"
    },
    {
     "data": {
      "application/vnd.jupyter.widget-view+json": {
       "model_id": "37b85bb7c2ea4106862fd9ca707f20cc",
       "version_major": 2,
       "version_minor": 0
      },
      "text/plain": [
       "Saving the dataset (0/1 shards):   0%|          | 0/145 [00:00<?, ? examples/s]"
      ]
     },
     "metadata": {},
     "output_type": "display_data"
    }
   ],
   "source": [
    "train_df = pd.read_csv(\"datasets/train_data/data.csv\")\n",
    "valid_df = pd.read_csv(\"datasets/validation_data/data.csv\")\n",
    "\n",
    "train_dataset = datasets.Dataset.from_pandas(train_df)\n",
    "valid_dataset = datasets.Dataset.from_pandas(valid_df)\n",
    "data_dict = datasets.DatasetDict({\"train\": train_dataset, \"validation\": valid_dataset})\n",
    "\n",
    "data_dict.save_to_disk(\"datasets/third-dataset\")"
   ]
  },
  {
   "cell_type": "code",
   "execution_count": null,
   "metadata": {},
   "outputs": [],
   "source": []
  }
 ],
 "metadata": {
  "kernelspec": {
   "display_name": "coptic",
   "language": "python",
   "name": "python3"
  },
  "language_info": {
   "codemirror_mode": {
    "name": "ipython",
    "version": 3
   },
   "file_extension": ".py",
   "mimetype": "text/x-python",
   "name": "python",
   "nbconvert_exporter": "python",
   "pygments_lexer": "ipython3",
   "version": "3.11.0"
  },
  "orig_nbformat": 4
 },
 "nbformat": 4,
 "nbformat_minor": 2
}
