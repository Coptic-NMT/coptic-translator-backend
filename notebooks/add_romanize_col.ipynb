{
 "cells": [
  {
   "cell_type": "code",
   "execution_count": 2,
   "metadata": {},
   "outputs": [],
   "source": [
    "import pandas as pd\n"
   ]
  },
  {
   "cell_type": "code",
   "execution_count": 3,
   "metadata": {},
   "outputs": [
    {
     "name": "stdout",
     "output_type": "stream",
     "text": [
      "/mnt/storage/maxenis/coptic-machine-translation\n"
     ]
    }
   ],
   "source": [
    "%cd /mnt/storage/maxenis/coptic-machine-translation"
   ]
  },
  {
   "cell_type": "code",
   "execution_count": 4,
   "metadata": {},
   "outputs": [],
   "source": [
    "data = pd.read_csv(\"datasets/data.csv\")"
   ]
  },
  {
   "cell_type": "code",
   "execution_count": 5,
   "metadata": {},
   "outputs": [],
   "source": [
    "cop = data[\"norm\"]"
   ]
  },
  {
   "cell_type": "code",
   "execution_count": 6,
   "metadata": {},
   "outputs": [
    {
     "data": {
      "text/plain": [
       "0        ⲛⲧⲟⲥ ⲇⲉ ⲁ ⲥ ϩⲓⲥⲉ ⲉ ⲥ ϣⲱϣⲧ ⲙⲙⲟ ϥ ⲙⲡⲉ ⲥ ϣ ϭⲙϭⲟⲙ ...\n",
       "1                                 ⲙⲛⲛⲥⲱ ⲥ ⲁ ⲥ ⲕⲁⲁ ϥ ⲉⲃⲟⲗ .\n",
       "2        ⲛⲧⲉⲣⲉ ϥ ⲃⲱⲕ ⲇⲉ ⲛ ϥ ⲣⲙⲟⲛⲁⲭⲟⲥ ⲁ ϥ ϣⲱⲡⲉ ϩⲛ ⲟⲩ ⲁⲙⲉ...\n",
       "3        ⲁ ⲥ ϣⲱⲡⲉ ⲇⲉ ⲛⲧⲉⲣⲉ ⲧⲉϥ ⲙⲁⲁⲩ ⲙⲟⲩ . ⲙⲛⲛⲥⲁ ⲟⲩⲟⲉⲓϣ ...\n",
       "4        ⲁⲩⲱ ⲁ ϥ ϭⲓⲛⲉ ⲛ ⲧⲉϥ ⲙⲁⲁⲩ ⲙⲙⲁⲩ ⲙⲛ ⲛ ⲉⲧ ⲟⲩ ⲕⲣⲓⲛⲉ ...\n",
       "                               ...                        \n",
       "31278    ⲟⲩⲕⲟⲩⲛ ⲟⲩ ⲥⲟⲛ ⲛ ⲥⲁⲣⲕⲓⲕⲟⲥ ⲡⲉ ⲁⲩⲱ ⲟⲩ ⲡⲛⲉⲩⲙⲁⲧⲓⲕⲟⲥ...\n",
       "31279    ⲡ ⲗⲁⲟⲥ ⲅⲁⲣ ⲙ ⲡ ⲛⲟⲩⲧⲉ ⲙ ⲡⲉⲓ ⲟⲩⲟⲉⲓϣ ⲡ ⲓⲥⲣⲁⲏⲗ ⲉ ϥ...\n",
       "31280    ⲛ ⲥⲉ ϣⲁϫⲉ ⲙⲛ ⲛ ⲣⲱⲙⲉ ⲛⲧ ⲁ ⲩ ⲉⲓ ⲁⲩⲱ ⲛ ⲥⲉ ϥⲓ ⲡⲉⲩ ...\n",
       "31281    ⲁⲩⲱ ⲧ ϩⲉ ⲉⲧ ⲓ ⲛⲁ ⲧⲟϣ ⲟⲩ ⲙⲙⲟ ⲥ ⲛ ϩⲟⲥⲟⲛ ⲉ ⲓ ⲟⲛϩ ...\n",
       "31282    ⲁⲩⲱ ⲉ ⲩ ⲛⲁ ϫⲟⲟ ⲥ ⲁⲛ ⲉⲣⲟ ⲟⲩ ϫⲉ ⲉⲣⲉ ⲡ ⲟⲩⲁ ⲡ ⲟⲩⲁ ...\n",
       "Name: norm, Length: 31283, dtype: object"
      ]
     },
     "execution_count": 6,
     "metadata": {},
     "output_type": "execute_result"
    }
   ],
   "source": [
    "cop"
   ]
  },
  {
   "cell_type": "code",
   "execution_count": 7,
   "metadata": {},
   "outputs": [],
   "source": [
    "cop.to_csv(\"datasets/norm.csv\", index=False)"
   ]
  },
  {
   "cell_type": "code",
   "execution_count": 9,
   "metadata": {},
   "outputs": [],
   "source": [
    "romanized_copt = pd.read_csv(\"datasets/norm_romanized.csv\")"
   ]
  },
  {
   "cell_type": "code",
   "execution_count": 12,
   "metadata": {},
   "outputs": [],
   "source": [
    "data[\"norm_romanized\"] = romanized_copt[\"norm\"]"
   ]
  },
  {
   "cell_type": "code",
   "execution_count": 13,
   "metadata": {},
   "outputs": [],
   "source": [
    "data.to_csv(\"datasets/data_with_romanized.csv\", index=False)"
   ]
  },
  {
   "cell_type": "markdown",
   "metadata": {},
   "source": []
  }
 ],
 "metadata": {
  "kernelspec": {
   "display_name": "coptic",
   "language": "python",
   "name": "python3"
  },
  "language_info": {
   "codemirror_mode": {
    "name": "ipython",
    "version": 3
   },
   "file_extension": ".py",
   "mimetype": "text/x-python",
   "name": "python",
   "nbconvert_exporter": "python",
   "pygments_lexer": "ipython3",
   "version": "3.11.0"
  }
 },
 "nbformat": 4,
 "nbformat_minor": 2
}
