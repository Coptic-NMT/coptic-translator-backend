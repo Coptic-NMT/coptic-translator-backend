{
 "cells": [
  {
   "cell_type": "code",
   "execution_count": 1,
   "metadata": {},
   "outputs": [
    {
     "name": "stdout",
     "output_type": "stream",
     "text": [
      "/mnt/storage/maxenis/coptic-machine-translation\n"
     ]
    }
   ],
   "source": [
    "%cd /mnt/storage/maxenis/coptic-machine-translation"
   ]
  },
  {
   "cell_type": "code",
   "execution_count": 2,
   "metadata": {},
   "outputs": [],
   "source": [
    "from model import TranslationModel\n",
    "import datasets\n",
    "from config_consts import GREEDY_GENERATION_CONFIG\n",
    "import pandas as pd\n",
    "import parse_data\n",
    "import os\n",
    "from importlib import reload"
   ]
  },
  {
   "cell_type": "code",
   "execution_count": 3,
   "metadata": {},
   "outputs": [],
   "source": [
    "df = pd.read_csv(\"datasets/data_with_romanized.csv\")"
   ]
  },
  {
   "cell_type": "code",
   "execution_count": 4,
   "metadata": {},
   "outputs": [
    {
     "name": "stdout",
     "output_type": "stream",
     "text": [
      "Generating dataset.\n"
     ]
    },
    {
     "data": {
      "application/vnd.jupyter.widget-view+json": {
       "model_id": "94f8e3aee91f414b84f61dbd28f3cc2e",
       "version_major": 2,
       "version_minor": 0
      },
      "text/plain": [
       "Map:   0%|          | 0/31283 [00:00<?, ? examples/s]"
      ]
     },
     "metadata": {},
     "output_type": "display_data"
    },
    {
     "data": {
      "application/vnd.jupyter.widget-view+json": {
       "model_id": "7861795132704c0c9b2f08a754d1ac17",
       "version_major": 2,
       "version_minor": 0
      },
      "text/plain": [
       "Saving the dataset (0/1 shards):   0%|          | 0/30655 [00:00<?, ? examples/s]"
      ]
     },
     "metadata": {},
     "output_type": "display_data"
    },
    {
     "data": {
      "application/vnd.jupyter.widget-view+json": {
       "model_id": "e41380408c564ca8b1d62db59b410266",
       "version_major": 2,
       "version_minor": 0
      },
      "text/plain": [
       "Saving the dataset (0/1 shards):   0%|          | 0/128 [00:00<?, ? examples/s]"
      ]
     },
     "metadata": {},
     "output_type": "display_data"
    },
    {
     "data": {
      "application/vnd.jupyter.widget-view+json": {
       "model_id": "71cc323a8bb8483b9e36dd9da65150c1",
       "version_major": 2,
       "version_minor": 0
      },
      "text/plain": [
       "Saving the dataset (0/1 shards):   0%|          | 0/500 [00:00<?, ? examples/s]"
      ]
     },
     "metadata": {},
     "output_type": "display_data"
    },
    {
     "data": {
      "text/plain": [
       "DatasetDict({\n",
       "    train: Dataset({\n",
       "        features: ['eng', 'norm_group', 'norm', 'func', 'pos', 'arabic', 'meta::translation', 'meta::title', 'norm_romanized', 'translation'],\n",
       "        num_rows: 30655\n",
       "    })\n",
       "    test: Dataset({\n",
       "        features: ['eng', 'norm_group', 'norm', 'func', 'pos', 'arabic', 'meta::translation', 'meta::title', 'norm_romanized', 'translation'],\n",
       "        num_rows: 128\n",
       "    })\n",
       "    validation: Dataset({\n",
       "        features: ['eng', 'norm_group', 'norm', 'func', 'pos', 'arabic', 'meta::translation', 'meta::title', 'norm_romanized', 'translation'],\n",
       "        num_rows: 500\n",
       "    })\n",
       "})"
      ]
     },
     "execution_count": 4,
     "metadata": {},
     "output_type": "execute_result"
    }
   ],
   "source": [
    "if not os.path.exists(\"datasets/cop-en-romanized-norm-group\"):\n",
    "    print(\"Generating dataset.\")\n",
    "    data = datasets.load_dataset(\"csv\", data_files =\"datasets/data_with_romanized.csv\")\n",
    "    # shuffle data\n",
    "    data = data.remove_columns([\"Unnamed: 0\"])\n",
    "    data = data.shuffle()\n",
    "    data = data['train'].rename_column(\"translation\", \"eng\")\n",
    "    # create column translation which consists of dict with keys: cop, eng mapping to norm_romanized, eng\n",
    "    data = data.map(lambda x: {\"translation\": {\"cop\": x[\"norm_romanized\"], \"eng\": x[\"eng\"]}})\n",
    "    data_with_train = data.train_test_split(test_size=0.01596)\n",
    "    next_data = data_with_train['train'].train_test_split(test_size=0.00413)\n",
    "    next_data['validation'], next_data['test'] = next_data['test'], data_with_train['test']\n",
    "    next_data.save_to_disk(\"datasets/cop-en-romanized\")\n"
   ]
  },
  {
   "cell_type": "code",
   "execution_count": 6,
   "metadata": {},
   "outputs": [
    {
     "data": {
      "text/plain": [
       "DatasetDict({\n",
       "    train: Dataset({\n",
       "        features: ['eng', 'norm_group', 'norm', 'func', 'pos', 'arabic', 'meta::translation', 'meta::title', 'norm_romanized', 'translation'],\n",
       "        num_rows: 30655\n",
       "    })\n",
       "    test: Dataset({\n",
       "        features: ['eng', 'norm_group', 'norm', 'func', 'pos', 'arabic', 'meta::translation', 'meta::title', 'norm_romanized', 'translation'],\n",
       "        num_rows: 128\n",
       "    })\n",
       "    validation: Dataset({\n",
       "        features: ['eng', 'norm_group', 'norm', 'func', 'pos', 'arabic', 'meta::translation', 'meta::title', 'norm_romanized', 'translation'],\n",
       "        num_rows: 500\n",
       "    })\n",
       "})"
      ]
     },
     "execution_count": 6,
     "metadata": {},
     "output_type": "execute_result"
    }
   ],
   "source": [
    "data = datasets.load_from_disk(\"datasets/cop-en-romanized\")\n",
    "data"
   ]
  },
  {
   "cell_type": "code",
   "execution_count": null,
   "metadata": {},
   "outputs": [],
   "source": []
  }
 ],
 "metadata": {
  "kernelspec": {
   "display_name": "coptic",
   "language": "python",
   "name": "python3"
  },
  "language_info": {
   "codemirror_mode": {
    "name": "ipython",
    "version": 3
   },
   "file_extension": ".py",
   "mimetype": "text/x-python",
   "name": "python",
   "nbconvert_exporter": "python",
   "pygments_lexer": "ipython3",
   "version": "3.11.0"
  },
  "orig_nbformat": 4
 },
 "nbformat": 4,
 "nbformat_minor": 2
}
