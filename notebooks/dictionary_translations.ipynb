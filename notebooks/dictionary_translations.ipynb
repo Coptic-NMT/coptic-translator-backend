{
 "cells": [
  {
   "cell_type": "code",
   "execution_count": 1,
   "metadata": {},
   "outputs": [
    {
     "name": "stdout",
     "output_type": "stream",
     "text": [
      "/mnt/storage/maxenis/coptic-machine-translation\n"
     ]
    }
   ],
   "source": [
    "%cd /mnt/storage/maxenis/coptic-machine-translation"
   ]
  },
  {
   "cell_type": "code",
   "execution_count": 26,
   "metadata": {},
   "outputs": [
    {
     "data": {
      "text/plain": [
       "<module 'dictionary_translator' from '/mnt/storage/maxenis/coptic-machine-translation/dictionary_translator.py'>"
      ]
     },
     "execution_count": 26,
     "metadata": {},
     "output_type": "execute_result"
    }
   ],
   "source": [
    "import datasets\n",
    "import pandas as pd\n",
    "import dictionary_translator\n",
    "import os\n",
    "import importlib\n",
    "importlib.reload(dictionary_translator)"
   ]
  },
  {
   "cell_type": "code",
   "execution_count": 8,
   "metadata": {},
   "outputs": [],
   "source": [
    "import sacrebleu"
   ]
  },
  {
   "cell_type": "code",
   "execution_count": 5,
   "metadata": {},
   "outputs": [],
   "source": [
    "test_dataset = [\"Amir.csv\", \"Budge.csv\", \"NT.csv\", \"OT.csv\"]"
   ]
  },
  {
   "cell_type": "code",
   "execution_count": 20,
   "metadata": {},
   "outputs": [],
   "source": [
    "data_sets = [pd.read_csv(os.path.join(\"datasets/test_data\", d)) for d in test_dataset]"
   ]
  },
  {
   "cell_type": "code",
   "execution_count": 27,
   "metadata": {},
   "outputs": [
    {
     "name": "stderr",
     "output_type": "stream",
     "text": [
      "100%|██████████| 12395/12395 [02:12<00:00, 93.38it/s] \n"
     ]
    }
   ],
   "source": [
    "translator = dictionary_translator.DictionaryTranslator()"
   ]
  },
  {
   "cell_type": "code",
   "execution_count": 37,
   "metadata": {},
   "outputs": [],
   "source": [
    "src_col  = \"eng\"\n",
    "tgt_col  = \"dictionary_translation\""
   ]
  },
  {
   "cell_type": "code",
   "execution_count": 38,
   "metadata": {},
   "outputs": [
    {
     "data": {
      "text/plain": [
       "'ⲑⲉⲟⲩ ϭⲁⲁϭⲉ'"
      ]
     },
     "execution_count": 38,
     "metadata": {},
     "output_type": "execute_result"
    }
   ],
   "source": [
    "translator.translate_sentence(\"Jesus cake\", \"en\", \"cop\")"
   ]
  },
  {
   "cell_type": "code",
   "execution_count": 51,
   "metadata": {},
   "outputs": [
    {
     "name": "stdout",
     "output_type": "stream",
     "text": [
      "Translating Amir.csv\n",
      "Translating Budge.csv\n",
      "Translating NT.csv\n",
      "Translating OT.csv\n"
     ]
    }
   ],
   "source": [
    "for i, dataset in enumerate(data_sets):\n",
    "    print(f\"Translating {test_dataset[i]}\")\n",
    "    dataset[tgt_col] = dataset[src_col].apply(lambda x: translator.translate_sentence(x, \"en\", \"cop\"))"
   ]
  },
  {
   "cell_type": "code",
   "execution_count": 40,
   "metadata": {},
   "outputs": [
    {
     "data": {
      "text/html": [
       "<div>\n",
       "<style scoped>\n",
       "    .dataframe tbody tr th:only-of-type {\n",
       "        vertical-align: middle;\n",
       "    }\n",
       "\n",
       "    .dataframe tbody tr th {\n",
       "        vertical-align: top;\n",
       "    }\n",
       "\n",
       "    .dataframe thead th {\n",
       "        text-align: right;\n",
       "    }\n",
       "</style>\n",
       "<table border=\"1\" class=\"dataframe\">\n",
       "  <thead>\n",
       "    <tr style=\"text-align: right;\">\n",
       "      <th></th>\n",
       "      <th>Unnamed: 0.1</th>\n",
       "      <th>Unnamed: 0</th>\n",
       "      <th>eng</th>\n",
       "      <th>norm_group</th>\n",
       "      <th>norm</th>\n",
       "      <th>func</th>\n",
       "      <th>pos</th>\n",
       "      <th>arabic</th>\n",
       "      <th>meta::translation</th>\n",
       "      <th>meta::title</th>\n",
       "      <th>unnormalized</th>\n",
       "      <th>norm_romanized</th>\n",
       "      <th>norm_group_romanized</th>\n",
       "      <th>unnormalized_romanized</th>\n",
       "      <th>norm_greekified</th>\n",
       "      <th>norm_group_greekified</th>\n",
       "      <th>unnormalized_greekified</th>\n",
       "      <th>dictionary_translation</th>\n",
       "    </tr>\n",
       "  </thead>\n",
       "  <tbody>\n",
       "    <tr>\n",
       "      <th>0</th>\n",
       "      <td>32032</td>\n",
       "      <td>32032</td>\n",
       "      <td>to every pain which is down upon me.</td>\n",
       "      <td>ⲉⲙⲕⲁϩ ⲛⲓⲙ ⲉϥϩⲣⲁⲓ ϩⲓϫⲱⲓ .</td>\n",
       "      <td>ⲉ ⲙⲕⲁϩ ⲛⲓⲙ ⲉ ϥ ϩⲣⲁⲓ ϩⲓϫⲱ ⲓ .</td>\n",
       "      <td>case root det mark nsubj acl:relcl case acl:re...</td>\n",
       "      <td>PREP N PINT PREP PPERO ADV PREP PPERO PUNCT</td>\n",
       "      <td>NaN</td>\n",
       "      <td>Amir Zeldes</td>\n",
       "      <td>Acephalous 22: YA 517-518</td>\n",
       "      <td>ⲉⲙⲕⲁϩⲛⲓⲙⲉϥϩⲣⲁⲓϩⲓϫⲱⲓ</td>\n",
       "      <td>eie mkah niaum eie f hraiau hiaugoou iau .</td>\n",
       "      <td>eiemkah niaum eiefhraiau hiaugoouiau .</td>\n",
       "      <td>eiemkahniaumeiefhraiauhiaugoouiau</td>\n",
       "      <td>ε μκαh νιμ ε f hραι hιjω ι .</td>\n",
       "      <td>εμκαh νιμ εfhραι hιjωι .</td>\n",
       "      <td>εμκαhνιμεfhραιhιjωι</td>\n",
       "      <td>ⲡⲣⲟⲥⲣⲁϥ ⲕⲁⲧⲁⲣⲟⲕ ⲗⲩⲡⲏ ⲅⲉϩⲉⲛⲛⲁ ⲧⲉⲭⲛⲏ ⲁⲛⲁⲃⲁⲥⲓⲥ ⲕⲁ...</td>\n",
       "    </tr>\n",
       "    <tr>\n",
       "      <th>1</th>\n",
       "      <td>32033</td>\n",
       "      <td>32033</td>\n",
       "      <td>But for the little girls which we have heard a...</td>\n",
       "      <td>ⲉⲧⲃⲉⲛϣⲉⲉⲣⲉ ⲇⲉ ϣⲏⲙ ⲛⲧⲁⲛⲥⲱⲧⲙ ⲉⲧⲃⲏⲏⲧⲟⲩ.</td>\n",
       "      <td>ⲉⲧⲃⲉ ⲛ ϣⲉⲉⲣⲉ ⲇⲉ ϣⲏⲙ ⲛⲧ ⲁ ⲛ ⲥⲱⲧⲙ ⲉⲧⲃⲏⲏⲧ ⲟⲩ .</td>\n",
       "      <td>case det root advmod obl:npmod mark aux nsubj ...</td>\n",
       "      <td>PREP ART N PTC N CREL APST PPERS V PREP PPERO ...</td>\n",
       "      <td>NaN</td>\n",
       "      <td>Amir Zeldes</td>\n",
       "      <td>Acephalous 22: YA 517-518</td>\n",
       "      <td>ⲉⲧⲃⲉⲛϣⲉⲉⲣⲉⲇⲉϣⲏⲙⲛⲧⲁⲛⲥⲱⲧⲙⲉⲧⲃⲏⲏⲧⲟⲩ</td>\n",
       "      <td>eietveie n sheieeiereie deie shhm nt a n soout...</td>\n",
       "      <td>eietveiensheieeiereie deie shhm ntansooutm eie...</td>\n",
       "      <td>eietveiensheieeiereiedeieshhmntansooutmeietvhh...</td>\n",
       "      <td>ετβε ν sεερε δε sημ ντ α ν σωτμ ετβηητ ου .</td>\n",
       "      <td>ετβενsεερε δε sημ ντανσωτμ ετβηητου.</td>\n",
       "      <td>ετβενsεερεδεsημντανσωτμετβηητου</td>\n",
       "      <td>ⲭⲥ ⲡⲣⲟⲥⲣⲁϥ ⲧ ϩⲟⲗⲓⲅⲟⲛ ϩⲟⲣⲕϥ ⲅⲉϩⲉⲛⲛⲁ ⲁⲛⲛ ϫⲓ ϣⲙϣⲏ...</td>\n",
       "    </tr>\n",
       "    <tr>\n",
       "      <th>2</th>\n",
       "      <td>32034</td>\n",
       "      <td>32034</td>\n",
       "      <td>that they ran to each other in a desire of flesh.</td>\n",
       "      <td>ϫⲉⲥⲉⲛⲁⲡⲱⲧ ⲉϩⲟⲩⲛ ⲉⲛⲉⲩⲉⲣⲏⲩ ϩⲛⲟⲩⲱϣ ⲛⲥⲁⲣⲕⲓⲕⲟⲛ .</td>\n",
       "      <td>ϫⲉ ⲥⲉ ⲛⲁ ⲡⲱⲧ ⲉϩⲟⲩⲛ ⲉ ⲛⲉⲩ ⲉⲣⲏⲩ ϩⲛ ⲟⲩⲱϣ ⲛ ⲥⲁⲣⲕⲓⲕ...</td>\n",
       "      <td>mark nsubj aux root advmod case det obl case o...</td>\n",
       "      <td>CONJ PPERS FUT V ADV PREP PPOS N PREP N PREP N...</td>\n",
       "      <td>NaN</td>\n",
       "      <td>Amir Zeldes</td>\n",
       "      <td>Acephalous 22: YA 517-518</td>\n",
       "      <td>ϫⲉⲥⲉⲛⲁⲡⲱⲧⲉϩⲟⲩⲛⲉⲛⲉⲩⲉⲣⲏⲩϩⲛⲟⲩⲱϣⲛⲥⲁⲣⲕⲓⲕⲟⲛ</td>\n",
       "      <td>geie seie na poout eiehouan eie neieua eierhua...</td>\n",
       "      <td>geieseienapoout eiehouan eieneieuaeierhua hnou...</td>\n",
       "      <td>geieseienapoouteiehouaneieneieuaeierhuahnouaoo...</td>\n",
       "      <td>jε σε να πωτ εhουν ε νευ ερηυ hν ουωs ν σαρκικ...</td>\n",
       "      <td>jεσεναπωτ εhουν ενευερηυ hνουωs νσαρκικον .</td>\n",
       "      <td>jεσεναπωτεhουνενευερηυhνουωsνσαρκικον</td>\n",
       "      <td>ϩⲟⲥⲧⲉ ⲟⲩ ⲁⲡⲟⲥⲧⲁⲧⲏⲏⲥ ⲡⲣⲟⲥⲣⲁϥ ⲕⲁⲧⲁⲣⲟⲕ ϩⲟⲉⲓⲛⲉ ⲕⲁⲧ...</td>\n",
       "    </tr>\n",
       "    <tr>\n",
       "      <th>3</th>\n",
       "      <td>32035</td>\n",
       "      <td>32035</td>\n",
       "      <td>Tell me about them assuredly, that I may know</td>\n",
       "      <td>ⲙⲁⲧⲁⲙⲟⲓ ⲉⲧⲃⲏⲏⲧⲟⲩ ϩⲛⲟⲩⲱⲣϫ ϫⲉⲉⲓⲉⲉⲓⲙⲉ</td>\n",
       "      <td>ⲙⲁ ⲧⲁⲙⲟ ⲓ ⲉⲧⲃⲏⲏⲧ ⲟⲩ ϩⲛ ⲟⲩ ⲱⲣϫ ϫⲉ ⲉⲓⲉ ⲉⲓⲙⲉ</td>\n",
       "      <td>root xcomp obj case obl case det obl mark nsub...</td>\n",
       "      <td>VIMP V PPERO PREP PPERO PREP ART N CONJ AOPT_P...</td>\n",
       "      <td>NaN</td>\n",
       "      <td>Amir Zeldes</td>\n",
       "      <td>Acephalous 22: YA 517-518</td>\n",
       "      <td>ⲙⲁⲧⲁⲙⲟⲓⲉⲧⲃⲏⲏⲧⲟⲩϩⲛⲟⲩⲱⲣϫϫⲉⲉⲓⲉⲉⲓⲙⲉ</td>\n",
       "      <td>ma tamo iau eietvhht oua hn oua oourg geie eie...</td>\n",
       "      <td>matamoiau eietvhhtoua hnouaoourg geieeieiaueie...</td>\n",
       "      <td>matamoiaueietvhhtouahnouaoourggeieeieiaueieeie...</td>\n",
       "      <td>μα ταμο ι ετβηητ ου hν ου ωρj jε ειε ειμε</td>\n",
       "      <td>ματαμοι ετβηητου hνουωρj jεειεειμε</td>\n",
       "      <td>ματαμοιετβηητουhνουωρjjεειεειμε</td>\n",
       "      <td>ϫⲟⲟⲕⲉϥ ⲉⲑⲛⲟⲥ ⲕⲁⲧⲁⲣⲟⲕ ⲥⲟⲩ ⲁⲥⲫⲁⲗⲱⲥ ϩⲟⲥⲧⲉ ⲁⲛⲅ ϫⲱⲱ...</td>\n",
       "    </tr>\n",
       "    <tr>\n",
       "      <th>4</th>\n",
       "      <td>32036</td>\n",
       "      <td>32036</td>\n",
       "      <td>And I will tell you what it is that you will d...</td>\n",
       "      <td>ⲁⲩⲱ ϯⲛⲁⲧⲁⲙⲱⲧⲛ ϫⲉⲉⲧⲉⲧⲛⲁⲣⲟⲩ ⲛⲁⲩ .</td>\n",
       "      <td>ⲁⲩⲱ ϯ ⲛⲁ ⲧⲁⲙⲱ ⲧⲛ ϫⲉ ⲉ ⲧⲉⲧⲛ ⲛⲁ ⲣ ⲟⲩ ⲛⲁ ⲩ .</td>\n",
       "      <td>cc nsubj aux root obj mark mark nsubj aux ccom...</td>\n",
       "      <td>CONJ PPERS FUT V PPERO CONJ CFOC PPERS FUT V P...</td>\n",
       "      <td>NaN</td>\n",
       "      <td>Amir Zeldes</td>\n",
       "      <td>Acephalous 22: YA 517-518</td>\n",
       "      <td>ⲁⲩⲱϯⲛⲁⲧⲁⲙⲱⲧⲛϫⲉⲉⲧⲉⲧⲛⲛⲁⲣⲟⲩⲛⲁⲩ</td>\n",
       "      <td>auaoou d na tamoou tn geie eie teietn na r oua...</td>\n",
       "      <td>auaoou dnatamooutn geieeieteietnaroua naua .</td>\n",
       "      <td>auaooudnatamooutngeieeieteietnnarouanaua</td>\n",
       "      <td>αυω t να ταμω τν jε ε τετν να ρ ου να υ .</td>\n",
       "      <td>αυω tναταμωτν jεετετναρου ναυ .</td>\n",
       "      <td>αυωtναταμωτνjεετετνναρουναυ</td>\n",
       "      <td>ϩⲁⲉⲟⲟⲩ ⲁⲛⲅ ⲑⲉⲗⲏⲙⲁ ϫⲛⲟⲩ ⲧⲏⲩⲧⲛ ⲟⲩ ⲁϩⲣⲏⲧⲟⲥ ⲧⲉⲭⲛⲏ ...</td>\n",
       "    </tr>\n",
       "  </tbody>\n",
       "</table>\n",
       "</div>"
      ],
      "text/plain": [
       "   Unnamed: 0.1  Unnamed: 0  \\\n",
       "0         32032       32032   \n",
       "1         32033       32033   \n",
       "2         32034       32034   \n",
       "3         32035       32035   \n",
       "4         32036       32036   \n",
       "\n",
       "                                                 eng  \\\n",
       "0               to every pain which is down upon me.   \n",
       "1  But for the little girls which we have heard a...   \n",
       "2  that they ran to each other in a desire of flesh.   \n",
       "3      Tell me about them assuredly, that I may know   \n",
       "4  And I will tell you what it is that you will d...   \n",
       "\n",
       "                                    norm_group  \\\n",
       "0                     ⲉⲙⲕⲁϩ ⲛⲓⲙ ⲉϥϩⲣⲁⲓ ϩⲓϫⲱⲓ .   \n",
       "1         ⲉⲧⲃⲉⲛϣⲉⲉⲣⲉ ⲇⲉ ϣⲏⲙ ⲛⲧⲁⲛⲥⲱⲧⲙ ⲉⲧⲃⲏⲏⲧⲟⲩ.   \n",
       "2  ϫⲉⲥⲉⲛⲁⲡⲱⲧ ⲉϩⲟⲩⲛ ⲉⲛⲉⲩⲉⲣⲏⲩ ϩⲛⲟⲩⲱϣ ⲛⲥⲁⲣⲕⲓⲕⲟⲛ .   \n",
       "3           ⲙⲁⲧⲁⲙⲟⲓ ⲉⲧⲃⲏⲏⲧⲟⲩ ϩⲛⲟⲩⲱⲣϫ ϫⲉⲉⲓⲉⲉⲓⲙⲉ   \n",
       "4              ⲁⲩⲱ ϯⲛⲁⲧⲁⲙⲱⲧⲛ ϫⲉⲉⲧⲉⲧⲛⲁⲣⲟⲩ ⲛⲁⲩ .   \n",
       "\n",
       "                                                norm  \\\n",
       "0                       ⲉ ⲙⲕⲁϩ ⲛⲓⲙ ⲉ ϥ ϩⲣⲁⲓ ϩⲓϫⲱ ⲓ .   \n",
       "1        ⲉⲧⲃⲉ ⲛ ϣⲉⲉⲣⲉ ⲇⲉ ϣⲏⲙ ⲛⲧ ⲁ ⲛ ⲥⲱⲧⲙ ⲉⲧⲃⲏⲏⲧ ⲟⲩ .   \n",
       "2  ϫⲉ ⲥⲉ ⲛⲁ ⲡⲱⲧ ⲉϩⲟⲩⲛ ⲉ ⲛⲉⲩ ⲉⲣⲏⲩ ϩⲛ ⲟⲩⲱϣ ⲛ ⲥⲁⲣⲕⲓⲕ...   \n",
       "3          ⲙⲁ ⲧⲁⲙⲟ ⲓ ⲉⲧⲃⲏⲏⲧ ⲟⲩ ϩⲛ ⲟⲩ ⲱⲣϫ ϫⲉ ⲉⲓⲉ ⲉⲓⲙⲉ   \n",
       "4          ⲁⲩⲱ ϯ ⲛⲁ ⲧⲁⲙⲱ ⲧⲛ ϫⲉ ⲉ ⲧⲉⲧⲛ ⲛⲁ ⲣ ⲟⲩ ⲛⲁ ⲩ .   \n",
       "\n",
       "                                                func  \\\n",
       "0  case root det mark nsubj acl:relcl case acl:re...   \n",
       "1  case det root advmod obl:npmod mark aux nsubj ...   \n",
       "2  mark nsubj aux root advmod case det obl case o...   \n",
       "3  root xcomp obj case obl case det obl mark nsub...   \n",
       "4  cc nsubj aux root obj mark mark nsubj aux ccom...   \n",
       "\n",
       "                                                 pos  arabic  \\\n",
       "0        PREP N PINT PREP PPERO ADV PREP PPERO PUNCT     NaN   \n",
       "1  PREP ART N PTC N CREL APST PPERS V PREP PPERO ...     NaN   \n",
       "2  CONJ PPERS FUT V ADV PREP PPOS N PREP N PREP N...     NaN   \n",
       "3  VIMP V PPERO PREP PPERO PREP ART N CONJ AOPT_P...     NaN   \n",
       "4  CONJ PPERS FUT V PPERO CONJ CFOC PPERS FUT V P...     NaN   \n",
       "\n",
       "  meta::translation                meta::title  \\\n",
       "0       Amir Zeldes  Acephalous 22: YA 517-518   \n",
       "1       Amir Zeldes  Acephalous 22: YA 517-518   \n",
       "2       Amir Zeldes  Acephalous 22: YA 517-518   \n",
       "3       Amir Zeldes  Acephalous 22: YA 517-518   \n",
       "4       Amir Zeldes  Acephalous 22: YA 517-518   \n",
       "\n",
       "                            unnormalized  \\\n",
       "0                    ⲉⲙⲕⲁϩⲛⲓⲙⲉϥϩⲣⲁⲓϩⲓϫⲱⲓ   \n",
       "1        ⲉⲧⲃⲉⲛϣⲉⲉⲣⲉⲇⲉϣⲏⲙⲛⲧⲁⲛⲥⲱⲧⲙⲉⲧⲃⲏⲏⲧⲟⲩ   \n",
       "2  ϫⲉⲥⲉⲛⲁⲡⲱⲧⲉϩⲟⲩⲛⲉⲛⲉⲩⲉⲣⲏⲩϩⲛⲟⲩⲱϣⲛⲥⲁⲣⲕⲓⲕⲟⲛ   \n",
       "3        ⲙⲁⲧⲁⲙⲟⲓⲉⲧⲃⲏⲏⲧⲟⲩϩⲛⲟⲩⲱⲣϫϫⲉⲉⲓⲉⲉⲓⲙⲉ   \n",
       "4            ⲁⲩⲱϯⲛⲁⲧⲁⲙⲱⲧⲛϫⲉⲉⲧⲉⲧⲛⲛⲁⲣⲟⲩⲛⲁⲩ   \n",
       "\n",
       "                                      norm_romanized  \\\n",
       "0         eie mkah niaum eie f hraiau hiaugoou iau .   \n",
       "1  eietveie n sheieeiereie deie shhm nt a n soout...   \n",
       "2  geie seie na poout eiehouan eie neieua eierhua...   \n",
       "3  ma tamo iau eietvhht oua hn oua oourg geie eie...   \n",
       "4  auaoou d na tamoou tn geie eie teietn na r oua...   \n",
       "\n",
       "                                norm_group_romanized  \\\n",
       "0             eiemkah niaum eiefhraiau hiaugoouiau .   \n",
       "1  eietveiensheieeiereie deie shhm ntansooutm eie...   \n",
       "2  geieseienapoout eiehouan eieneieuaeierhua hnou...   \n",
       "3  matamoiau eietvhhtoua hnouaoourg geieeieiaueie...   \n",
       "4       auaoou dnatamooutn geieeieteietnaroua naua .   \n",
       "\n",
       "                              unnormalized_romanized  \\\n",
       "0                  eiemkahniaumeiefhraiauhiaugoouiau   \n",
       "1  eietveiensheieeiereiedeieshhmntansooutmeietvhh...   \n",
       "2  geieseienapoouteiehouaneieneieuaeierhuahnouaoo...   \n",
       "3  matamoiaueietvhhtouahnouaoourggeieeieiaueieeie...   \n",
       "4           auaooudnatamooutngeieeieteietnnarouanaua   \n",
       "\n",
       "                                     norm_greekified  \\\n",
       "0                       ε μκαh νιμ ε f hραι hιjω ι .   \n",
       "1        ετβε ν sεερε δε sημ ντ α ν σωτμ ετβηητ ου .   \n",
       "2  jε σε να πωτ εhουν ε νευ ερηυ hν ουωs ν σαρκικ...   \n",
       "3          μα ταμο ι ετβηητ ου hν ου ωρj jε ειε ειμε   \n",
       "4          αυω t να ταμω τν jε ε τετν να ρ ου να υ .   \n",
       "\n",
       "                         norm_group_greekified  \\\n",
       "0                     εμκαh νιμ εfhραι hιjωι .   \n",
       "1         ετβενsεερε δε sημ ντανσωτμ ετβηητου.   \n",
       "2  jεσεναπωτ εhουν ενευερηυ hνουωs νσαρκικον .   \n",
       "3           ματαμοι ετβηητου hνουωρj jεειεειμε   \n",
       "4              αυω tναταμωτν jεετετναρου ναυ .   \n",
       "\n",
       "                 unnormalized_greekified  \\\n",
       "0                    εμκαhνιμεfhραιhιjωι   \n",
       "1        ετβενsεερεδεsημντανσωτμετβηητου   \n",
       "2  jεσεναπωτεhουνενευερηυhνουωsνσαρκικον   \n",
       "3        ματαμοιετβηητουhνουωρjjεειεειμε   \n",
       "4            αυωtναταμωτνjεετετνναρουναυ   \n",
       "\n",
       "                              dictionary_translation  \n",
       "0  ⲡⲣⲟⲥⲣⲁϥ ⲕⲁⲧⲁⲣⲟⲕ ⲗⲩⲡⲏ ⲅⲉϩⲉⲛⲛⲁ ⲧⲉⲭⲛⲏ ⲁⲛⲁⲃⲁⲥⲓⲥ ⲕⲁ...  \n",
       "1  ⲭⲥ ⲡⲣⲟⲥⲣⲁϥ ⲧ ϩⲟⲗⲓⲅⲟⲛ ϩⲟⲣⲕϥ ⲅⲉϩⲉⲛⲛⲁ ⲁⲛⲛ ϫⲓ ϣⲙϣⲏ...  \n",
       "2  ϩⲟⲥⲧⲉ ⲟⲩ ⲁⲡⲟⲥⲧⲁⲧⲏⲏⲥ ⲡⲣⲟⲥⲣⲁϥ ⲕⲁⲧⲁⲣⲟⲕ ϩⲟⲉⲓⲛⲉ ⲕⲁⲧ...  \n",
       "3  ϫⲟⲟⲕⲉϥ ⲉⲑⲛⲟⲥ ⲕⲁⲧⲁⲣⲟⲕ ⲥⲟⲩ ⲁⲥⲫⲁⲗⲱⲥ ϩⲟⲥⲧⲉ ⲁⲛⲅ ϫⲱⲱ...  \n",
       "4  ϩⲁⲉⲟⲟⲩ ⲁⲛⲅ ⲑⲉⲗⲏⲙⲁ ϫⲛⲟⲩ ⲧⲏⲩⲧⲛ ⲟⲩ ⲁϩⲣⲏⲧⲟⲥ ⲧⲉⲭⲛⲏ ...  "
      ]
     },
     "execution_count": 40,
     "metadata": {},
     "output_type": "execute_result"
    }
   ],
   "source": [
    "data_sets[0].head()"
   ]
  },
  {
   "cell_type": "code",
   "execution_count": 55,
   "metadata": {},
   "outputs": [
    {
     "name": "stdout",
     "output_type": "stream",
     "text": [
      "Computing bleu for Amir.csv...\n",
      "norm:\n",
      "BLEU = 0.40 9.8/0.3/0.2/0.1 (BP = 0.887 ratio = 0.893 hyp_len = 183 ref_len = 205)\n",
      "norm_group:\n",
      "BLEU = 0.26 1.1/0.3/0.2/0.1 (BP = 1.000 ratio = 2.103 hyp_len = 183 ref_len = 87)\n",
      "Computing chrf for Amir.csv...\n",
      "chrF2 = 15.66\n",
      "norm_group:\n",
      "chrF2 = 15.66\n",
      "Computing bleu for Budge.csv...\n",
      "norm:\n",
      "BLEU = 0.20 7.4/0.5/0.0/0.0 (BP = 0.924 ratio = 0.926 hyp_len = 1748 ref_len = 1887)\n",
      "norm_group:\n",
      "BLEU = 0.05 1.5/0.0/0.0/0.0 (BP = 1.000 ratio = 1.876 hyp_len = 1748 ref_len = 932)\n",
      "Computing chrf for Budge.csv...\n",
      "chrF2 = 18.72\n",
      "norm_group:\n",
      "chrF2 = 18.67\n",
      "Computing bleu for NT.csv...\n",
      "norm:\n",
      "BLEU = 0.19 8.8/0.7/0.0/0.0 (BP = 0.757 ratio = 0.782 hyp_len = 1577 ref_len = 2017)\n",
      "norm_group:\n",
      "BLEU = 0.05 1.1/0.0/0.0/0.0 (BP = 1.000 ratio = 1.714 hyp_len = 1577 ref_len = 920)\n",
      "Computing chrf for NT.csv...\n",
      "chrF2 = 19.03\n",
      "norm_group:\n",
      "chrF2 = 19.03\n",
      "Computing bleu for OT.csv...\n",
      "norm:\n",
      "BLEU = 0.18 7.7/0.3/0.1/0.0 (BP = 0.671 ratio = 0.715 hyp_len = 1686 ref_len = 2358)\n",
      "norm_group:\n",
      "BLEU = 0.05 1.1/0.0/0.0/0.0 (BP = 1.000 ratio = 1.606 hyp_len = 1686 ref_len = 1050)\n",
      "Computing chrf for OT.csv...\n",
      "chrF2 = 20.12\n",
      "norm_group:\n",
      "chrF2 = 20.12\n"
     ]
    }
   ],
   "source": [
    "for i, dataset in enumerate(data_sets):\n",
    "    print(f\"Computing bleu for {test_dataset[i]}...\")\n",
    "    print(sacrebleu.corpus_bleu(list(dataset[tgt_col]), [list(dataset[\"norm\"])]).score)\n",
    "    print(f\"Computing chrf for {test_dataset[i]}...\")\n",
    "    print(sacrebleu.corpus_chrf(list(dataset[tgt_col]), [list(dataset[\"norm\"])]).score)\n",
    "    break"
   ]
  },
  {
   "cell_type": "code",
   "execution_count": null,
   "metadata": {},
   "outputs": [],
   "source": []
  }
 ],
 "metadata": {
  "kernelspec": {
   "display_name": "coptic",
   "language": "python",
   "name": "python3"
  },
  "language_info": {
   "codemirror_mode": {
    "name": "ipython",
    "version": 3
   },
   "file_extension": ".py",
   "mimetype": "text/x-python",
   "name": "python",
   "nbconvert_exporter": "python",
   "pygments_lexer": "ipython3",
   "version": "3.11.0"
  }
 },
 "nbformat": 4,
 "nbformat_minor": 2
}
