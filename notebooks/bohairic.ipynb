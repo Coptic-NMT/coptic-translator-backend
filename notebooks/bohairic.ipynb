{
 "cells": [
  {
   "cell_type": "code",
   "execution_count": 1,
   "metadata": {},
   "outputs": [
    {
     "name": "stdout",
     "output_type": "stream",
     "text": [
      "/mnt/storage/maxenis/coptic-machine-translation\n"
     ]
    }
   ],
   "source": [
    "%cd /mnt/storage/maxenis/coptic-machine-translation"
   ]
  },
  {
   "cell_type": "code",
   "execution_count": 2,
   "metadata": {},
   "outputs": [],
   "source": [
    "import pandas as pd\n",
    "import datasets\n",
    "import huggingface_model\n",
    "from config_consts import *\n",
    "import parse_data"
   ]
  },
  {
   "cell_type": "code",
   "execution_count": 2,
   "metadata": {},
   "outputs": [],
   "source": [
    "df = pd.DataFrame({'norm_group': [], 'translation': []})"
   ]
  },
  {
   "cell_type": "code",
   "execution_count": 3,
   "metadata": {},
   "outputs": [],
   "source": [
    "# Add row to df\n",
    "df.loc[0] = [\"ϯⲛⲁϣⲗⲏⲗ ϧⲉⲛ ϯⲉⲕⲕⲗⲏⲥⲓⲁ ⲛⲣⲁⲥϯ\", \"I’ll pray in the church tomorrow\"]\n",
    "df.loc[1] = [\"ϥⲛⲁⲓ ⲛⲉⲙ ⲡⲉϥⲓⲱⲧ ⲉ ⲡⲉⲛⲏⲓ\", \"he will come with his father to our house\"]\n",
    "df.loc[2] = [\"ⲧⲉⲛⲛⲁⲥⲱⲧⲉⲙ ⲉ ϯⲁⲛⲁⲫⲟⲣⲁ ⲛⲧⲉ ⲡⲉⲛⲓⲱⲧ ⲙⲟⲣⲕⲟⲥ\", \"we shall listen to the mass of our father Morkos\"]\n",
    "df.loc[3] = [\"ⲛⲓⲁⲗⲱⲟⲩⲓ ⲥⲉⲛⲁⲁⲣⲉϩ ⲉ ⲛⲟⲩⲱϣ\", \"the children will study their lessons\"]\n",
    "df.loc[4] = [\"ϯⲛⲁϭⲓ ⲛϩⲁⲛⲗⲟⲩⲕⲟⲩϫⲓ ⲉⲃⲟⲗ ϧⲉⲛ ⲡⲁⲥⲟⲛ\", \"I’ll take some money from my brother\"]\n",
    "df.loc[5] = [\"ϯⲛⲁⲓ ⲁⲛ ⲛⲣⲁⲥϯ ⲁⲗⲗⲁ ⲧⲛⲁⲓ ⲛⲥⲁⲣⲁⲥϯ\", \"I shall not come tomorrow, but I shall come the day after tomorrow\"]\n",
    "df.loc[6] = [\"ϯⲛⲁⲙⲟⲩⲕϩ ⲁⲙⲁϣⲱ ⲓⲥϫⲉ ⲕⲥⲱⲧⲉⲙ ⲁⲛ\", \"I’ll be very upset if you don't listen\"]\n",
    "df.loc[7] = [\"ⲧⲉⲛⲛⲁϣⲱⲡ ⲛϩⲁⲛϩⲣⲏⲣⲓ ⲉⲑⲃⲉ ⲧⲉⲛⲙⲁⲩ\", \"we shall buy some flowers for our mother\"]\n",
    "df.loc[8] = [\"ⲧⲉⲛⲁⲭⲱ ⲛⲟⲩϩⲙⲟⲩ ⲉϫⲉⲛ ϯϧⲣⲉ\", \"will you put salt on the food?\"]\n",
    "df.loc[9] = [\"ⲕⲟⲩⲱϣ ⲉⲟⲩⲱⲙ ϯⲛⲟⲩ\", \"do you want to eat now?\"]\n",
    "df.loc[10] = [\"ϯⲥⲱⲟⲩⲛ ⲁⲛ ⲓⲥϫⲉ ϥⲛⲁⲓ ⲓⲉ ⲙⲙⲟⲛ\", \"I do not know whether he will come or not\"]"
   ]
  },
  {
   "cell_type": "code",
   "execution_count": 4,
   "metadata": {},
   "outputs": [],
   "source": [
    "df.to_csv('../datasets/bohairic.csv', index=False)"
   ]
  },
  {
   "cell_type": "code",
   "execution_count": 15,
   "metadata": {},
   "outputs": [],
   "source": [
    "df = pd.read_csv('datasets/bohairic.csv')"
   ]
  },
  {
   "cell_type": "code",
   "execution_count": 17,
   "metadata": {},
   "outputs": [],
   "source": [
    "df = parse_data.greekify_columns(df, [\"norm_group\"])"
   ]
  },
  {
   "cell_type": "code",
   "execution_count": 19,
   "metadata": {},
   "outputs": [],
   "source": [
    "df.to_csv('datasets/bohairic-greekified.csv', index=False)"
   ]
  },
  {
   "cell_type": "code",
   "execution_count": 20,
   "metadata": {},
   "outputs": [
    {
     "data": {
      "application/vnd.jupyter.widget-view+json": {
       "model_id": "a753c254e65c41bca1ec04afda181f04",
       "version_major": 2,
       "version_minor": 0
      },
      "text/plain": [
       "Downloading data files:   0%|          | 0/1 [00:00<?, ?it/s]"
      ]
     },
     "metadata": {},
     "output_type": "display_data"
    },
    {
     "data": {
      "application/vnd.jupyter.widget-view+json": {
       "model_id": "3d6299bbab6f442b95a75bdd15de0df5",
       "version_major": 2,
       "version_minor": 0
      },
      "text/plain": [
       "Extracting data files:   0%|          | 0/1 [00:00<?, ?it/s]"
      ]
     },
     "metadata": {},
     "output_type": "display_data"
    },
    {
     "data": {
      "application/vnd.jupyter.widget-view+json": {
       "model_id": "1934d572fa2c46b3a98dd733c8bdd2ce",
       "version_major": 2,
       "version_minor": 0
      },
      "text/plain": [
       "Generating train split: 0 examples [00:00, ? examples/s]"
      ]
     },
     "metadata": {},
     "output_type": "display_data"
    }
   ],
   "source": [
    "data = datasets.load_dataset('csv', data_files='datasets/bohairic-greekified.csv')"
   ]
  },
  {
   "cell_type": "code",
   "execution_count": 22,
   "metadata": {},
   "outputs": [
    {
     "data": {
      "text/plain": [
       "['tναsληλ kεν tεκκλησια νρασt',\n",
       " 'fναι νεμ πεfιωτ ε πενηι',\n",
       " 'τεννασωτεμ ε tαναφορα ντε πενιωτ μορκοσ',\n",
       " 'νιαλωουι σενααρεh ε νουωs',\n",
       " 'tναcι νhανλουκουjι εβολ kεν πασον',\n",
       " 'tναι αν νρασt αλλα τναι νσαρασt',\n",
       " 'tναμουκh αμαsω ισjε κσωτεμ αν',\n",
       " 'τενναsωπ νhανhρηρι εθβε τενμαυ',\n",
       " 'τεναχω νουhμου εjεν tkρε',\n",
       " 'κουωs εουωμ tνου',\n",
       " 'tσωουν αν ισjε fναι ιε μμον']"
      ]
     },
     "execution_count": 22,
     "metadata": {},
     "output_type": "execute_result"
    }
   ],
   "source": [
    "data[\"train\"][\"norm_group_greekified\"]"
   ]
  },
  {
   "cell_type": "code",
   "execution_count": 23,
   "metadata": {},
   "outputs": [
    {
     "data": {
      "application/vnd.jupyter.widget-view+json": {
       "model_id": "a6a2efa1068548daa20c7a0026a840b6",
       "version_major": 2,
       "version_minor": 0
      },
      "text/plain": [
       "Map:   0%|          | 0/11 [00:00<?, ? examples/s]"
      ]
     },
     "metadata": {},
     "output_type": "display_data"
    }
   ],
   "source": [
    "data = data.map(lambda x: {'translation': {\"cop\": x['norm_group_greekified'], \"eng\": x['translation']}})"
   ]
  },
  {
   "cell_type": "code",
   "execution_count": 24,
   "metadata": {},
   "outputs": [
    {
     "data": {
      "text/plain": [
       "DatasetDict({\n",
       "    train: Dataset({\n",
       "        features: ['norm_group', 'translation', 'norm_group_greekified'],\n",
       "        num_rows: 11\n",
       "    })\n",
       "})"
      ]
     },
     "execution_count": 24,
     "metadata": {},
     "output_type": "execute_result"
    }
   ],
   "source": [
    "data"
   ]
  },
  {
   "cell_type": "code",
   "execution_count": 28,
   "metadata": {},
   "outputs": [
    {
     "data": {
      "text/plain": [
       "Dataset({\n",
       "    features: ['norm_group', 'translation', 'norm_group_greekified'],\n",
       "    num_rows: 11\n",
       "})"
      ]
     },
     "execution_count": 28,
     "metadata": {},
     "output_type": "execute_result"
    }
   ],
   "source": [
    "data['train']"
   ]
  },
  {
   "cell_type": "code",
   "execution_count": 26,
   "metadata": {},
   "outputs": [
    {
     "data": {
      "application/vnd.jupyter.widget-view+json": {
       "model_id": "19d1de402a11420e8913174ab698c2a6",
       "version_major": 2,
       "version_minor": 0
      },
      "text/plain": [
       "Saving the dataset (0/1 shards):   0%|          | 0/11 [00:00<?, ? examples/s]"
      ]
     },
     "metadata": {},
     "output_type": "display_data"
    }
   ],
   "source": [
    "data.save_to_disk('../datasets/bohairic-greekified')"
   ]
  },
  {
   "cell_type": "code",
   "execution_count": 12,
   "metadata": {},
   "outputs": [],
   "source": [
    "model = huggingface_model.HuggingFaceTranslationModel.from_pretrained('models/hf/fifth_attempt-norm_group_greekified-finetuned-cop-eng')\n"
   ]
  },
  {
   "cell_type": "code",
   "execution_count": 30,
   "metadata": {},
   "outputs": [
    {
     "data": {
      "application/vnd.jupyter.widget-view+json": {
       "model_id": "4622a9e0349947a28d666364ba51bb0f",
       "version_major": 2,
       "version_minor": 0
      },
      "text/plain": [
       "Downloading data files:   0%|          | 0/1 [00:00<?, ?it/s]"
      ]
     },
     "metadata": {},
     "output_type": "display_data"
    },
    {
     "data": {
      "application/vnd.jupyter.widget-view+json": {
       "model_id": "2323c13dda354a66889e2980afeff792",
       "version_major": 2,
       "version_minor": 0
      },
      "text/plain": [
       "Extracting data files:   0%|          | 0/1 [00:00<?, ?it/s]"
      ]
     },
     "metadata": {},
     "output_type": "display_data"
    },
    {
     "data": {
      "application/vnd.jupyter.widget-view+json": {
       "model_id": "e075d1e12b9744228d7cae6559f16e70",
       "version_major": 2,
       "version_minor": 0
      },
      "text/plain": [
       "Generating train split: 0 examples [00:00, ? examples/s]"
      ]
     },
     "metadata": {},
     "output_type": "display_data"
    },
    {
     "data": {
      "application/vnd.jupyter.widget-view+json": {
       "model_id": "0ab88b3a11284ca988e7aee9e6c0090f",
       "version_major": 2,
       "version_minor": 0
      },
      "text/plain": [
       "Map:   0%|          | 0/11 [00:00<?, ? examples/s]"
      ]
     },
     "metadata": {},
     "output_type": "display_data"
    },
    {
     "name": "stdout",
     "output_type": "stream",
     "text": [
      "Computing translations from cop-eng.\n"
     ]
    },
    {
     "name": "stderr",
     "output_type": "stream",
     "text": [
      "  0%|          | 0/11 [00:00<?, ?it/s]/home/bizon/anaconda3/envs/coptic/lib/python3.11/site-packages/transformers/generation/configuration_utils.py:367: UserWarning: `do_sample` is set to `False`. However, `top_p` is set to `0.95` -- this flag is only used in sample-based generation modes. You should set `do_sample=True` or unset `top_p`.\n",
      "  warnings.warn(\n",
      "Both `max_new_tokens` (=128) and `max_length`(=20) seem to have been set. `max_new_tokens` will take precedence. Please refer to the documentation for more information. (https://huggingface.co/docs/transformers/main/en/main_classes/text_generation)\n",
      "  9%|▉         | 1/11 [00:00<00:03,  3.16it/s]Both `max_new_tokens` (=128) and `max_length`(=20) seem to have been set. `max_new_tokens` will take precedence. Please refer to the documentation for more information. (https://huggingface.co/docs/transformers/main/en/main_classes/text_generation)\n",
      " 18%|█▊        | 2/11 [00:00<00:02,  3.19it/s]Both `max_new_tokens` (=128) and `max_length`(=20) seem to have been set. `max_new_tokens` will take precedence. Please refer to the documentation for more information. (https://huggingface.co/docs/transformers/main/en/main_classes/text_generation)\n",
      " 27%|██▋       | 3/11 [00:01<00:02,  2.89it/s]Both `max_new_tokens` (=128) and `max_length`(=20) seem to have been set. `max_new_tokens` will take precedence. Please refer to the documentation for more information. (https://huggingface.co/docs/transformers/main/en/main_classes/text_generation)\n",
      " 36%|███▋      | 4/11 [00:01<00:02,  3.42it/s]Both `max_new_tokens` (=128) and `max_length`(=20) seem to have been set. `max_new_tokens` will take precedence. Please refer to the documentation for more information. (https://huggingface.co/docs/transformers/main/en/main_classes/text_generation)\n",
      " 45%|████▌     | 5/11 [00:01<00:01,  3.81it/s]Both `max_new_tokens` (=128) and `max_length`(=20) seem to have been set. `max_new_tokens` will take precedence. Please refer to the documentation for more information. (https://huggingface.co/docs/transformers/main/en/main_classes/text_generation)\n",
      " 55%|█████▍    | 6/11 [00:01<00:01,  4.00it/s]Both `max_new_tokens` (=128) and `max_length`(=20) seem to have been set. `max_new_tokens` will take precedence. Please refer to the documentation for more information. (https://huggingface.co/docs/transformers/main/en/main_classes/text_generation)\n",
      " 64%|██████▎   | 7/11 [00:01<00:00,  4.26it/s]Both `max_new_tokens` (=128) and `max_length`(=20) seem to have been set. `max_new_tokens` will take precedence. Please refer to the documentation for more information. (https://huggingface.co/docs/transformers/main/en/main_classes/text_generation)\n",
      " 73%|███████▎  | 8/11 [00:02<00:00,  4.83it/s]Both `max_new_tokens` (=128) and `max_length`(=20) seem to have been set. `max_new_tokens` will take precedence. Please refer to the documentation for more information. (https://huggingface.co/docs/transformers/main/en/main_classes/text_generation)\n",
      " 82%|████████▏ | 9/11 [00:02<00:00,  5.31it/s]Both `max_new_tokens` (=128) and `max_length`(=20) seem to have been set. `max_new_tokens` will take precedence. Please refer to the documentation for more information. (https://huggingface.co/docs/transformers/main/en/main_classes/text_generation)\n",
      "Both `max_new_tokens` (=128) and `max_length`(=20) seem to have been set. `max_new_tokens` will take precedence. Please refer to the documentation for more information. (https://huggingface.co/docs/transformers/main/en/main_classes/text_generation)\n",
      "100%|██████████| 11/11 [00:02<00:00,  4.57it/s]"
     ]
    },
    {
     "name": "stdout",
     "output_type": "stream",
     "text": [
      "Translations completed. Computing metrics...\n",
      "BLEU = 1.54 15.5/3.8/0.4/0.2 (BP = 1.000 ratio = 1.527 hyp_len = 142 ref_len = 93)\n",
      "chrF2 = 21.29\n"
     ]
    },
    {
     "name": "stderr",
     "output_type": "stream",
     "text": [
      "\n"
     ]
    }
   ],
   "source": [
    "data = parse_data.load_test_set(\"datasets/bohairic-greekified.csv\", \"cop\", \"eng\", \"norm_group_greekified\", \"translation\")\n",
    "model.translate_test_data(data, BEAM_GENERATION_CONFIG)"
   ]
  },
  {
   "cell_type": "code",
   "execution_count": null,
   "metadata": {},
   "outputs": [],
   "source": []
  }
 ],
 "metadata": {
  "kernelspec": {
   "display_name": "coptic",
   "language": "python",
   "name": "python3"
  },
  "language_info": {
   "codemirror_mode": {
    "name": "ipython",
    "version": 3
   },
   "file_extension": ".py",
   "mimetype": "text/x-python",
   "name": "python",
   "nbconvert_exporter": "python",
   "pygments_lexer": "ipython3",
   "version": "3.11.0"
  }
 },
 "nbformat": 4,
 "nbformat_minor": 2
}
